{
 "cells": [
  {
   "cell_type": "code",
   "execution_count": 1,
   "metadata": {},
   "outputs": [],
   "source": [
    "%config InlineBackend.figure_format = 'retina'\n",
    "%matplotlib inline\n",
    "import os\n",
    "import pandas as pd\n",
    "import numpy as np\n",
    "import seaborn as sns\n",
    "from matplotlib import pyplot as plt\n",
    "from tqdm import tqdm\n",
    "sns.set_palette('Dark2')\n",
    "sns.set_style({'axes.axisbelow': True, 'axes.edgecolor': '.15', 'axes.facecolor': 'white',\n",
    "               'axes.grid': True, 'axes.labelcolor': '.15', 'axes.linewidth': 1.25, \n",
    "               'figure.facecolor': 'white', 'font.family': ['sans-serif'], 'grid.color': '.15',\n",
    "               'grid.linestyle': ':', 'grid.alpha': .5, 'image.cmap': 'Greys', \n",
    "               'legend.frameon': False, 'legend.numpoints': 1, 'legend.scatterpoints': 1,\n",
    "               'lines.solid_capstyle': 'round', 'axes.spines.right': False, 'axes.spines.top': False,  \n",
    "               'text.color': '.15',  'xtick.top': False, 'ytick.right': False, 'xtick.color': '.15',\n",
    "               'xtick.direction': 'out', 'xtick.major.size': 6, 'xtick.minor.size': 3,\n",
    "               'ytick.color': '.15', 'ytick.direction': 'out', 'ytick.major.size': 6,'ytick.minor.size': 3})\n",
    "sns.set_context('talk')"
   ]
  },
  {
   "cell_type": "code",
   "execution_count": 2,
   "metadata": {},
   "outputs": [],
   "source": [
    "from snapanalysis.config import OUTPUT_DIRECTORY as OUTPUT_DIRECTORY_MAIN\n",
    "\n",
    "OUTPUT_DIRECTORY = os.path.join(OUTPUT_DIRECTORY_MAIN, 'metadata')\n",
    "if not os.path.isdir(OUTPUT_DIRECTORY):\n",
    "    os.makedirs(OUTPUT_DIRECTORY)"
   ]
  },
  {
   "cell_type": "code",
   "execution_count": 3,
   "metadata": {},
   "outputs": [],
   "source": [
    "from snapanalysis.preprocessing.raw.identifier_conversion import PULLDOWN_ID_MAP"
   ]
  },
  {
   "cell_type": "code",
   "execution_count": 4,
   "metadata": {},
   "outputs": [
    {
     "name": "stdout",
     "output_type": "stream",
     "text": [
      "/meta/color_palette\n",
      "/meta/coloured_predictors\n",
      "/meta/coloured_predictors_directionalised\n",
      "/meta/coloured_predictors_directionalised_with_nulls\n",
      "/meta/coloured_predictors_with_nulls\n",
      "/meta/dates\n",
      "/meta/dna\n",
      "/meta/names_and_types\n",
      "/meta/octamers\n",
      "/meta/octamers_categorical\n",
      "/meta/predictors\n",
      "/meta/predictors_categorical\n",
      "/meta/predictors_categorical_directionalised\n",
      "/meta/predictors_categorical_directionalised_long\n",
      "/meta/predictors_web\n",
      "/meta/predictors_with_redundancy\n"
     ]
    }
   ],
   "source": [
    "from snapanalysis.preprocessing.pulldown_metadata import OUTPUT_FILE as PD_META_OUT\n",
    "from snapanalysis.preprocessing.pulldown_metadata import _INPUT_SPREADSHEET as EXCEL_INPUT\n",
    "\n",
    "with pd.HDFStore(PD_META_OUT, 'r') as store:\n",
    "    dates = pd.read_hdf(PD_META_OUT, '/meta/dates')\n",
    "    dna_type = pd.read_hdf(PD_META_OUT, '/meta/dna')\n",
    "    print('\\n'.join(store.keys()))"
   ]
  },
  {
   "cell_type": "code",
   "execution_count": null,
   "metadata": {},
   "outputs": [],
   "source": []
  },
  {
   "cell_type": "code",
   "execution_count": 5,
   "metadata": {},
   "outputs": [],
   "source": [
    "df = pd.read_excel(EXCEL_INPUT).dropna(subset=['PD code'])\n",
    "df.columns = [x.strip() for x in df.columns]\n",
    "df = df.rename(columns={\"PD code\": \"Nhuongs_code\", \n",
    "                        'Forward Assembled on': 'Forward assembly date',\n",
    "                        'Forward Pulldowed  on': 'Forward PD date',\n",
    "                        'Reverse Assembled on': 'Reverse assembly date',\n",
    "                        'Reverse Pulldowned on': 'Reverse PD date',\n",
    "                        })\n",
    "\n",
    "df['Pull-Down ID'] = df['Nhuongs_code'].apply(PULLDOWN_ID_MAP.get)\n",
    "df['Pull-Down ID'] = df['Pull-Down ID'].fillna('Not used')"
   ]
  },
  {
   "cell_type": "code",
   "execution_count": 6,
   "metadata": {},
   "outputs": [
    {
     "data": {
      "text/plain": [
       "Index(['Nhuongs_code', 'Octamer Name', 'Forward assembly date',\n",
       "       'Forward PD date', 'Reverse assembly date', 'Reverse PD date',\n",
       "       'DNA type', 'Comments', 'Pull-Down ID'],\n",
       "      dtype='object')"
      ]
     },
     "execution_count": 6,
     "metadata": {},
     "output_type": "execute_result"
    }
   ],
   "source": [
    "df.columns"
   ]
  },
  {
   "cell_type": "code",
   "execution_count": 7,
   "metadata": {},
   "outputs": [],
   "source": [
    "df = df[['Nhuongs_code', 'Pull-Down ID', \n",
    "         'Octamer Name', \n",
    "         'Forward assembly date', \n",
    "         'Forward PD date',\n",
    "         'Reverse assembly date',\n",
    "         'Reverse PD date',\n",
    "         'DNA type',\n",
    "         'Comments'\n",
    "        ]].copy()"
   ]
  },
  {
   "cell_type": "code",
   "execution_count": 8,
   "metadata": {},
   "outputs": [],
   "source": [
    "df.to_excel(os.path.join(OUTPUT_DIRECTORY, 'PDs_with_reassigned_labels.xlsx'), index=False)"
   ]
  },
  {
   "cell_type": "code",
   "execution_count": null,
   "metadata": {},
   "outputs": [],
   "source": []
  }
 ],
 "metadata": {
  "kernelspec": {
   "display_name": "Python 3",
   "language": "python",
   "name": "python3"
  },
  "language_info": {
   "codemirror_mode": {
    "name": "ipython",
    "version": 3
   },
   "file_extension": ".py",
   "mimetype": "text/x-python",
   "name": "python",
   "nbconvert_exporter": "python",
   "pygments_lexer": "ipython3",
   "version": "3.6.8"
  }
 },
 "nbformat": 4,
 "nbformat_minor": 2
}
