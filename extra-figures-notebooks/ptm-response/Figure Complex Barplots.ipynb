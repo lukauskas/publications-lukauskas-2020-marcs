{
 "cells": [
  {
   "cell_type": "code",
   "execution_count": 1,
   "metadata": {},
   "outputs": [],
   "source": [
    "%config InlineBackend.figure_format = 'retina'\n",
    "%matplotlib inline\n",
    "import os\n",
    "import pandas as pd\n",
    "import numpy as np\n",
    "import seaborn as sns\n",
    "from matplotlib import pyplot as plt\n",
    "from tqdm import tqdm\n",
    "sns.set_palette('Dark2')\n",
    "sns.set_style({'axes.axisbelow': True, 'axes.edgecolor': '.15', 'axes.facecolor': 'white',\n",
    "               'axes.grid': True, 'axes.labelcolor': '.15', 'axes.linewidth': 1.25, \n",
    "               'figure.facecolor': 'white', 'font.family': ['sans-serif'], 'grid.color': '.15',\n",
    "               'grid.linestyle': ':', 'grid.alpha': .5, 'image.cmap': 'Greys', \n",
    "               'legend.frameon': False, 'legend.numpoints': 1, 'legend.scatterpoints': 1,\n",
    "               'lines.solid_capstyle': 'round', 'axes.spines.right': False, 'axes.spines.top': False,  \n",
    "               'text.color': '.15',  'xtick.top': False, 'ytick.right': False, 'xtick.color': '.15',\n",
    "               'xtick.direction': 'out', 'xtick.major.size': 6, 'xtick.minor.size': 3,\n",
    "               'ytick.color': '.15', 'ytick.direction': 'out', 'ytick.major.size': 6,'ytick.minor.size': 3})\n",
    "sns.set_context('paper')\n",
    "\n",
    "#http://phyletica.org/matplotlib-fonts/\n",
    "import matplotlib\n",
    "matplotlib.rcParams['pdf.fonttype'] = 42\n",
    "matplotlib.rcParams['ps.fonttype'] = 42"
   ]
  },
  {
   "cell_type": "code",
   "execution_count": 2,
   "metadata": {},
   "outputs": [],
   "source": [
    "import matplotlib.gridspec as gridspec"
   ]
  },
  {
   "cell_type": "code",
   "execution_count": 3,
   "metadata": {},
   "outputs": [],
   "source": [
    "from snapanalysis.config import OUTPUT_DIRECTORY as MAIN_OUTPUT_DIRECTORY\n",
    "OUTPUT_DIRECTORY = os.path.join(MAIN_OUTPUT_DIRECTORY, 'ptm-response')\n",
    "\n",
    "if not os.path.isdir(OUTPUT_DIRECTORY):\n",
    "    os.makedirs(OUTPUT_DIRECTORY)\n",
    "    \n",
    "OUTPUT_DIRECTORY_BARPLOTS = os.path.join(OUTPUT_DIRECTORY, 'barplots')\n",
    "\n",
    "if not os.path.isdir(OUTPUT_DIRECTORY_BARPLOTS):\n",
    "    os.makedirs(OUTPUT_DIRECTORY_BARPLOTS)"
   ]
  },
  {
   "cell_type": "code",
   "execution_count": 4,
   "metadata": {},
   "outputs": [],
   "source": [
    "from snapanalysis.models.ptm_response.main import OUTPUT_FILE as PTM_RESPONSE_FILE\n",
    "with pd.HDFStore(PTM_RESPONSE_FILE, 'r') as store:\n",
    "    \n",
    "    enrichment_complexes = store['ptm_stats/joint_camera_complexes']"
   ]
  },
  {
   "cell_type": "code",
   "execution_count": 5,
   "metadata": {},
   "outputs": [],
   "source": [
    "import importlib\n",
    "import helpers\n",
    "importlib.reload(helpers)\n",
    "from helpers import *"
   ]
  },
  {
   "cell_type": "code",
   "execution_count": 6,
   "metadata": {},
   "outputs": [
    {
     "name": "stdout",
     "output_type": "stream",
     "text": [
      "Informative URIs for predictors:\n",
      "\n",
      "               H2A.Z: http://ife-snap-data/proteins?pdorder=H36,H26,H37,H43,H45&showsimilar=false&noclusterproteins=true\n",
      "                H3ac: http://ife-snap-data/proteins?pdorder=H05,H10,H02,H12,H16,H20,H21,H25,H22,H26,H41,H43&showsimilar=false&noclusterproteins=true\n",
      "             H3K4me1: http://ife-snap-data/proteins?pdorder=H05,H03,H06,H13,H16,H30,H31,H15,H09&showsimilar=false&noclusterproteins=true\n",
      "             H3K4me3: http://ife-snap-data/proteins?pdorder=H02,H13,H21,H15,H11,H14,H22,H40,H41&showsimilar=false&noclusterproteins=true\n",
      "         H3K9acK14ac: http://ife-snap-data/proteins?pdorder=H15,H05,H09,H02,H11,H16,H18,H06,H19,H21,H23,H22,H24,H41,H42&showsimilar=false&noclusterproteins=true\n",
      "             H3K9me2: http://ife-snap-data/proteins?pdorder=H47,H27M,H47M&showsimilar=false&noclusterproteins=true\n",
      "             H3K9me3: http://ife-snap-data/proteins?pdorder=H01,H27M,H01M,H03,H04,H03M,H04M&showsimilar=false&noclusterproteins=true\n",
      "             H3K27ac: http://ife-snap-data/proteins?pdorder=H30,H05,H31&showsimilar=false&noclusterproteins=true\n",
      "            H3K27me2: http://ife-snap-data/proteins?pdorder=H46,H27M,H46M&showsimilar=false&noclusterproteins=true\n",
      "            H3K27me3: http://ife-snap-data/proteins?pdorder=H03,H27M,H03M,H01,H04,H05,H06,H01M,H04M,H09,H19&showsimilar=false&noclusterproteins=true\n",
      "                H4ac: http://ife-snap-data/proteins?pdorder=H14,H02,H22,H39,H40,H11,H24,H12,H26&showsimilar=false&noclusterproteins=true\n",
      "             H4K16ac: http://ife-snap-data/proteins?pdorder=H13,H05,H16,H02,H21,H29,H14,H09,H18,H11,H23,H10,H20,H12,H25&showsimilar=false&noclusterproteins=true\n",
      "            H4K20me2: http://ife-snap-data/proteins?pdorder=H39,H27M,H39M,H14,H40,H22,H41,H24,H42,H26,H43,H38,H44,H37,H45&showsimilar=false&noclusterproteins=true\n",
      "            H4K20me3: http://ife-snap-data/proteins?pdorder=H07,H27M,H07M,H04,H08,H04M,H08M&showsimilar=false&noclusterproteins=true\n",
      "     DNA Methylation: http://ife-snap-data/proteins?pdorder=H27M,H01,H01M,H03,H03M,H07,H07M,H39,H39M,H46,H46M,H47,H47M,H04,H04M,H08,H08M&showsimilar=false&noclusterproteins=true\n"
     ]
    }
   ],
   "source": [
    "import urllib\n",
    "\n",
    "print('Informative URIs for predictors:')\n",
    "print()\n",
    "\n",
    "for predictor in PREDICTOR_ORDER:\n",
    "    \n",
    "    uri = predictor_sorted_uri(predictor)\n",
    "    \n",
    "    print(f'{predictor:>20}: {uri}')"
   ]
  },
  {
   "cell_type": "code",
   "execution_count": 7,
   "metadata": {},
   "outputs": [],
   "source": [
    "color_me1 = '#BBE1BB'\n",
    "color_me2 = '#9FBA7D'\n",
    "color_me3 = '#6F9979'\n",
    "color_ac = '#6484A2'\n",
    "\n",
    "palette = {\n",
    "     'H2A.Z': '#786D9B',\n",
    "     'H3K4me1': color_me1,\n",
    "     'H3K4me3': color_me3,\n",
    "     'H3K9acK14ac': color_ac,\n",
    "     'H3K9me2': color_me2,\n",
    "     'H3K9me3': color_me3,\n",
    "     'H3K27ac': color_ac,\n",
    "     'H3K27me2': color_me2,\n",
    "     'H3K27me3': color_me3,\n",
    "     'H3ac': color_ac,\n",
    "     'H4K16ac': color_ac,\n",
    "     'H4K20me2': color_me2,\n",
    "     'H4K20me3': color_me3,\n",
    "     'H4ac': color_ac,\n",
    "     'DNA Methylation': '#85B3B2',\n",
    "}\n",
    "\n",
    "\n"
   ]
  },
  {
   "cell_type": "code",
   "execution_count": 8,
   "metadata": {},
   "outputs": [],
   "source": [
    "GROUPED_ORDER = [\n",
    "    ['H2A.Z', 'DNA Methylation'],\n",
    "    \n",
    "    ['H3K4me1', 'H3K4me3'],\n",
    "    ['H3ac', 'H3K9acK14ac', 'H3K27ac'],\n",
    "    \n",
    "    ['H3K9me2', 'H3K9me3'],\n",
    "    ['H3K27me2', 'H3K27me3'],\n",
    "    \n",
    "    ['H4ac', 'H4K16ac'],\n",
    "    ['H4K20me2', 'H4K20me3']\n",
    "]"
   ]
  },
  {
   "cell_type": "code",
   "execution_count": 9,
   "metadata": {},
   "outputs": [],
   "source": [
    "limma_results = load_limma_data()"
   ]
  },
  {
   "cell_type": "code",
   "execution_count": 10,
   "metadata": {},
   "outputs": [],
   "source": [
    "complexes_to_plot = sorted(enrichment_complexes.reset_index().query('significant')['Complex'].unique())"
   ]
  },
  {
   "cell_type": "code",
   "execution_count": 11,
   "metadata": {},
   "outputs": [
    {
     "data": {
      "text/html": [
       "<div>\n",
       "<style scoped>\n",
       "    .dataframe tbody tr th:only-of-type {\n",
       "        vertical-align: middle;\n",
       "    }\n",
       "\n",
       "    .dataframe tbody tr th {\n",
       "        vertical-align: top;\n",
       "    }\n",
       "\n",
       "    .dataframe thead th {\n",
       "        text-align: right;\n",
       "    }\n",
       "</style>\n",
       "<table border=\"1\" class=\"dataframe\">\n",
       "  <thead>\n",
       "    <tr style=\"text-align: right;\">\n",
       "      <th></th>\n",
       "      <th></th>\n",
       "      <th>NGenes</th>\n",
       "      <th>Direction</th>\n",
       "      <th>PValue</th>\n",
       "      <th>FDR</th>\n",
       "      <th>mean_logFC</th>\n",
       "      <th>mean_CI.L</th>\n",
       "      <th>mean_CI.R</th>\n",
       "      <th>mean_AveExpr</th>\n",
       "      <th>mean_t</th>\n",
       "      <th>mean_P.Value</th>\n",
       "      <th>...</th>\n",
       "      <th>mean_confint_half_width</th>\n",
       "      <th>mean_neg_log10_p</th>\n",
       "      <th>mean_neg_log10_p_adjust</th>\n",
       "      <th>mean_significant</th>\n",
       "      <th>mean_significant_and_large_fc</th>\n",
       "      <th>mean_proteins</th>\n",
       "      <th>empirical_median</th>\n",
       "      <th>empirical_median_ci_left</th>\n",
       "      <th>empirical_median_ci_right</th>\n",
       "      <th>significant</th>\n",
       "    </tr>\n",
       "    <tr>\n",
       "      <th>predictor</th>\n",
       "      <th>Complex</th>\n",
       "      <th></th>\n",
       "      <th></th>\n",
       "      <th></th>\n",
       "      <th></th>\n",
       "      <th></th>\n",
       "      <th></th>\n",
       "      <th></th>\n",
       "      <th></th>\n",
       "      <th></th>\n",
       "      <th></th>\n",
       "      <th></th>\n",
       "      <th></th>\n",
       "      <th></th>\n",
       "      <th></th>\n",
       "      <th></th>\n",
       "      <th></th>\n",
       "      <th></th>\n",
       "      <th></th>\n",
       "      <th></th>\n",
       "      <th></th>\n",
       "      <th></th>\n",
       "    </tr>\n",
       "  </thead>\n",
       "  <tbody>\n",
       "    <tr>\n",
       "      <th rowspan=\"30\" valign=\"top\">H3K9me3</th>\n",
       "      <th>ncPRC1.6 (exclusive subunits)</th>\n",
       "      <td>6.0</td>\n",
       "      <td>Up</td>\n",
       "      <td>3.348327e-09</td>\n",
       "      <td>4.386309e-07</td>\n",
       "      <td>0.849107</td>\n",
       "      <td>0.634297</td>\n",
       "      <td>1.06392</td>\n",
       "      <td>0.335809</td>\n",
       "      <td>11.2397</td>\n",
       "      <td>0.0316113</td>\n",
       "      <td>...</td>\n",
       "      <td>0.21481</td>\n",
       "      <td>5.90205</td>\n",
       "      <td>4.16808</td>\n",
       "      <td>0.833333</td>\n",
       "      <td>0.5</td>\n",
       "      <td>E2F6/L3MBTL2/MAX (2)/MGA (1)/MGA (2)/PCGF6</td>\n",
       "      <td>0.957673</td>\n",
       "      <td>0.852877</td>\n",
       "      <td>1.080185</td>\n",
       "      <td>True</td>\n",
       "    </tr>\n",
       "    <tr>\n",
       "      <th>ncPRC1.6</th>\n",
       "      <td>15.0</td>\n",
       "      <td>Up</td>\n",
       "      <td>4.996852e-08</td>\n",
       "      <td>3.272938e-06</td>\n",
       "      <td>0.435135</td>\n",
       "      <td>0.238182</td>\n",
       "      <td>0.632088</td>\n",
       "      <td>0.0493912</td>\n",
       "      <td>6.22172</td>\n",
       "      <td>0.114882</td>\n",
       "      <td>...</td>\n",
       "      <td>0.196953</td>\n",
       "      <td>3.58803</td>\n",
       "      <td>2.40837</td>\n",
       "      <td>0.466667</td>\n",
       "      <td>0.2</td>\n",
       "      <td>E2F6/HDAC1/HDAC2/L3MBTL2/MAX (1)/MAX (2)/MGA (...</td>\n",
       "      <td>0.236092</td>\n",
       "      <td>0.183013</td>\n",
       "      <td>0.300212</td>\n",
       "      <td>True</td>\n",
       "    </tr>\n",
       "    <tr>\n",
       "      <th>SIN3A/B (exclusive subunits)</th>\n",
       "      <td>9.0</td>\n",
       "      <td>Up</td>\n",
       "      <td>1.235410e-06</td>\n",
       "      <td>5.394624e-05</td>\n",
       "      <td>0.229611</td>\n",
       "      <td>0.108907</td>\n",
       "      <td>0.350316</td>\n",
       "      <td>0.199731</td>\n",
       "      <td>4.52591</td>\n",
       "      <td>0.011284</td>\n",
       "      <td>...</td>\n",
       "      <td>0.120704</td>\n",
       "      <td>3.10023</td>\n",
       "      <td>1.83574</td>\n",
       "      <td>0.444444</td>\n",
       "      <td>0</td>\n",
       "      <td>ARID4A/ARID4B/BRMS1/BRMS1L/ING1/ING2/SAP30L/SI...</td>\n",
       "      <td>0.227357</td>\n",
       "      <td>0.178071</td>\n",
       "      <td>0.279933</td>\n",
       "      <td>True</td>\n",
       "    </tr>\n",
       "    <tr>\n",
       "      <th>PRC1</th>\n",
       "      <td>9.0</td>\n",
       "      <td>Up</td>\n",
       "      <td>5.527297e-06</td>\n",
       "      <td>1.780781e-04</td>\n",
       "      <td>0.251455</td>\n",
       "      <td>0.0870596</td>\n",
       "      <td>0.41585</td>\n",
       "      <td>0.952773</td>\n",
       "      <td>4.84648</td>\n",
       "      <td>0.108419</td>\n",
       "      <td>...</td>\n",
       "      <td>0.164395</td>\n",
       "      <td>3.21306</td>\n",
       "      <td>2.02485</td>\n",
       "      <td>0.555556</td>\n",
       "      <td>0</td>\n",
       "      <td>CBX2/CBX4/CBX8/COMMD3-BMI1/BMI1/PHC2/PHC3/RING...</td>\n",
       "      <td>0.256866</td>\n",
       "      <td>0.203880</td>\n",
       "      <td>0.319279</td>\n",
       "      <td>True</td>\n",
       "    </tr>\n",
       "    <tr>\n",
       "      <th>CAF-1</th>\n",
       "      <td>3.0</td>\n",
       "      <td>Up</td>\n",
       "      <td>7.327983e-06</td>\n",
       "      <td>1.780781e-04</td>\n",
       "      <td>1.86441</td>\n",
       "      <td>1.51666</td>\n",
       "      <td>2.21216</td>\n",
       "      <td>1.17732</td>\n",
       "      <td>15.0551</td>\n",
       "      <td>0.00286562</td>\n",
       "      <td>...</td>\n",
       "      <td>0.347753</td>\n",
       "      <td>6.57454</td>\n",
       "      <td>4.69765</td>\n",
       "      <td>0.666667</td>\n",
       "      <td>0.666667</td>\n",
       "      <td>CHAF1A/CHAF1B/RBBP4</td>\n",
       "      <td>2.300868</td>\n",
       "      <td>1.630583</td>\n",
       "      <td>2.946132</td>\n",
       "      <td>True</td>\n",
       "    </tr>\n",
       "    <tr>\n",
       "      <th>BHC</th>\n",
       "      <td>8.0</td>\n",
       "      <td>Up</td>\n",
       "      <td>8.156250e-06</td>\n",
       "      <td>1.780781e-04</td>\n",
       "      <td>0.412906</td>\n",
       "      <td>0.25004</td>\n",
       "      <td>0.575772</td>\n",
       "      <td>0.221205</td>\n",
       "      <td>8.01459</td>\n",
       "      <td>0.171096</td>\n",
       "      <td>...</td>\n",
       "      <td>0.162866</td>\n",
       "      <td>3.98686</td>\n",
       "      <td>2.82245</td>\n",
       "      <td>0.375</td>\n",
       "      <td>0.125</td>\n",
       "      <td>GTF2I/HDAC1/HDAC2/HMG20B/KDM1A/PHF21A/ZMYM2/ZMYM3</td>\n",
       "      <td>0.225189</td>\n",
       "      <td>0.133913</td>\n",
       "      <td>0.335547</td>\n",
       "      <td>True</td>\n",
       "    </tr>\n",
       "    <tr>\n",
       "      <th>HUSH</th>\n",
       "      <td>4.0</td>\n",
       "      <td>Up</td>\n",
       "      <td>1.332954e-05</td>\n",
       "      <td>2.494529e-04</td>\n",
       "      <td>0.878475</td>\n",
       "      <td>0.615936</td>\n",
       "      <td>1.14101</td>\n",
       "      <td>0.609998</td>\n",
       "      <td>7.32464</td>\n",
       "      <td>0.000987726</td>\n",
       "      <td>...</td>\n",
       "      <td>0.262538</td>\n",
       "      <td>4.67905</td>\n",
       "      <td>3.10424</td>\n",
       "      <td>0.75</td>\n",
       "      <td>0.25</td>\n",
       "      <td>MPHOSPH8/PPHLN1 (1)/PPHLN1 (3)/TASOR</td>\n",
       "      <td>0.697427</td>\n",
       "      <td>0.534392</td>\n",
       "      <td>0.870787</td>\n",
       "      <td>True</td>\n",
       "    </tr>\n",
       "    <tr>\n",
       "      <th>SIN3A/B</th>\n",
       "      <td>18.0</td>\n",
       "      <td>Up</td>\n",
       "      <td>4.177514e-05</td>\n",
       "      <td>6.840679e-04</td>\n",
       "      <td>0.176159</td>\n",
       "      <td>0.0378029</td>\n",
       "      <td>0.314515</td>\n",
       "      <td>0.260388</td>\n",
       "      <td>3.04936</td>\n",
       "      <td>0.074532</td>\n",
       "      <td>...</td>\n",
       "      <td>0.138356</td>\n",
       "      <td>2.41184</td>\n",
       "      <td>1.38515</td>\n",
       "      <td>0.222222</td>\n",
       "      <td>0</td>\n",
       "      <td>ARID4A/ARID4B/BRMS1/BRMS1L/HDAC1/HDAC2/ING1/IN...</td>\n",
       "      <td>0.203865</td>\n",
       "      <td>0.162103</td>\n",
       "      <td>0.244236</td>\n",
       "      <td>True</td>\n",
       "    </tr>\n",
       "    <tr>\n",
       "      <th>KAP1-SETDB1-DNMT1-ZNF304</th>\n",
       "      <td>3.0</td>\n",
       "      <td>Up</td>\n",
       "      <td>1.007542e-04</td>\n",
       "      <td>1.466533e-03</td>\n",
       "      <td>1.23289</td>\n",
       "      <td>0.92361</td>\n",
       "      <td>1.54216</td>\n",
       "      <td>0.48333</td>\n",
       "      <td>9.84516</td>\n",
       "      <td>0.00345532</td>\n",
       "      <td>...</td>\n",
       "      <td>0.309276</td>\n",
       "      <td>5.23366</td>\n",
       "      <td>3.58788</td>\n",
       "      <td>0.666667</td>\n",
       "      <td>0.666667</td>\n",
       "      <td>DNMT1 (1)/DNMT1 (2)/TRIM28</td>\n",
       "      <td>1.042827</td>\n",
       "      <td>0.600757</td>\n",
       "      <td>1.486559</td>\n",
       "      <td>True</td>\n",
       "    </tr>\n",
       "    <tr>\n",
       "      <th>SF3B</th>\n",
       "      <td>7.0</td>\n",
       "      <td>Down</td>\n",
       "      <td>1.128506e-04</td>\n",
       "      <td>1.478343e-03</td>\n",
       "      <td>-0.105004</td>\n",
       "      <td>-0.245177</td>\n",
       "      <td>0.0351686</td>\n",
       "      <td>0.033141</td>\n",
       "      <td>-2.02126</td>\n",
       "      <td>0.116892</td>\n",
       "      <td>...</td>\n",
       "      <td>0.140173</td>\n",
       "      <td>1.20209</td>\n",
       "      <td>0.611724</td>\n",
       "      <td>0</td>\n",
       "      <td>0</td>\n",
       "      <td>PHF5A/SF3B1/SF3B2/SF3B3/SF3B4/SF3B5/SF3B6</td>\n",
       "      <td>-0.078086</td>\n",
       "      <td>-0.117538</td>\n",
       "      <td>-0.041204</td>\n",
       "      <td>True</td>\n",
       "    </tr>\n",
       "    <tr>\n",
       "      <th>INO80 (exclusive subunits)</th>\n",
       "      <td>11.0</td>\n",
       "      <td>Up</td>\n",
       "      <td>1.358568e-04</td>\n",
       "      <td>1.617931e-03</td>\n",
       "      <td>0.416366</td>\n",
       "      <td>0.111745</td>\n",
       "      <td>0.720987</td>\n",
       "      <td>0.0944894</td>\n",
       "      <td>3.03286</td>\n",
       "      <td>0.0214367</td>\n",
       "      <td>...</td>\n",
       "      <td>0.304621</td>\n",
       "      <td>1.98046</td>\n",
       "      <td>1.06178</td>\n",
       "      <td>0</td>\n",
       "      <td>0</td>\n",
       "      <td>ACTR5/ACTR8/INO80/INO80B/INO80C/INO80D/INO80E/...</td>\n",
       "      <td>0.412607</td>\n",
       "      <td>0.303495</td>\n",
       "      <td>0.523898</td>\n",
       "      <td>True</td>\n",
       "    </tr>\n",
       "    <tr>\n",
       "      <th>KAP1-HP1</th>\n",
       "      <td>3.0</td>\n",
       "      <td>Up</td>\n",
       "      <td>1.495414e-04</td>\n",
       "      <td>1.632494e-03</td>\n",
       "      <td>2.17175</td>\n",
       "      <td>1.61888</td>\n",
       "      <td>2.72463</td>\n",
       "      <td>1.46345</td>\n",
       "      <td>7.44629</td>\n",
       "      <td>0.00337294</td>\n",
       "      <td>...</td>\n",
       "      <td>0.552873</td>\n",
       "      <td>4.77339</td>\n",
       "      <td>3.20332</td>\n",
       "      <td>0.666667</td>\n",
       "      <td>0.666667</td>\n",
       "      <td>CBX3/CBX5/TRIM28</td>\n",
       "      <td>2.595049</td>\n",
       "      <td>1.859490</td>\n",
       "      <td>3.296256</td>\n",
       "      <td>True</td>\n",
       "    </tr>\n",
       "    <tr>\n",
       "      <th>B-MYB-MuvB</th>\n",
       "      <td>6.0</td>\n",
       "      <td>Up</td>\n",
       "      <td>2.839887e-04</td>\n",
       "      <td>2.861733e-03</td>\n",
       "      <td>0.248151</td>\n",
       "      <td>0.105002</td>\n",
       "      <td>0.3913</td>\n",
       "      <td>0.216309</td>\n",
       "      <td>3.87901</td>\n",
       "      <td>0.00388529</td>\n",
       "      <td>...</td>\n",
       "      <td>0.143149</td>\n",
       "      <td>2.64326</td>\n",
       "      <td>1.48694</td>\n",
       "      <td>0</td>\n",
       "      <td>0</td>\n",
       "      <td>LIN37/LIN52/LIN54/LIN9/MYBL2/RBBP4</td>\n",
       "      <td>0.246466</td>\n",
       "      <td>0.185121</td>\n",
       "      <td>0.307952</td>\n",
       "      <td>True</td>\n",
       "    </tr>\n",
       "    <tr>\n",
       "      <th>SRCAP</th>\n",
       "      <td>9.0</td>\n",
       "      <td>Down</td>\n",
       "      <td>5.154156e-04</td>\n",
       "      <td>4.772959e-03</td>\n",
       "      <td>-0.0613258</td>\n",
       "      <td>-0.152724</td>\n",
       "      <td>0.0300723</td>\n",
       "      <td>-0.40798</td>\n",
       "      <td>-1.45227</td>\n",
       "      <td>0.314114</td>\n",
       "      <td>...</td>\n",
       "      <td>0.0913981</td>\n",
       "      <td>0.834411</td>\n",
       "      <td>0.413745</td>\n",
       "      <td>0</td>\n",
       "      <td>0</td>\n",
       "      <td>ACTL6A/ACTR6/DMAP1/RUVBL1/RUVBL2/SRCAP/VPS72/Y...</td>\n",
       "      <td>-0.058774</td>\n",
       "      <td>-0.097311</td>\n",
       "      <td>-0.020692</td>\n",
       "      <td>True</td>\n",
       "    </tr>\n",
       "    <tr>\n",
       "      <th>ORC</th>\n",
       "      <td>5.0</td>\n",
       "      <td>Up</td>\n",
       "      <td>5.573002e-04</td>\n",
       "      <td>4.772959e-03</td>\n",
       "      <td>1.1861</td>\n",
       "      <td>0.541325</td>\n",
       "      <td>1.83087</td>\n",
       "      <td>2.61108</td>\n",
       "      <td>4.04811</td>\n",
       "      <td>0.0025062</td>\n",
       "      <td>...</td>\n",
       "      <td>0.644772</td>\n",
       "      <td>2.776</td>\n",
       "      <td>1.56433</td>\n",
       "      <td>0</td>\n",
       "      <td>0</td>\n",
       "      <td>ORC1/ORC2/ORC3/ORC4/ORC5</td>\n",
       "      <td>1.185564</td>\n",
       "      <td>0.848406</td>\n",
       "      <td>1.525954</td>\n",
       "      <td>True</td>\n",
       "    </tr>\n",
       "    <tr>\n",
       "      <th>B-MYB-MuvB (exclusive subunits)</th>\n",
       "      <td>5.0</td>\n",
       "      <td>Up</td>\n",
       "      <td>5.829568e-04</td>\n",
       "      <td>4.772959e-03</td>\n",
       "      <td>0.245946</td>\n",
       "      <td>0.110147</td>\n",
       "      <td>0.381746</td>\n",
       "      <td>0.083194</td>\n",
       "      <td>4.02627</td>\n",
       "      <td>0.00294456</td>\n",
       "      <td>...</td>\n",
       "      <td>0.1358</td>\n",
       "      <td>2.75869</td>\n",
       "      <td>1.5606</td>\n",
       "      <td>0</td>\n",
       "      <td>0</td>\n",
       "      <td>LIN37/LIN52/LIN54/LIN9/MYBL2</td>\n",
       "      <td>0.244352</td>\n",
       "      <td>0.176473</td>\n",
       "      <td>0.313131</td>\n",
       "      <td>True</td>\n",
       "    </tr>\n",
       "    <tr>\n",
       "      <th>ASAP</th>\n",
       "      <td>6.0</td>\n",
       "      <td>Down</td>\n",
       "      <td>7.199265e-04</td>\n",
       "      <td>5.364951e-03</td>\n",
       "      <td>-0.139175</td>\n",
       "      <td>-0.295493</td>\n",
       "      <td>0.0171436</td>\n",
       "      <td>0.0299068</td>\n",
       "      <td>-1.83967</td>\n",
       "      <td>0.127217</td>\n",
       "      <td>...</td>\n",
       "      <td>0.156318</td>\n",
       "      <td>1.05849</td>\n",
       "      <td>0.533489</td>\n",
       "      <td>0</td>\n",
       "      <td>0</td>\n",
       "      <td>ACIN1 (1)/ACIN1 (2)/ACIN1 (3)/ACIN1 (4)/RNPS1/...</td>\n",
       "      <td>-0.116634</td>\n",
       "      <td>-0.184377</td>\n",
       "      <td>-0.051567</td>\n",
       "      <td>True</td>\n",
       "    </tr>\n",
       "    <tr>\n",
       "      <th>Integrator (exclusive subunits)</th>\n",
       "      <td>13.0</td>\n",
       "      <td>Up</td>\n",
       "      <td>7.563552e-04</td>\n",
       "      <td>5.364951e-03</td>\n",
       "      <td>0.153446</td>\n",
       "      <td>0.0082542</td>\n",
       "      <td>0.298638</td>\n",
       "      <td>0.0126119</td>\n",
       "      <td>2.58394</td>\n",
       "      <td>0.104227</td>\n",
       "      <td>...</td>\n",
       "      <td>0.145192</td>\n",
       "      <td>1.65188</td>\n",
       "      <td>0.880203</td>\n",
       "      <td>0</td>\n",
       "      <td>0</td>\n",
       "      <td>INTS1/INTS10/INTS11/INTS12/INTS13/INTS14/INTS2...</td>\n",
       "      <td>0.150208</td>\n",
       "      <td>0.105644</td>\n",
       "      <td>0.196342</td>\n",
       "      <td>True</td>\n",
       "    </tr>\n",
       "    <tr>\n",
       "      <th>THO</th>\n",
       "      <td>6.0</td>\n",
       "      <td>Down</td>\n",
       "      <td>7.781227e-04</td>\n",
       "      <td>5.364951e-03</td>\n",
       "      <td>-0.0900677</td>\n",
       "      <td>-0.200189</td>\n",
       "      <td>0.0200535</td>\n",
       "      <td>-0.0132042</td>\n",
       "      <td>-1.80687</td>\n",
       "      <td>0.115357</td>\n",
       "      <td>...</td>\n",
       "      <td>0.110121</td>\n",
       "      <td>1.0262</td>\n",
       "      <td>0.507028</td>\n",
       "      <td>0</td>\n",
       "      <td>0</td>\n",
       "      <td>THOC1/THOC2/THOC3/THOC5/THOC6/THOC7</td>\n",
       "      <td>-0.090075</td>\n",
       "      <td>-0.138340</td>\n",
       "      <td>-0.041875</td>\n",
       "      <td>True</td>\n",
       "    </tr>\n",
       "    <tr>\n",
       "      <th>Integrator</th>\n",
       "      <td>14.0</td>\n",
       "      <td>Up</td>\n",
       "      <td>1.213460e-03</td>\n",
       "      <td>7.948165e-03</td>\n",
       "      <td>0.146891</td>\n",
       "      <td>-0.00290067</td>\n",
       "      <td>0.296682</td>\n",
       "      <td>0.0218912</td>\n",
       "      <td>2.44523</td>\n",
       "      <td>0.134865</td>\n",
       "      <td>...</td>\n",
       "      <td>0.149791</td>\n",
       "      <td>1.5534</td>\n",
       "      <td>0.825967</td>\n",
       "      <td>0</td>\n",
       "      <td>0</td>\n",
       "      <td>INTS1/INTS10/INTS11/INTS12/INTS13/INTS14/INTS2...</td>\n",
       "      <td>0.145809</td>\n",
       "      <td>0.103565</td>\n",
       "      <td>0.189238</td>\n",
       "      <td>True</td>\n",
       "    </tr>\n",
       "    <tr>\n",
       "      <th>PRC1 (exclusive subunits)</th>\n",
       "      <td>6.0</td>\n",
       "      <td>Up</td>\n",
       "      <td>1.291609e-03</td>\n",
       "      <td>8.057179e-03</td>\n",
       "      <td>0.254266</td>\n",
       "      <td>0.0673815</td>\n",
       "      <td>0.441151</td>\n",
       "      <td>1.14383</td>\n",
       "      <td>4.12767</td>\n",
       "      <td>0.158776</td>\n",
       "      <td>...</td>\n",
       "      <td>0.186885</td>\n",
       "      <td>2.74326</td>\n",
       "      <td>1.69245</td>\n",
       "      <td>0.5</td>\n",
       "      <td>0</td>\n",
       "      <td>CBX2/CBX4/CBX8/PHC2/PHC3/SCML2</td>\n",
       "      <td>0.276020</td>\n",
       "      <td>0.187621</td>\n",
       "      <td>0.357632</td>\n",
       "      <td>True</td>\n",
       "    </tr>\n",
       "    <tr>\n",
       "      <th>PR-DUB</th>\n",
       "      <td>5.0</td>\n",
       "      <td>Up</td>\n",
       "      <td>1.548879e-03</td>\n",
       "      <td>9.222872e-03</td>\n",
       "      <td>0.325304</td>\n",
       "      <td>0.11094</td>\n",
       "      <td>0.539668</td>\n",
       "      <td>0.337153</td>\n",
       "      <td>3.77393</td>\n",
       "      <td>0.0114422</td>\n",
       "      <td>...</td>\n",
       "      <td>0.214364</td>\n",
       "      <td>2.53804</td>\n",
       "      <td>1.44324</td>\n",
       "      <td>0.2</td>\n",
       "      <td>0</td>\n",
       "      <td>ASXL2/BAP1/FOXK1/FOXK2/KDM1B</td>\n",
       "      <td>0.309978</td>\n",
       "      <td>0.213886</td>\n",
       "      <td>0.404599</td>\n",
       "      <td>True</td>\n",
       "    </tr>\n",
       "    <tr>\n",
       "      <th>ncPRC1</th>\n",
       "      <td>5.0</td>\n",
       "      <td>Up</td>\n",
       "      <td>2.036580e-03</td>\n",
       "      <td>1.159965e-02</td>\n",
       "      <td>0.183471</td>\n",
       "      <td>0.0571123</td>\n",
       "      <td>0.30983</td>\n",
       "      <td>0.121775</td>\n",
       "      <td>4.36592</td>\n",
       "      <td>0.078243</td>\n",
       "      <td>...</td>\n",
       "      <td>0.126359</td>\n",
       "      <td>2.81116</td>\n",
       "      <td>1.7677</td>\n",
       "      <td>0.4</td>\n",
       "      <td>0</td>\n",
       "      <td>COMMD3-BMI1/BMI1/RING1/RNF2/RYBP/YAF2</td>\n",
       "      <td>0.199921</td>\n",
       "      <td>0.106279</td>\n",
       "      <td>0.256127</td>\n",
       "      <td>False</td>\n",
       "    </tr>\n",
       "    <tr>\n",
       "      <th>TREX</th>\n",
       "      <td>9.0</td>\n",
       "      <td>Down</td>\n",
       "      <td>2.590671e-03</td>\n",
       "      <td>1.414075e-02</td>\n",
       "      <td>-0.0519582</td>\n",
       "      <td>-0.177137</td>\n",
       "      <td>0.0732206</td>\n",
       "      <td>-0.00259699</td>\n",
       "      <td>-1.17128</td>\n",
       "      <td>0.237805</td>\n",
       "      <td>...</td>\n",
       "      <td>0.125179</td>\n",
       "      <td>0.805733</td>\n",
       "      <td>0.392013</td>\n",
       "      <td>0</td>\n",
       "      <td>0</td>\n",
       "      <td>ALYREF (1)/ALYREF (2)/DDX39B/THOC1/THOC2/THOC3...</td>\n",
       "      <td>-0.067545</td>\n",
       "      <td>-0.115146</td>\n",
       "      <td>-0.017680</td>\n",
       "      <td>False</td>\n",
       "    </tr>\n",
       "    <tr>\n",
       "      <th>40S Ribosomal subunit</th>\n",
       "      <td>29.0</td>\n",
       "      <td>Down</td>\n",
       "      <td>3.927548e-03</td>\n",
       "      <td>2.045596e-02</td>\n",
       "      <td>-0.0184955</td>\n",
       "      <td>-0.209855</td>\n",
       "      <td>0.172864</td>\n",
       "      <td>-0.0296365</td>\n",
       "      <td>-0.378219</td>\n",
       "      <td>0.523386</td>\n",
       "      <td>...</td>\n",
       "      <td>0.19136</td>\n",
       "      <td>0.360907</td>\n",
       "      <td>0.166288</td>\n",
       "      <td>0</td>\n",
       "      <td>0</td>\n",
       "      <td>FAU/RPS10/RPS10-NUDT3/RPS11/RPS12/RPS13/RPS14/...</td>\n",
       "      <td>-0.028390</td>\n",
       "      <td>-0.064240</td>\n",
       "      <td>0.008255</td>\n",
       "      <td>False</td>\n",
       "    </tr>\n",
       "    <tr>\n",
       "      <th>ncPRC1.1</th>\n",
       "      <td>11.0</td>\n",
       "      <td>Up</td>\n",
       "      <td>4.142518e-03</td>\n",
       "      <td>2.045596e-02</td>\n",
       "      <td>0.225864</td>\n",
       "      <td>0.107522</td>\n",
       "      <td>0.344207</td>\n",
       "      <td>-0.52952</td>\n",
       "      <td>3.47876</td>\n",
       "      <td>0.269778</td>\n",
       "      <td>...</td>\n",
       "      <td>0.118342</td>\n",
       "      <td>2.16988</td>\n",
       "      <td>1.4126</td>\n",
       "      <td>0.272727</td>\n",
       "      <td>0.0909091</td>\n",
       "      <td>BCOR/BCORL1 (1)/BCORL1 (2)/KDM2B/PCGF1/RING1/R...</td>\n",
       "      <td>0.077684</td>\n",
       "      <td>0.029804</td>\n",
       "      <td>0.142607</td>\n",
       "      <td>False</td>\n",
       "    </tr>\n",
       "    <tr>\n",
       "      <th>INO80</th>\n",
       "      <td>15.0</td>\n",
       "      <td>Up</td>\n",
       "      <td>4.261622e-03</td>\n",
       "      <td>2.045596e-02</td>\n",
       "      <td>0.313268</td>\n",
       "      <td>0.0478228</td>\n",
       "      <td>0.578713</td>\n",
       "      <td>-0.00309983</td>\n",
       "      <td>2.23025</td>\n",
       "      <td>0.196147</td>\n",
       "      <td>...</td>\n",
       "      <td>0.265445</td>\n",
       "      <td>1.50384</td>\n",
       "      <td>0.80086</td>\n",
       "      <td>0</td>\n",
       "      <td>0</td>\n",
       "      <td>ACTL6A/ACTR5/ACTR8/INO80/INO80B/INO80C/INO80D/...</td>\n",
       "      <td>0.341778</td>\n",
       "      <td>0.229443</td>\n",
       "      <td>0.449381</td>\n",
       "      <td>False</td>\n",
       "    </tr>\n",
       "    <tr>\n",
       "      <th>Mediator</th>\n",
       "      <td>17.0</td>\n",
       "      <td>Up</td>\n",
       "      <td>4.372266e-03</td>\n",
       "      <td>2.045596e-02</td>\n",
       "      <td>0.15811</td>\n",
       "      <td>-0.0652521</td>\n",
       "      <td>0.381472</td>\n",
       "      <td>0.0700805</td>\n",
       "      <td>2.11065</td>\n",
       "      <td>0.17042</td>\n",
       "      <td>...</td>\n",
       "      <td>0.223362</td>\n",
       "      <td>1.37505</td>\n",
       "      <td>0.726082</td>\n",
       "      <td>0</td>\n",
       "      <td>0</td>\n",
       "      <td>MED1/MED10/MED11/MED14/MED15/MED17/MED19/MED20...</td>\n",
       "      <td>0.163782</td>\n",
       "      <td>0.109035</td>\n",
       "      <td>0.219456</td>\n",
       "      <td>False</td>\n",
       "    </tr>\n",
       "    <tr>\n",
       "      <th>NuA4 (exclusive subunits)</th>\n",
       "      <td>6.0</td>\n",
       "      <td>Up</td>\n",
       "      <td>6.019978e-03</td>\n",
       "      <td>2.719369e-02</td>\n",
       "      <td>0.228422</td>\n",
       "      <td>0.0459118</td>\n",
       "      <td>0.410933</td>\n",
       "      <td>0.0461168</td>\n",
       "      <td>2.90169</td>\n",
       "      <td>0.027224</td>\n",
       "      <td>...</td>\n",
       "      <td>0.18251</td>\n",
       "      <td>1.87512</td>\n",
       "      <td>0.99826</td>\n",
       "      <td>0</td>\n",
       "      <td>0</td>\n",
       "      <td>BRD8 (1)/BRD8 (2)/EP400 (1)/EPC2/MBTD1/MRGBP</td>\n",
       "      <td>0.199765</td>\n",
       "      <td>0.128087</td>\n",
       "      <td>0.274269</td>\n",
       "      <td>False</td>\n",
       "    </tr>\n",
       "    <tr>\n",
       "      <th>PRC2.1</th>\n",
       "      <td>12.0</td>\n",
       "      <td>Up</td>\n",
       "      <td>8.444936e-03</td>\n",
       "      <td>3.687622e-02</td>\n",
       "      <td>0.287373</td>\n",
       "      <td>-0.0199971</td>\n",
       "      <td>0.594742</td>\n",
       "      <td>0.210958</td>\n",
       "      <td>2.31789</td>\n",
       "      <td>0.136696</td>\n",
       "      <td>...</td>\n",
       "      <td>0.30737</td>\n",
       "      <td>1.67006</td>\n",
       "      <td>0.906009</td>\n",
       "      <td>0</td>\n",
       "      <td>0</td>\n",
       "      <td>C10orf12/EED/EPOP/EZH1/EZH2/LCOR/MTF2 (1)/MTF2...</td>\n",
       "      <td>0.297521</td>\n",
       "      <td>0.173170</td>\n",
       "      <td>0.423997</td>\n",
       "      <td>False</td>\n",
       "    </tr>\n",
       "    <tr>\n",
       "      <th>...</th>\n",
       "      <th>...</th>\n",
       "      <td>...</td>\n",
       "      <td>...</td>\n",
       "      <td>...</td>\n",
       "      <td>...</td>\n",
       "      <td>...</td>\n",
       "      <td>...</td>\n",
       "      <td>...</td>\n",
       "      <td>...</td>\n",
       "      <td>...</td>\n",
       "      <td>...</td>\n",
       "      <td>...</td>\n",
       "      <td>...</td>\n",
       "      <td>...</td>\n",
       "      <td>...</td>\n",
       "      <td>...</td>\n",
       "      <td>...</td>\n",
       "      <td>...</td>\n",
       "      <td>...</td>\n",
       "      <td>...</td>\n",
       "      <td>...</td>\n",
       "      <td>...</td>\n",
       "    </tr>\n",
       "    <tr>\n",
       "      <th rowspan=\"30\" valign=\"top\">H3ac</th>\n",
       "      <th>Mitochondrial respiratory chain complex I</th>\n",
       "      <td>4.0</td>\n",
       "      <td>Up</td>\n",
       "      <td>3.651924e-01</td>\n",
       "      <td>4.710981e-01</td>\n",
       "      <td>0.307783</td>\n",
       "      <td>0.0623592</td>\n",
       "      <td>0.553207</td>\n",
       "      <td>0.0311183</td>\n",
       "      <td>2.78634</td>\n",
       "      <td>0.0571303</td>\n",
       "      <td>...</td>\n",
       "      <td>0.245424</td>\n",
       "      <td>1.97784</td>\n",
       "      <td>1.66481</td>\n",
       "      <td>0.5</td>\n",
       "      <td>0</td>\n",
       "      <td>NDUFA5/NDUFB10/NDUFS6/NDUFS8</td>\n",
       "      <td>0.317718</td>\n",
       "      <td>0.188508</td>\n",
       "      <td>0.445379</td>\n",
       "      <td>False</td>\n",
       "    </tr>\n",
       "    <tr>\n",
       "      <th>ncPRC1.1 (exclusive subunits)</th>\n",
       "      <td>5.0</td>\n",
       "      <td>Up</td>\n",
       "      <td>3.725542e-01</td>\n",
       "      <td>4.758365e-01</td>\n",
       "      <td>0.109856</td>\n",
       "      <td>-0.013182</td>\n",
       "      <td>0.232893</td>\n",
       "      <td>0.103957</td>\n",
       "      <td>2.80886</td>\n",
       "      <td>0.169789</td>\n",
       "      <td>...</td>\n",
       "      <td>0.123038</td>\n",
       "      <td>2.10686</td>\n",
       "      <td>1.76991</td>\n",
       "      <td>0.4</td>\n",
       "      <td>0</td>\n",
       "      <td>BCOR/BCORL1 (1)/BCORL1 (2)/KDM2B/PCGF1</td>\n",
       "      <td>0.114499</td>\n",
       "      <td>0.045462</td>\n",
       "      <td>0.169602</td>\n",
       "      <td>False</td>\n",
       "    </tr>\n",
       "    <tr>\n",
       "      <th>CKM</th>\n",
       "      <td>3.0</td>\n",
       "      <td>Up</td>\n",
       "      <td>3.840329e-01</td>\n",
       "      <td>4.856887e-01</td>\n",
       "      <td>0.570646</td>\n",
       "      <td>0.120063</td>\n",
       "      <td>1.02123</td>\n",
       "      <td>0.474355</td>\n",
       "      <td>3.27414</td>\n",
       "      <td>0.071729</td>\n",
       "      <td>...</td>\n",
       "      <td>0.450583</td>\n",
       "      <td>2.46472</td>\n",
       "      <td>2.06268</td>\n",
       "      <td>0.333333</td>\n",
       "      <td>0</td>\n",
       "      <td>CDK8/MED12/MED13</td>\n",
       "      <td>0.563079</td>\n",
       "      <td>0.170215</td>\n",
       "      <td>0.910535</td>\n",
       "      <td>False</td>\n",
       "    </tr>\n",
       "    <tr>\n",
       "      <th>mCRD-poly(A)-bridging complex</th>\n",
       "      <td>3.0</td>\n",
       "      <td>Down</td>\n",
       "      <td>3.885777e-01</td>\n",
       "      <td>4.866652e-01</td>\n",
       "      <td>0.00403981</td>\n",
       "      <td>-0.157683</td>\n",
       "      <td>0.165763</td>\n",
       "      <td>0.0479513</td>\n",
       "      <td>-0.463855</td>\n",
       "      <td>0.143203</td>\n",
       "      <td>...</td>\n",
       "      <td>0.161723</td>\n",
       "      <td>2.46798</td>\n",
       "      <td>2.076</td>\n",
       "      <td>0.666667</td>\n",
       "      <td>0</td>\n",
       "      <td>HNRNPD/PABPC1/SYNCRIP</td>\n",
       "      <td>-0.076043</td>\n",
       "      <td>-0.247941</td>\n",
       "      <td>0.129835</td>\n",
       "      <td>False</td>\n",
       "    </tr>\n",
       "    <tr>\n",
       "      <th>TFIID (exclusive subunits)</th>\n",
       "      <td>4.0</td>\n",
       "      <td>Up</td>\n",
       "      <td>4.024965e-01</td>\n",
       "      <td>4.974337e-01</td>\n",
       "      <td>0.892606</td>\n",
       "      <td>0.119837</td>\n",
       "      <td>1.66538</td>\n",
       "      <td>1.90024</td>\n",
       "      <td>2.72514</td>\n",
       "      <td>0.176293</td>\n",
       "      <td>...</td>\n",
       "      <td>0.772769</td>\n",
       "      <td>2.00755</td>\n",
       "      <td>1.68839</td>\n",
       "      <td>0.75</td>\n",
       "      <td>0.5</td>\n",
       "      <td>TAF1/TAF13/TAF3/TBP/TBPL2</td>\n",
       "      <td>0.949673</td>\n",
       "      <td>0.559148</td>\n",
       "      <td>1.330819</td>\n",
       "      <td>False</td>\n",
       "    </tr>\n",
       "    <tr>\n",
       "      <th>RNA Pol II (exclusive subunits)</th>\n",
       "      <td>6.0</td>\n",
       "      <td>Up</td>\n",
       "      <td>4.073290e-01</td>\n",
       "      <td>4.974337e-01</td>\n",
       "      <td>0.14123</td>\n",
       "      <td>0.00811966</td>\n",
       "      <td>0.27434</td>\n",
       "      <td>0.227907</td>\n",
       "      <td>2.36315</td>\n",
       "      <td>0.0746231</td>\n",
       "      <td>...</td>\n",
       "      <td>0.13311</td>\n",
       "      <td>1.58766</td>\n",
       "      <td>1.33786</td>\n",
       "      <td>0.333333</td>\n",
       "      <td>0</td>\n",
       "      <td>POLR2A/POLR2B/POLR2C/POLR2D/POLR2I/POLR2J/POLR...</td>\n",
       "      <td>0.139089</td>\n",
       "      <td>0.079900</td>\n",
       "      <td>0.198052</td>\n",
       "      <td>False</td>\n",
       "    </tr>\n",
       "    <tr>\n",
       "      <th>NSL (exclusive subunits)</th>\n",
       "      <td>3.0</td>\n",
       "      <td>Up</td>\n",
       "      <td>4.087440e-01</td>\n",
       "      <td>4.974337e-01</td>\n",
       "      <td>0.742837</td>\n",
       "      <td>0.154736</td>\n",
       "      <td>1.33094</td>\n",
       "      <td>0.438702</td>\n",
       "      <td>2.99183</td>\n",
       "      <td>0.0732107</td>\n",
       "      <td>...</td>\n",
       "      <td>0.588101</td>\n",
       "      <td>2.20184</td>\n",
       "      <td>1.85494</td>\n",
       "      <td>0.333333</td>\n",
       "      <td>0.333333</td>\n",
       "      <td>KANSL1/KANSL2/PHF20</td>\n",
       "      <td>0.673922</td>\n",
       "      <td>0.223271</td>\n",
       "      <td>1.286612</td>\n",
       "      <td>False</td>\n",
       "    </tr>\n",
       "    <tr>\n",
       "      <th>Base Excision Repair Complex (exclusive subunits)</th>\n",
       "      <td>3.0</td>\n",
       "      <td>Down</td>\n",
       "      <td>4.131566e-01</td>\n",
       "      <td>4.981047e-01</td>\n",
       "      <td>-0.00150444</td>\n",
       "      <td>-0.107686</td>\n",
       "      <td>0.104677</td>\n",
       "      <td>-0.0660697</td>\n",
       "      <td>-0.334818</td>\n",
       "      <td>0.48053</td>\n",
       "      <td>...</td>\n",
       "      <td>0.106182</td>\n",
       "      <td>0.487999</td>\n",
       "      <td>0.410318</td>\n",
       "      <td>0</td>\n",
       "      <td>0</td>\n",
       "      <td>POLB/XRCC1 (1)/XRCC1 (2)</td>\n",
       "      <td>-0.003979</td>\n",
       "      <td>-0.080280</td>\n",
       "      <td>0.082107</td>\n",
       "      <td>False</td>\n",
       "    </tr>\n",
       "    <tr>\n",
       "      <th>VHL SCF-like</th>\n",
       "      <td>4.0</td>\n",
       "      <td>Up</td>\n",
       "      <td>4.215831e-01</td>\n",
       "      <td>5.035576e-01</td>\n",
       "      <td>0.195866</td>\n",
       "      <td>0.00869037</td>\n",
       "      <td>0.383042</td>\n",
       "      <td>0.102599</td>\n",
       "      <td>2.63465</td>\n",
       "      <td>0.143485</td>\n",
       "      <td>...</td>\n",
       "      <td>0.187176</td>\n",
       "      <td>1.89589</td>\n",
       "      <td>1.59547</td>\n",
       "      <td>0.5</td>\n",
       "      <td>0</td>\n",
       "      <td>ELOB/ELOC/RBX1/VHL</td>\n",
       "      <td>0.207157</td>\n",
       "      <td>0.114808</td>\n",
       "      <td>0.301008</td>\n",
       "      <td>False</td>\n",
       "    </tr>\n",
       "    <tr>\n",
       "      <th>XPC (exclusive subunits)</th>\n",
       "      <td>3.0</td>\n",
       "      <td>Up</td>\n",
       "      <td>4.404277e-01</td>\n",
       "      <td>5.212402e-01</td>\n",
       "      <td>0.130255</td>\n",
       "      <td>0.0110132</td>\n",
       "      <td>0.249497</td>\n",
       "      <td>0.104915</td>\n",
       "      <td>2.83297</td>\n",
       "      <td>0.117074</td>\n",
       "      <td>...</td>\n",
       "      <td>0.119242</td>\n",
       "      <td>2.0788</td>\n",
       "      <td>1.74728</td>\n",
       "      <td>0.333333</td>\n",
       "      <td>0</td>\n",
       "      <td>RAD23A/RAD23B/XPC</td>\n",
       "      <td>0.140163</td>\n",
       "      <td>0.066791</td>\n",
       "      <td>0.208361</td>\n",
       "      <td>False</td>\n",
       "    </tr>\n",
       "    <tr>\n",
       "      <th>Fanconi Anemia</th>\n",
       "      <td>4.0</td>\n",
       "      <td>Up</td>\n",
       "      <td>4.514898e-01</td>\n",
       "      <td>5.294744e-01</td>\n",
       "      <td>0.274519</td>\n",
       "      <td>0.0432904</td>\n",
       "      <td>0.505747</td>\n",
       "      <td>0.092002</td>\n",
       "      <td>2.48273</td>\n",
       "      <td>0.0733641</td>\n",
       "      <td>...</td>\n",
       "      <td>0.231228</td>\n",
       "      <td>1.69417</td>\n",
       "      <td>1.42845</td>\n",
       "      <td>0</td>\n",
       "      <td>0</td>\n",
       "      <td>CENPS/CENPS-CORT/CENPX/FAAP24/FANCM</td>\n",
       "      <td>0.278083</td>\n",
       "      <td>0.148602</td>\n",
       "      <td>0.407342</td>\n",
       "      <td>False</td>\n",
       "    </tr>\n",
       "    <tr>\n",
       "      <th>PRC2.1 (exclusive subunits)</th>\n",
       "      <td>5.0</td>\n",
       "      <td>Up</td>\n",
       "      <td>4.648878e-01</td>\n",
       "      <td>5.399883e-01</td>\n",
       "      <td>0.243018</td>\n",
       "      <td>-0.00734728</td>\n",
       "      <td>0.493383</td>\n",
       "      <td>-0.877939</td>\n",
       "      <td>2.36424</td>\n",
       "      <td>0.126348</td>\n",
       "      <td>...</td>\n",
       "      <td>0.250365</td>\n",
       "      <td>1.63487</td>\n",
       "      <td>1.37716</td>\n",
       "      <td>0.4</td>\n",
       "      <td>0</td>\n",
       "      <td>C10orf12/EPOP/LCOR/MTF2 (1)/MTF2 (2)</td>\n",
       "      <td>0.253494</td>\n",
       "      <td>0.110687</td>\n",
       "      <td>0.382159</td>\n",
       "      <td>False</td>\n",
       "    </tr>\n",
       "    <tr>\n",
       "      <th>RNA Pol II</th>\n",
       "      <td>11.0</td>\n",
       "      <td>Up</td>\n",
       "      <td>4.688270e-01</td>\n",
       "      <td>5.399883e-01</td>\n",
       "      <td>0.116759</td>\n",
       "      <td>-0.0127855</td>\n",
       "      <td>0.246303</td>\n",
       "      <td>0.192364</td>\n",
       "      <td>1.97011</td>\n",
       "      <td>0.183626</td>\n",
       "      <td>...</td>\n",
       "      <td>0.129544</td>\n",
       "      <td>1.29482</td>\n",
       "      <td>1.08979</td>\n",
       "      <td>0.272727</td>\n",
       "      <td>0</td>\n",
       "      <td>POLR2A/POLR2B/POLR2C/POLR2D/POLR2E/POLR2F/POLR...</td>\n",
       "      <td>0.112646</td>\n",
       "      <td>0.059116</td>\n",
       "      <td>0.166001</td>\n",
       "      <td>False</td>\n",
       "    </tr>\n",
       "    <tr>\n",
       "      <th>B-MYB-MuvB (exclusive subunits)</th>\n",
       "      <td>5.0</td>\n",
       "      <td>Up</td>\n",
       "      <td>5.015839e-01</td>\n",
       "      <td>5.726046e-01</td>\n",
       "      <td>0.269117</td>\n",
       "      <td>0.00950693</td>\n",
       "      <td>0.528727</td>\n",
       "      <td>0.165454</td>\n",
       "      <td>2.17069</td>\n",
       "      <td>0.047375</td>\n",
       "      <td>...</td>\n",
       "      <td>0.25961</td>\n",
       "      <td>1.37309</td>\n",
       "      <td>1.16048</td>\n",
       "      <td>0</td>\n",
       "      <td>0</td>\n",
       "      <td>LIN37/LIN52/LIN54/LIN9/MYBL2</td>\n",
       "      <td>0.269241</td>\n",
       "      <td>0.134050</td>\n",
       "      <td>0.404583</td>\n",
       "      <td>False</td>\n",
       "    </tr>\n",
       "    <tr>\n",
       "      <th>CRL4-DDB2</th>\n",
       "      <td>4.0</td>\n",
       "      <td>Up</td>\n",
       "      <td>5.104488e-01</td>\n",
       "      <td>5.776131e-01</td>\n",
       "      <td>0.253116</td>\n",
       "      <td>0.0210794</td>\n",
       "      <td>0.485154</td>\n",
       "      <td>0.265779</td>\n",
       "      <td>2.34783</td>\n",
       "      <td>0.158251</td>\n",
       "      <td>...</td>\n",
       "      <td>0.232037</td>\n",
       "      <td>1.62846</td>\n",
       "      <td>1.36989</td>\n",
       "      <td>0.25</td>\n",
       "      <td>0</td>\n",
       "      <td>CUL4A/DDB1/DDB2/RBX1</td>\n",
       "      <td>0.248848</td>\n",
       "      <td>0.125236</td>\n",
       "      <td>0.373115</td>\n",
       "      <td>False</td>\n",
       "    </tr>\n",
       "    <tr>\n",
       "      <th>CDCA5-PDS5-Cohesin</th>\n",
       "      <td>3.0</td>\n",
       "      <td>Up</td>\n",
       "      <td>5.314745e-01</td>\n",
       "      <td>5.961758e-01</td>\n",
       "      <td>0.270225</td>\n",
       "      <td>-0.00841215</td>\n",
       "      <td>0.548862</td>\n",
       "      <td>0.186229</td>\n",
       "      <td>2.71098</td>\n",
       "      <td>0.207677</td>\n",
       "      <td>...</td>\n",
       "      <td>0.278637</td>\n",
       "      <td>2.35541</td>\n",
       "      <td>1.97977</td>\n",
       "      <td>0.666667</td>\n",
       "      <td>0</td>\n",
       "      <td>CDCA5/PDS5A/SMC3</td>\n",
       "      <td>0.388742</td>\n",
       "      <td>0.187680</td>\n",
       "      <td>0.560526</td>\n",
       "      <td>False</td>\n",
       "    </tr>\n",
       "    <tr>\n",
       "      <th>VCB</th>\n",
       "      <td>3.0</td>\n",
       "      <td>Up</td>\n",
       "      <td>5.757043e-01</td>\n",
       "      <td>6.402229e-01</td>\n",
       "      <td>0.171522</td>\n",
       "      <td>-0.0246728</td>\n",
       "      <td>0.367718</td>\n",
       "      <td>0.0427769</td>\n",
       "      <td>2.34143</td>\n",
       "      <td>0.190542</td>\n",
       "      <td>...</td>\n",
       "      <td>0.196195</td>\n",
       "      <td>1.64911</td>\n",
       "      <td>1.38875</td>\n",
       "      <td>0.333333</td>\n",
       "      <td>0</td>\n",
       "      <td>ELOB/ELOC/VHL</td>\n",
       "      <td>0.183751</td>\n",
       "      <td>0.071590</td>\n",
       "      <td>0.300163</td>\n",
       "      <td>False</td>\n",
       "    </tr>\n",
       "    <tr>\n",
       "      <th>SCF</th>\n",
       "      <td>6.0</td>\n",
       "      <td>Up</td>\n",
       "      <td>6.622833e-01</td>\n",
       "      <td>7.302098e-01</td>\n",
       "      <td>0.158363</td>\n",
       "      <td>-0.0171001</td>\n",
       "      <td>0.333825</td>\n",
       "      <td>0.174877</td>\n",
       "      <td>1.84266</td>\n",
       "      <td>0.164531</td>\n",
       "      <td>...</td>\n",
       "      <td>0.175463</td>\n",
       "      <td>1.38558</td>\n",
       "      <td>1.16573</td>\n",
       "      <td>0.333333</td>\n",
       "      <td>0</td>\n",
       "      <td>CUL1/FBXL6/FBXO11/FBXO28/RBX1/SKP1</td>\n",
       "      <td>0.163991</td>\n",
       "      <td>0.069616</td>\n",
       "      <td>0.251880</td>\n",
       "      <td>False</td>\n",
       "    </tr>\n",
       "    <tr>\n",
       "      <th>CRL4-DDB2 (exclusive subunits)</th>\n",
       "      <td>3.0</td>\n",
       "      <td>Up</td>\n",
       "      <td>6.958875e-01</td>\n",
       "      <td>7.607584e-01</td>\n",
       "      <td>0.247856</td>\n",
       "      <td>-0.00815413</td>\n",
       "      <td>0.503867</td>\n",
       "      <td>0.26035</td>\n",
       "      <td>1.959</td>\n",
       "      <td>0.210231</td>\n",
       "      <td>...</td>\n",
       "      <td>0.25601</td>\n",
       "      <td>1.29254</td>\n",
       "      <td>1.08797</td>\n",
       "      <td>0</td>\n",
       "      <td>0</td>\n",
       "      <td>CUL4A/DDB1/DDB2</td>\n",
       "      <td>0.233308</td>\n",
       "      <td>0.048870</td>\n",
       "      <td>0.423815</td>\n",
       "      <td>False</td>\n",
       "    </tr>\n",
       "    <tr>\n",
       "      <th>Condensin II</th>\n",
       "      <td>4.0</td>\n",
       "      <td>Up</td>\n",
       "      <td>7.159291e-01</td>\n",
       "      <td>7.760912e-01</td>\n",
       "      <td>0.188178</td>\n",
       "      <td>-0.06762</td>\n",
       "      <td>0.443975</td>\n",
       "      <td>0.00842319</td>\n",
       "      <td>1.87327</td>\n",
       "      <td>0.0946064</td>\n",
       "      <td>...</td>\n",
       "      <td>0.255798</td>\n",
       "      <td>1.60865</td>\n",
       "      <td>1.35433</td>\n",
       "      <td>0.25</td>\n",
       "      <td>0</td>\n",
       "      <td>NCAPD3/NCAPH2/SMC2/SMC4</td>\n",
       "      <td>0.253417</td>\n",
       "      <td>0.105105</td>\n",
       "      <td>0.392809</td>\n",
       "      <td>False</td>\n",
       "    </tr>\n",
       "    <tr>\n",
       "      <th>B-WICH (exclusive subunits)</th>\n",
       "      <td>3.0</td>\n",
       "      <td>Down</td>\n",
       "      <td>7.527622e-01</td>\n",
       "      <td>8.092194e-01</td>\n",
       "      <td>0.122719</td>\n",
       "      <td>-0.0612849</td>\n",
       "      <td>0.306723</td>\n",
       "      <td>0.0239012</td>\n",
       "      <td>0.476444</td>\n",
       "      <td>0.00419399</td>\n",
       "      <td>...</td>\n",
       "      <td>0.184004</td>\n",
       "      <td>2.84443</td>\n",
       "      <td>2.3952</td>\n",
       "      <td>0.666667</td>\n",
       "      <td>0</td>\n",
       "      <td>DDX21/MYBBP1A/SIRT7</td>\n",
       "      <td>0.250659</td>\n",
       "      <td>0.068808</td>\n",
       "      <td>0.409000</td>\n",
       "      <td>False</td>\n",
       "    </tr>\n",
       "    <tr>\n",
       "      <th>PTW/PP1</th>\n",
       "      <td>6.0</td>\n",
       "      <td>Up</td>\n",
       "      <td>8.320803e-01</td>\n",
       "      <td>8.870939e-01</td>\n",
       "      <td>0.0830675</td>\n",
       "      <td>-0.0411291</td>\n",
       "      <td>0.207264</td>\n",
       "      <td>0.200714</td>\n",
       "      <td>1.44665</td>\n",
       "      <td>0.223064</td>\n",
       "      <td>...</td>\n",
       "      <td>0.124197</td>\n",
       "      <td>0.884504</td>\n",
       "      <td>0.747675</td>\n",
       "      <td>0</td>\n",
       "      <td>0</td>\n",
       "      <td>PPP1CA/PPP1CB/PPP1CC/PPP1R10/TOX4/WDR82</td>\n",
       "      <td>0.085522</td>\n",
       "      <td>0.029704</td>\n",
       "      <td>0.141804</td>\n",
       "      <td>False</td>\n",
       "    </tr>\n",
       "    <tr>\n",
       "      <th>OST</th>\n",
       "      <td>4.0</td>\n",
       "      <td>Up</td>\n",
       "      <td>8.806227e-01</td>\n",
       "      <td>9.311502e-01</td>\n",
       "      <td>0.12804</td>\n",
       "      <td>-0.0649948</td>\n",
       "      <td>0.321074</td>\n",
       "      <td>-0.0680289</td>\n",
       "      <td>1.39202</td>\n",
       "      <td>0.194209</td>\n",
       "      <td>...</td>\n",
       "      <td>0.193035</td>\n",
       "      <td>0.75336</td>\n",
       "      <td>0.634501</td>\n",
       "      <td>0</td>\n",
       "      <td>0</td>\n",
       "      <td>DDOST/RPN1/RPN2/STT3B</td>\n",
       "      <td>0.127763</td>\n",
       "      <td>0.025709</td>\n",
       "      <td>0.231166</td>\n",
       "      <td>False</td>\n",
       "    </tr>\n",
       "    <tr>\n",
       "      <th>PTW/PP1 (exclusive subunits)</th>\n",
       "      <td>5.0</td>\n",
       "      <td>Up</td>\n",
       "      <td>9.008851e-01</td>\n",
       "      <td>9.411739e-01</td>\n",
       "      <td>0.0706154</td>\n",
       "      <td>-0.047295</td>\n",
       "      <td>0.188526</td>\n",
       "      <td>0.153653</td>\n",
       "      <td>1.34519</td>\n",
       "      <td>0.254572</td>\n",
       "      <td>...</td>\n",
       "      <td>0.11791</td>\n",
       "      <td>0.824686</td>\n",
       "      <td>0.696537</td>\n",
       "      <td>0</td>\n",
       "      <td>0</td>\n",
       "      <td>PPP1CA/PPP1CB/PPP1CC/PPP1R10/TOX4</td>\n",
       "      <td>0.076090</td>\n",
       "      <td>0.013781</td>\n",
       "      <td>0.137998</td>\n",
       "      <td>False</td>\n",
       "    </tr>\n",
       "    <tr>\n",
       "      <th>RNA Pol III</th>\n",
       "      <td>6.0</td>\n",
       "      <td>Down</td>\n",
       "      <td>9.046943e-01</td>\n",
       "      <td>9.411739e-01</td>\n",
       "      <td>0.0587841</td>\n",
       "      <td>-0.0722372</td>\n",
       "      <td>0.189805</td>\n",
       "      <td>0.119703</td>\n",
       "      <td>1.06482</td>\n",
       "      <td>0.309289</td>\n",
       "      <td>...</td>\n",
       "      <td>0.131021</td>\n",
       "      <td>0.877401</td>\n",
       "      <td>0.736666</td>\n",
       "      <td>0.166667</td>\n",
       "      <td>0</td>\n",
       "      <td>POLR1C/POLR2E/POLR2F/POLR2H/POLR2K/POLR2L</td>\n",
       "      <td>0.053484</td>\n",
       "      <td>-0.009501</td>\n",
       "      <td>0.117320</td>\n",
       "      <td>False</td>\n",
       "    </tr>\n",
       "    <tr>\n",
       "      <th>RNA exosome</th>\n",
       "      <td>10.0</td>\n",
       "      <td>Up</td>\n",
       "      <td>9.305148e-01</td>\n",
       "      <td>9.575343e-01</td>\n",
       "      <td>0.0623067</td>\n",
       "      <td>-0.159086</td>\n",
       "      <td>0.283699</td>\n",
       "      <td>0.0603296</td>\n",
       "      <td>1.35684</td>\n",
       "      <td>0.263609</td>\n",
       "      <td>...</td>\n",
       "      <td>0.221392</td>\n",
       "      <td>1.23379</td>\n",
       "      <td>1.03811</td>\n",
       "      <td>0.2</td>\n",
       "      <td>0</td>\n",
       "      <td>EXOSC1/EXOSC10/EXOSC2 (1)/EXOSC2 (2)/EXOSC3/EX...</td>\n",
       "      <td>0.106428</td>\n",
       "      <td>0.027428</td>\n",
       "      <td>0.172466</td>\n",
       "      <td>False</td>\n",
       "    </tr>\n",
       "    <tr>\n",
       "      <th>SCF (exclusive subunits)</th>\n",
       "      <td>4.0</td>\n",
       "      <td>Up</td>\n",
       "      <td>9.352661e-01</td>\n",
       "      <td>9.575343e-01</td>\n",
       "      <td>0.135347</td>\n",
       "      <td>-0.0521935</td>\n",
       "      <td>0.322888</td>\n",
       "      <td>0.145064</td>\n",
       "      <td>1.37188</td>\n",
       "      <td>0.232739</td>\n",
       "      <td>...</td>\n",
       "      <td>0.187541</td>\n",
       "      <td>1.10226</td>\n",
       "      <td>0.926808</td>\n",
       "      <td>0.25</td>\n",
       "      <td>0</td>\n",
       "      <td>CUL1/FBXL6/FBXO11/FBXO28</td>\n",
       "      <td>0.131655</td>\n",
       "      <td>0.013049</td>\n",
       "      <td>0.244423</td>\n",
       "      <td>False</td>\n",
       "    </tr>\n",
       "    <tr>\n",
       "      <th>Base Excision Repair Complex</th>\n",
       "      <td>4.0</td>\n",
       "      <td>Down</td>\n",
       "      <td>9.578881e-01</td>\n",
       "      <td>9.729730e-01</td>\n",
       "      <td>0.194261</td>\n",
       "      <td>0.0599209</td>\n",
       "      <td>0.328602</td>\n",
       "      <td>0.135555</td>\n",
       "      <td>1.61747</td>\n",
       "      <td>0.360397</td>\n",
       "      <td>...</td>\n",
       "      <td>0.13434</td>\n",
       "      <td>1.95392</td>\n",
       "      <td>1.63974</td>\n",
       "      <td>0.25</td>\n",
       "      <td>0</td>\n",
       "      <td>POLB/POLE3/XRCC1 (1)/XRCC1 (2)</td>\n",
       "      <td>0.031597</td>\n",
       "      <td>-0.045004</td>\n",
       "      <td>0.117569</td>\n",
       "      <td>False</td>\n",
       "    </tr>\n",
       "    <tr>\n",
       "      <th>Nuclear pore complex</th>\n",
       "      <td>22.0</td>\n",
       "      <td>Down</td>\n",
       "      <td>9.668068e-01</td>\n",
       "      <td>9.743600e-01</td>\n",
       "      <td>0.102641</td>\n",
       "      <td>-0.0900736</td>\n",
       "      <td>0.295355</td>\n",
       "      <td>0.0230869</td>\n",
       "      <td>1.42608</td>\n",
       "      <td>0.234413</td>\n",
       "      <td>...</td>\n",
       "      <td>0.192715</td>\n",
       "      <td>1.59493</td>\n",
       "      <td>1.34069</td>\n",
       "      <td>0.136364</td>\n",
       "      <td>0</td>\n",
       "      <td>AAAS/AHCTF1/NDC1/NUP107/NUP133/NUP153/NUP188/N...</td>\n",
       "      <td>0.075267</td>\n",
       "      <td>0.026631</td>\n",
       "      <td>0.128176</td>\n",
       "      <td>False</td>\n",
       "    </tr>\n",
       "    <tr>\n",
       "      <th>Nuclear pore complex (exclusive subunits)</th>\n",
       "      <td>20.0</td>\n",
       "      <td>Down</td>\n",
       "      <td>9.775688e-01</td>\n",
       "      <td>9.775688e-01</td>\n",
       "      <td>0.105943</td>\n",
       "      <td>-0.0909846</td>\n",
       "      <td>0.302871</td>\n",
       "      <td>0.0319949</td>\n",
       "      <td>1.46547</td>\n",
       "      <td>0.221263</td>\n",
       "      <td>...</td>\n",
       "      <td>0.196928</td>\n",
       "      <td>1.70128</td>\n",
       "      <td>1.43006</td>\n",
       "      <td>0.15</td>\n",
       "      <td>0</td>\n",
       "      <td>AAAS/AHCTF1/NDC1/NUP107/NUP133/NUP153/NUP188/N...</td>\n",
       "      <td>0.076175</td>\n",
       "      <td>0.022783</td>\n",
       "      <td>0.135329</td>\n",
       "      <td>False</td>\n",
       "    </tr>\n",
       "  </tbody>\n",
       "</table>\n",
       "<p>1818 rows × 25 columns</p>\n",
       "</div>"
      ],
      "text/plain": [
       "                                                             NGenes Direction  \\\n",
       "predictor Complex                                                               \n",
       "H3K9me3   ncPRC1.6 (exclusive subunits)                         6.0        Up   \n",
       "          ncPRC1.6                                             15.0        Up   \n",
       "          SIN3A/B (exclusive subunits)                          9.0        Up   \n",
       "          PRC1                                                  9.0        Up   \n",
       "          CAF-1                                                 3.0        Up   \n",
       "          BHC                                                   8.0        Up   \n",
       "          HUSH                                                  4.0        Up   \n",
       "          SIN3A/B                                              18.0        Up   \n",
       "          KAP1-SETDB1-DNMT1-ZNF304                              3.0        Up   \n",
       "          SF3B                                                  7.0      Down   \n",
       "          INO80 (exclusive subunits)                           11.0        Up   \n",
       "          KAP1-HP1                                              3.0        Up   \n",
       "          B-MYB-MuvB                                            6.0        Up   \n",
       "          SRCAP                                                 9.0      Down   \n",
       "          ORC                                                   5.0        Up   \n",
       "          B-MYB-MuvB (exclusive subunits)                       5.0        Up   \n",
       "          ASAP                                                  6.0      Down   \n",
       "          Integrator (exclusive subunits)                      13.0        Up   \n",
       "          THO                                                   6.0      Down   \n",
       "          Integrator                                           14.0        Up   \n",
       "          PRC1 (exclusive subunits)                             6.0        Up   \n",
       "          PR-DUB                                                5.0        Up   \n",
       "          ncPRC1                                                5.0        Up   \n",
       "          TREX                                                  9.0      Down   \n",
       "          40S Ribosomal subunit                                29.0      Down   \n",
       "          ncPRC1.1                                             11.0        Up   \n",
       "          INO80                                                15.0        Up   \n",
       "          Mediator                                             17.0        Up   \n",
       "          NuA4 (exclusive subunits)                             6.0        Up   \n",
       "          PRC2.1                                               12.0        Up   \n",
       "...                                                             ...       ...   \n",
       "H3ac      Mitochondrial respiratory chain complex I             4.0        Up   \n",
       "          ncPRC1.1 (exclusive subunits)                         5.0        Up   \n",
       "          CKM                                                   3.0        Up   \n",
       "          mCRD-poly(A)-bridging complex                         3.0      Down   \n",
       "          TFIID (exclusive subunits)                            4.0        Up   \n",
       "          RNA Pol II (exclusive subunits)                       6.0        Up   \n",
       "          NSL (exclusive subunits)                              3.0        Up   \n",
       "          Base Excision Repair Complex (exclusive subunits)     3.0      Down   \n",
       "          VHL SCF-like                                          4.0        Up   \n",
       "          XPC (exclusive subunits)                              3.0        Up   \n",
       "          Fanconi Anemia                                        4.0        Up   \n",
       "          PRC2.1 (exclusive subunits)                           5.0        Up   \n",
       "          RNA Pol II                                           11.0        Up   \n",
       "          B-MYB-MuvB (exclusive subunits)                       5.0        Up   \n",
       "          CRL4-DDB2                                             4.0        Up   \n",
       "          CDCA5-PDS5-Cohesin                                    3.0        Up   \n",
       "          VCB                                                   3.0        Up   \n",
       "          SCF                                                   6.0        Up   \n",
       "          CRL4-DDB2 (exclusive subunits)                        3.0        Up   \n",
       "          Condensin II                                          4.0        Up   \n",
       "          B-WICH (exclusive subunits)                           3.0      Down   \n",
       "          PTW/PP1                                               6.0        Up   \n",
       "          OST                                                   4.0        Up   \n",
       "          PTW/PP1 (exclusive subunits)                          5.0        Up   \n",
       "          RNA Pol III                                           6.0      Down   \n",
       "          RNA exosome                                          10.0        Up   \n",
       "          SCF (exclusive subunits)                              4.0        Up   \n",
       "          Base Excision Repair Complex                          4.0      Down   \n",
       "          Nuclear pore complex                                 22.0      Down   \n",
       "          Nuclear pore complex (exclusive subunits)            20.0      Down   \n",
       "\n",
       "                                                                   PValue  \\\n",
       "predictor Complex                                                           \n",
       "H3K9me3   ncPRC1.6 (exclusive subunits)                      3.348327e-09   \n",
       "          ncPRC1.6                                           4.996852e-08   \n",
       "          SIN3A/B (exclusive subunits)                       1.235410e-06   \n",
       "          PRC1                                               5.527297e-06   \n",
       "          CAF-1                                              7.327983e-06   \n",
       "          BHC                                                8.156250e-06   \n",
       "          HUSH                                               1.332954e-05   \n",
       "          SIN3A/B                                            4.177514e-05   \n",
       "          KAP1-SETDB1-DNMT1-ZNF304                           1.007542e-04   \n",
       "          SF3B                                               1.128506e-04   \n",
       "          INO80 (exclusive subunits)                         1.358568e-04   \n",
       "          KAP1-HP1                                           1.495414e-04   \n",
       "          B-MYB-MuvB                                         2.839887e-04   \n",
       "          SRCAP                                              5.154156e-04   \n",
       "          ORC                                                5.573002e-04   \n",
       "          B-MYB-MuvB (exclusive subunits)                    5.829568e-04   \n",
       "          ASAP                                               7.199265e-04   \n",
       "          Integrator (exclusive subunits)                    7.563552e-04   \n",
       "          THO                                                7.781227e-04   \n",
       "          Integrator                                         1.213460e-03   \n",
       "          PRC1 (exclusive subunits)                          1.291609e-03   \n",
       "          PR-DUB                                             1.548879e-03   \n",
       "          ncPRC1                                             2.036580e-03   \n",
       "          TREX                                               2.590671e-03   \n",
       "          40S Ribosomal subunit                              3.927548e-03   \n",
       "          ncPRC1.1                                           4.142518e-03   \n",
       "          INO80                                              4.261622e-03   \n",
       "          Mediator                                           4.372266e-03   \n",
       "          NuA4 (exclusive subunits)                          6.019978e-03   \n",
       "          PRC2.1                                             8.444936e-03   \n",
       "...                                                                   ...   \n",
       "H3ac      Mitochondrial respiratory chain complex I          3.651924e-01   \n",
       "          ncPRC1.1 (exclusive subunits)                      3.725542e-01   \n",
       "          CKM                                                3.840329e-01   \n",
       "          mCRD-poly(A)-bridging complex                      3.885777e-01   \n",
       "          TFIID (exclusive subunits)                         4.024965e-01   \n",
       "          RNA Pol II (exclusive subunits)                    4.073290e-01   \n",
       "          NSL (exclusive subunits)                           4.087440e-01   \n",
       "          Base Excision Repair Complex (exclusive subunits)  4.131566e-01   \n",
       "          VHL SCF-like                                       4.215831e-01   \n",
       "          XPC (exclusive subunits)                           4.404277e-01   \n",
       "          Fanconi Anemia                                     4.514898e-01   \n",
       "          PRC2.1 (exclusive subunits)                        4.648878e-01   \n",
       "          RNA Pol II                                         4.688270e-01   \n",
       "          B-MYB-MuvB (exclusive subunits)                    5.015839e-01   \n",
       "          CRL4-DDB2                                          5.104488e-01   \n",
       "          CDCA5-PDS5-Cohesin                                 5.314745e-01   \n",
       "          VCB                                                5.757043e-01   \n",
       "          SCF                                                6.622833e-01   \n",
       "          CRL4-DDB2 (exclusive subunits)                     6.958875e-01   \n",
       "          Condensin II                                       7.159291e-01   \n",
       "          B-WICH (exclusive subunits)                        7.527622e-01   \n",
       "          PTW/PP1                                            8.320803e-01   \n",
       "          OST                                                8.806227e-01   \n",
       "          PTW/PP1 (exclusive subunits)                       9.008851e-01   \n",
       "          RNA Pol III                                        9.046943e-01   \n",
       "          RNA exosome                                        9.305148e-01   \n",
       "          SCF (exclusive subunits)                           9.352661e-01   \n",
       "          Base Excision Repair Complex                       9.578881e-01   \n",
       "          Nuclear pore complex                               9.668068e-01   \n",
       "          Nuclear pore complex (exclusive subunits)          9.775688e-01   \n",
       "\n",
       "                                                                      FDR  \\\n",
       "predictor Complex                                                           \n",
       "H3K9me3   ncPRC1.6 (exclusive subunits)                      4.386309e-07   \n",
       "          ncPRC1.6                                           3.272938e-06   \n",
       "          SIN3A/B (exclusive subunits)                       5.394624e-05   \n",
       "          PRC1                                               1.780781e-04   \n",
       "          CAF-1                                              1.780781e-04   \n",
       "          BHC                                                1.780781e-04   \n",
       "          HUSH                                               2.494529e-04   \n",
       "          SIN3A/B                                            6.840679e-04   \n",
       "          KAP1-SETDB1-DNMT1-ZNF304                           1.466533e-03   \n",
       "          SF3B                                               1.478343e-03   \n",
       "          INO80 (exclusive subunits)                         1.617931e-03   \n",
       "          KAP1-HP1                                           1.632494e-03   \n",
       "          B-MYB-MuvB                                         2.861733e-03   \n",
       "          SRCAP                                              4.772959e-03   \n",
       "          ORC                                                4.772959e-03   \n",
       "          B-MYB-MuvB (exclusive subunits)                    4.772959e-03   \n",
       "          ASAP                                               5.364951e-03   \n",
       "          Integrator (exclusive subunits)                    5.364951e-03   \n",
       "          THO                                                5.364951e-03   \n",
       "          Integrator                                         7.948165e-03   \n",
       "          PRC1 (exclusive subunits)                          8.057179e-03   \n",
       "          PR-DUB                                             9.222872e-03   \n",
       "          ncPRC1                                             1.159965e-02   \n",
       "          TREX                                               1.414075e-02   \n",
       "          40S Ribosomal subunit                              2.045596e-02   \n",
       "          ncPRC1.1                                           2.045596e-02   \n",
       "          INO80                                              2.045596e-02   \n",
       "          Mediator                                           2.045596e-02   \n",
       "          NuA4 (exclusive subunits)                          2.719369e-02   \n",
       "          PRC2.1                                             3.687622e-02   \n",
       "...                                                                   ...   \n",
       "H3ac      Mitochondrial respiratory chain complex I          4.710981e-01   \n",
       "          ncPRC1.1 (exclusive subunits)                      4.758365e-01   \n",
       "          CKM                                                4.856887e-01   \n",
       "          mCRD-poly(A)-bridging complex                      4.866652e-01   \n",
       "          TFIID (exclusive subunits)                         4.974337e-01   \n",
       "          RNA Pol II (exclusive subunits)                    4.974337e-01   \n",
       "          NSL (exclusive subunits)                           4.974337e-01   \n",
       "          Base Excision Repair Complex (exclusive subunits)  4.981047e-01   \n",
       "          VHL SCF-like                                       5.035576e-01   \n",
       "          XPC (exclusive subunits)                           5.212402e-01   \n",
       "          Fanconi Anemia                                     5.294744e-01   \n",
       "          PRC2.1 (exclusive subunits)                        5.399883e-01   \n",
       "          RNA Pol II                                         5.399883e-01   \n",
       "          B-MYB-MuvB (exclusive subunits)                    5.726046e-01   \n",
       "          CRL4-DDB2                                          5.776131e-01   \n",
       "          CDCA5-PDS5-Cohesin                                 5.961758e-01   \n",
       "          VCB                                                6.402229e-01   \n",
       "          SCF                                                7.302098e-01   \n",
       "          CRL4-DDB2 (exclusive subunits)                     7.607584e-01   \n",
       "          Condensin II                                       7.760912e-01   \n",
       "          B-WICH (exclusive subunits)                        8.092194e-01   \n",
       "          PTW/PP1                                            8.870939e-01   \n",
       "          OST                                                9.311502e-01   \n",
       "          PTW/PP1 (exclusive subunits)                       9.411739e-01   \n",
       "          RNA Pol III                                        9.411739e-01   \n",
       "          RNA exosome                                        9.575343e-01   \n",
       "          SCF (exclusive subunits)                           9.575343e-01   \n",
       "          Base Excision Repair Complex                       9.729730e-01   \n",
       "          Nuclear pore complex                               9.743600e-01   \n",
       "          Nuclear pore complex (exclusive subunits)          9.775688e-01   \n",
       "\n",
       "                                                             mean_logFC  \\\n",
       "predictor Complex                                                         \n",
       "H3K9me3   ncPRC1.6 (exclusive subunits)                        0.849107   \n",
       "          ncPRC1.6                                             0.435135   \n",
       "          SIN3A/B (exclusive subunits)                         0.229611   \n",
       "          PRC1                                                 0.251455   \n",
       "          CAF-1                                                 1.86441   \n",
       "          BHC                                                  0.412906   \n",
       "          HUSH                                                 0.878475   \n",
       "          SIN3A/B                                              0.176159   \n",
       "          KAP1-SETDB1-DNMT1-ZNF304                              1.23289   \n",
       "          SF3B                                                -0.105004   \n",
       "          INO80 (exclusive subunits)                           0.416366   \n",
       "          KAP1-HP1                                              2.17175   \n",
       "          B-MYB-MuvB                                           0.248151   \n",
       "          SRCAP                                              -0.0613258   \n",
       "          ORC                                                    1.1861   \n",
       "          B-MYB-MuvB (exclusive subunits)                      0.245946   \n",
       "          ASAP                                                -0.139175   \n",
       "          Integrator (exclusive subunits)                      0.153446   \n",
       "          THO                                                -0.0900677   \n",
       "          Integrator                                           0.146891   \n",
       "          PRC1 (exclusive subunits)                            0.254266   \n",
       "          PR-DUB                                               0.325304   \n",
       "          ncPRC1                                               0.183471   \n",
       "          TREX                                               -0.0519582   \n",
       "          40S Ribosomal subunit                              -0.0184955   \n",
       "          ncPRC1.1                                             0.225864   \n",
       "          INO80                                                0.313268   \n",
       "          Mediator                                              0.15811   \n",
       "          NuA4 (exclusive subunits)                            0.228422   \n",
       "          PRC2.1                                               0.287373   \n",
       "...                                                                 ...   \n",
       "H3ac      Mitochondrial respiratory chain complex I            0.307783   \n",
       "          ncPRC1.1 (exclusive subunits)                        0.109856   \n",
       "          CKM                                                  0.570646   \n",
       "          mCRD-poly(A)-bridging complex                      0.00403981   \n",
       "          TFIID (exclusive subunits)                           0.892606   \n",
       "          RNA Pol II (exclusive subunits)                       0.14123   \n",
       "          NSL (exclusive subunits)                             0.742837   \n",
       "          Base Excision Repair Complex (exclusive subunits) -0.00150444   \n",
       "          VHL SCF-like                                         0.195866   \n",
       "          XPC (exclusive subunits)                             0.130255   \n",
       "          Fanconi Anemia                                       0.274519   \n",
       "          PRC2.1 (exclusive subunits)                          0.243018   \n",
       "          RNA Pol II                                           0.116759   \n",
       "          B-MYB-MuvB (exclusive subunits)                      0.269117   \n",
       "          CRL4-DDB2                                            0.253116   \n",
       "          CDCA5-PDS5-Cohesin                                   0.270225   \n",
       "          VCB                                                  0.171522   \n",
       "          SCF                                                  0.158363   \n",
       "          CRL4-DDB2 (exclusive subunits)                       0.247856   \n",
       "          Condensin II                                         0.188178   \n",
       "          B-WICH (exclusive subunits)                          0.122719   \n",
       "          PTW/PP1                                             0.0830675   \n",
       "          OST                                                   0.12804   \n",
       "          PTW/PP1 (exclusive subunits)                        0.0706154   \n",
       "          RNA Pol III                                         0.0587841   \n",
       "          RNA exosome                                         0.0623067   \n",
       "          SCF (exclusive subunits)                             0.135347   \n",
       "          Base Excision Repair Complex                         0.194261   \n",
       "          Nuclear pore complex                                 0.102641   \n",
       "          Nuclear pore complex (exclusive subunits)            0.105943   \n",
       "\n",
       "                                                              mean_CI.L  \\\n",
       "predictor Complex                                                         \n",
       "H3K9me3   ncPRC1.6 (exclusive subunits)                        0.634297   \n",
       "          ncPRC1.6                                             0.238182   \n",
       "          SIN3A/B (exclusive subunits)                         0.108907   \n",
       "          PRC1                                                0.0870596   \n",
       "          CAF-1                                                 1.51666   \n",
       "          BHC                                                   0.25004   \n",
       "          HUSH                                                 0.615936   \n",
       "          SIN3A/B                                             0.0378029   \n",
       "          KAP1-SETDB1-DNMT1-ZNF304                              0.92361   \n",
       "          SF3B                                                -0.245177   \n",
       "          INO80 (exclusive subunits)                           0.111745   \n",
       "          KAP1-HP1                                              1.61888   \n",
       "          B-MYB-MuvB                                           0.105002   \n",
       "          SRCAP                                               -0.152724   \n",
       "          ORC                                                  0.541325   \n",
       "          B-MYB-MuvB (exclusive subunits)                      0.110147   \n",
       "          ASAP                                                -0.295493   \n",
       "          Integrator (exclusive subunits)                     0.0082542   \n",
       "          THO                                                 -0.200189   \n",
       "          Integrator                                        -0.00290067   \n",
       "          PRC1 (exclusive subunits)                           0.0673815   \n",
       "          PR-DUB                                                0.11094   \n",
       "          ncPRC1                                              0.0571123   \n",
       "          TREX                                                -0.177137   \n",
       "          40S Ribosomal subunit                               -0.209855   \n",
       "          ncPRC1.1                                             0.107522   \n",
       "          INO80                                               0.0478228   \n",
       "          Mediator                                           -0.0652521   \n",
       "          NuA4 (exclusive subunits)                           0.0459118   \n",
       "          PRC2.1                                             -0.0199971   \n",
       "...                                                                 ...   \n",
       "H3ac      Mitochondrial respiratory chain complex I           0.0623592   \n",
       "          ncPRC1.1 (exclusive subunits)                       -0.013182   \n",
       "          CKM                                                  0.120063   \n",
       "          mCRD-poly(A)-bridging complex                       -0.157683   \n",
       "          TFIID (exclusive subunits)                           0.119837   \n",
       "          RNA Pol II (exclusive subunits)                    0.00811966   \n",
       "          NSL (exclusive subunits)                             0.154736   \n",
       "          Base Excision Repair Complex (exclusive subunits)   -0.107686   \n",
       "          VHL SCF-like                                       0.00869037   \n",
       "          XPC (exclusive subunits)                            0.0110132   \n",
       "          Fanconi Anemia                                      0.0432904   \n",
       "          PRC2.1 (exclusive subunits)                       -0.00734728   \n",
       "          RNA Pol II                                         -0.0127855   \n",
       "          B-MYB-MuvB (exclusive subunits)                    0.00950693   \n",
       "          CRL4-DDB2                                           0.0210794   \n",
       "          CDCA5-PDS5-Cohesin                                -0.00841215   \n",
       "          VCB                                                -0.0246728   \n",
       "          SCF                                                -0.0171001   \n",
       "          CRL4-DDB2 (exclusive subunits)                    -0.00815413   \n",
       "          Condensin II                                         -0.06762   \n",
       "          B-WICH (exclusive subunits)                        -0.0612849   \n",
       "          PTW/PP1                                            -0.0411291   \n",
       "          OST                                                -0.0649948   \n",
       "          PTW/PP1 (exclusive subunits)                        -0.047295   \n",
       "          RNA Pol III                                        -0.0722372   \n",
       "          RNA exosome                                         -0.159086   \n",
       "          SCF (exclusive subunits)                           -0.0521935   \n",
       "          Base Excision Repair Complex                        0.0599209   \n",
       "          Nuclear pore complex                               -0.0900736   \n",
       "          Nuclear pore complex (exclusive subunits)          -0.0909846   \n",
       "\n",
       "                                                             mean_CI.R  \\\n",
       "predictor Complex                                                        \n",
       "H3K9me3   ncPRC1.6 (exclusive subunits)                        1.06392   \n",
       "          ncPRC1.6                                            0.632088   \n",
       "          SIN3A/B (exclusive subunits)                        0.350316   \n",
       "          PRC1                                                 0.41585   \n",
       "          CAF-1                                                2.21216   \n",
       "          BHC                                                 0.575772   \n",
       "          HUSH                                                 1.14101   \n",
       "          SIN3A/B                                             0.314515   \n",
       "          KAP1-SETDB1-DNMT1-ZNF304                             1.54216   \n",
       "          SF3B                                               0.0351686   \n",
       "          INO80 (exclusive subunits)                          0.720987   \n",
       "          KAP1-HP1                                             2.72463   \n",
       "          B-MYB-MuvB                                            0.3913   \n",
       "          SRCAP                                              0.0300723   \n",
       "          ORC                                                  1.83087   \n",
       "          B-MYB-MuvB (exclusive subunits)                     0.381746   \n",
       "          ASAP                                               0.0171436   \n",
       "          Integrator (exclusive subunits)                     0.298638   \n",
       "          THO                                                0.0200535   \n",
       "          Integrator                                          0.296682   \n",
       "          PRC1 (exclusive subunits)                           0.441151   \n",
       "          PR-DUB                                              0.539668   \n",
       "          ncPRC1                                               0.30983   \n",
       "          TREX                                               0.0732206   \n",
       "          40S Ribosomal subunit                               0.172864   \n",
       "          ncPRC1.1                                            0.344207   \n",
       "          INO80                                               0.578713   \n",
       "          Mediator                                            0.381472   \n",
       "          NuA4 (exclusive subunits)                           0.410933   \n",
       "          PRC2.1                                              0.594742   \n",
       "...                                                                ...   \n",
       "H3ac      Mitochondrial respiratory chain complex I           0.553207   \n",
       "          ncPRC1.1 (exclusive subunits)                       0.232893   \n",
       "          CKM                                                  1.02123   \n",
       "          mCRD-poly(A)-bridging complex                       0.165763   \n",
       "          TFIID (exclusive subunits)                           1.66538   \n",
       "          RNA Pol II (exclusive subunits)                      0.27434   \n",
       "          NSL (exclusive subunits)                             1.33094   \n",
       "          Base Excision Repair Complex (exclusive subunits)   0.104677   \n",
       "          VHL SCF-like                                        0.383042   \n",
       "          XPC (exclusive subunits)                            0.249497   \n",
       "          Fanconi Anemia                                      0.505747   \n",
       "          PRC2.1 (exclusive subunits)                         0.493383   \n",
       "          RNA Pol II                                          0.246303   \n",
       "          B-MYB-MuvB (exclusive subunits)                     0.528727   \n",
       "          CRL4-DDB2                                           0.485154   \n",
       "          CDCA5-PDS5-Cohesin                                  0.548862   \n",
       "          VCB                                                 0.367718   \n",
       "          SCF                                                 0.333825   \n",
       "          CRL4-DDB2 (exclusive subunits)                      0.503867   \n",
       "          Condensin II                                        0.443975   \n",
       "          B-WICH (exclusive subunits)                         0.306723   \n",
       "          PTW/PP1                                             0.207264   \n",
       "          OST                                                 0.321074   \n",
       "          PTW/PP1 (exclusive subunits)                        0.188526   \n",
       "          RNA Pol III                                         0.189805   \n",
       "          RNA exosome                                         0.283699   \n",
       "          SCF (exclusive subunits)                            0.322888   \n",
       "          Base Excision Repair Complex                        0.328602   \n",
       "          Nuclear pore complex                                0.295355   \n",
       "          Nuclear pore complex (exclusive subunits)           0.302871   \n",
       "\n",
       "                                                            mean_AveExpr  \\\n",
       "predictor Complex                                                          \n",
       "H3K9me3   ncPRC1.6 (exclusive subunits)                         0.335809   \n",
       "          ncPRC1.6                                             0.0493912   \n",
       "          SIN3A/B (exclusive subunits)                          0.199731   \n",
       "          PRC1                                                  0.952773   \n",
       "          CAF-1                                                  1.17732   \n",
       "          BHC                                                   0.221205   \n",
       "          HUSH                                                  0.609998   \n",
       "          SIN3A/B                                               0.260388   \n",
       "          KAP1-SETDB1-DNMT1-ZNF304                               0.48333   \n",
       "          SF3B                                                  0.033141   \n",
       "          INO80 (exclusive subunits)                           0.0944894   \n",
       "          KAP1-HP1                                               1.46345   \n",
       "          B-MYB-MuvB                                            0.216309   \n",
       "          SRCAP                                                 -0.40798   \n",
       "          ORC                                                    2.61108   \n",
       "          B-MYB-MuvB (exclusive subunits)                       0.083194   \n",
       "          ASAP                                                 0.0299068   \n",
       "          Integrator (exclusive subunits)                      0.0126119   \n",
       "          THO                                                 -0.0132042   \n",
       "          Integrator                                           0.0218912   \n",
       "          PRC1 (exclusive subunits)                              1.14383   \n",
       "          PR-DUB                                                0.337153   \n",
       "          ncPRC1                                                0.121775   \n",
       "          TREX                                               -0.00259699   \n",
       "          40S Ribosomal subunit                               -0.0296365   \n",
       "          ncPRC1.1                                              -0.52952   \n",
       "          INO80                                              -0.00309983   \n",
       "          Mediator                                             0.0700805   \n",
       "          NuA4 (exclusive subunits)                            0.0461168   \n",
       "          PRC2.1                                                0.210958   \n",
       "...                                                                  ...   \n",
       "H3ac      Mitochondrial respiratory chain complex I            0.0311183   \n",
       "          ncPRC1.1 (exclusive subunits)                         0.103957   \n",
       "          CKM                                                   0.474355   \n",
       "          mCRD-poly(A)-bridging complex                        0.0479513   \n",
       "          TFIID (exclusive subunits)                             1.90024   \n",
       "          RNA Pol II (exclusive subunits)                       0.227907   \n",
       "          NSL (exclusive subunits)                              0.438702   \n",
       "          Base Excision Repair Complex (exclusive subunits)   -0.0660697   \n",
       "          VHL SCF-like                                          0.102599   \n",
       "          XPC (exclusive subunits)                              0.104915   \n",
       "          Fanconi Anemia                                        0.092002   \n",
       "          PRC2.1 (exclusive subunits)                          -0.877939   \n",
       "          RNA Pol II                                            0.192364   \n",
       "          B-MYB-MuvB (exclusive subunits)                       0.165454   \n",
       "          CRL4-DDB2                                             0.265779   \n",
       "          CDCA5-PDS5-Cohesin                                    0.186229   \n",
       "          VCB                                                  0.0427769   \n",
       "          SCF                                                   0.174877   \n",
       "          CRL4-DDB2 (exclusive subunits)                         0.26035   \n",
       "          Condensin II                                        0.00842319   \n",
       "          B-WICH (exclusive subunits)                          0.0239012   \n",
       "          PTW/PP1                                               0.200714   \n",
       "          OST                                                 -0.0680289   \n",
       "          PTW/PP1 (exclusive subunits)                          0.153653   \n",
       "          RNA Pol III                                           0.119703   \n",
       "          RNA exosome                                          0.0603296   \n",
       "          SCF (exclusive subunits)                              0.145064   \n",
       "          Base Excision Repair Complex                          0.135555   \n",
       "          Nuclear pore complex                                 0.0230869   \n",
       "          Nuclear pore complex (exclusive subunits)            0.0319949   \n",
       "\n",
       "                                                               mean_t  \\\n",
       "predictor Complex                                                       \n",
       "H3K9me3   ncPRC1.6 (exclusive subunits)                       11.2397   \n",
       "          ncPRC1.6                                            6.22172   \n",
       "          SIN3A/B (exclusive subunits)                        4.52591   \n",
       "          PRC1                                                4.84648   \n",
       "          CAF-1                                               15.0551   \n",
       "          BHC                                                 8.01459   \n",
       "          HUSH                                                7.32464   \n",
       "          SIN3A/B                                             3.04936   \n",
       "          KAP1-SETDB1-DNMT1-ZNF304                            9.84516   \n",
       "          SF3B                                               -2.02126   \n",
       "          INO80 (exclusive subunits)                          3.03286   \n",
       "          KAP1-HP1                                            7.44629   \n",
       "          B-MYB-MuvB                                          3.87901   \n",
       "          SRCAP                                              -1.45227   \n",
       "          ORC                                                 4.04811   \n",
       "          B-MYB-MuvB (exclusive subunits)                     4.02627   \n",
       "          ASAP                                               -1.83967   \n",
       "          Integrator (exclusive subunits)                     2.58394   \n",
       "          THO                                                -1.80687   \n",
       "          Integrator                                          2.44523   \n",
       "          PRC1 (exclusive subunits)                           4.12767   \n",
       "          PR-DUB                                              3.77393   \n",
       "          ncPRC1                                              4.36592   \n",
       "          TREX                                               -1.17128   \n",
       "          40S Ribosomal subunit                             -0.378219   \n",
       "          ncPRC1.1                                            3.47876   \n",
       "          INO80                                               2.23025   \n",
       "          Mediator                                            2.11065   \n",
       "          NuA4 (exclusive subunits)                           2.90169   \n",
       "          PRC2.1                                              2.31789   \n",
       "...                                                               ...   \n",
       "H3ac      Mitochondrial respiratory chain complex I           2.78634   \n",
       "          ncPRC1.1 (exclusive subunits)                       2.80886   \n",
       "          CKM                                                 3.27414   \n",
       "          mCRD-poly(A)-bridging complex                     -0.463855   \n",
       "          TFIID (exclusive subunits)                          2.72514   \n",
       "          RNA Pol II (exclusive subunits)                     2.36315   \n",
       "          NSL (exclusive subunits)                            2.99183   \n",
       "          Base Excision Repair Complex (exclusive subunits) -0.334818   \n",
       "          VHL SCF-like                                        2.63465   \n",
       "          XPC (exclusive subunits)                            2.83297   \n",
       "          Fanconi Anemia                                      2.48273   \n",
       "          PRC2.1 (exclusive subunits)                         2.36424   \n",
       "          RNA Pol II                                          1.97011   \n",
       "          B-MYB-MuvB (exclusive subunits)                     2.17069   \n",
       "          CRL4-DDB2                                           2.34783   \n",
       "          CDCA5-PDS5-Cohesin                                  2.71098   \n",
       "          VCB                                                 2.34143   \n",
       "          SCF                                                 1.84266   \n",
       "          CRL4-DDB2 (exclusive subunits)                        1.959   \n",
       "          Condensin II                                        1.87327   \n",
       "          B-WICH (exclusive subunits)                        0.476444   \n",
       "          PTW/PP1                                             1.44665   \n",
       "          OST                                                 1.39202   \n",
       "          PTW/PP1 (exclusive subunits)                        1.34519   \n",
       "          RNA Pol III                                         1.06482   \n",
       "          RNA exosome                                         1.35684   \n",
       "          SCF (exclusive subunits)                            1.37188   \n",
       "          Base Excision Repair Complex                        1.61747   \n",
       "          Nuclear pore complex                                1.42608   \n",
       "          Nuclear pore complex (exclusive subunits)           1.46547   \n",
       "\n",
       "                                                            mean_P.Value  ...  \\\n",
       "predictor Complex                                                         ...   \n",
       "H3K9me3   ncPRC1.6 (exclusive subunits)                        0.0316113  ...   \n",
       "          ncPRC1.6                                              0.114882  ...   \n",
       "          SIN3A/B (exclusive subunits)                          0.011284  ...   \n",
       "          PRC1                                                  0.108419  ...   \n",
       "          CAF-1                                               0.00286562  ...   \n",
       "          BHC                                                   0.171096  ...   \n",
       "          HUSH                                               0.000987726  ...   \n",
       "          SIN3A/B                                               0.074532  ...   \n",
       "          KAP1-SETDB1-DNMT1-ZNF304                            0.00345532  ...   \n",
       "          SF3B                                                  0.116892  ...   \n",
       "          INO80 (exclusive subunits)                           0.0214367  ...   \n",
       "          KAP1-HP1                                            0.00337294  ...   \n",
       "          B-MYB-MuvB                                          0.00388529  ...   \n",
       "          SRCAP                                                 0.314114  ...   \n",
       "          ORC                                                  0.0025062  ...   \n",
       "          B-MYB-MuvB (exclusive subunits)                     0.00294456  ...   \n",
       "          ASAP                                                  0.127217  ...   \n",
       "          Integrator (exclusive subunits)                       0.104227  ...   \n",
       "          THO                                                   0.115357  ...   \n",
       "          Integrator                                            0.134865  ...   \n",
       "          PRC1 (exclusive subunits)                             0.158776  ...   \n",
       "          PR-DUB                                               0.0114422  ...   \n",
       "          ncPRC1                                                0.078243  ...   \n",
       "          TREX                                                  0.237805  ...   \n",
       "          40S Ribosomal subunit                                 0.523386  ...   \n",
       "          ncPRC1.1                                              0.269778  ...   \n",
       "          INO80                                                 0.196147  ...   \n",
       "          Mediator                                               0.17042  ...   \n",
       "          NuA4 (exclusive subunits)                             0.027224  ...   \n",
       "          PRC2.1                                                0.136696  ...   \n",
       "...                                                                  ...  ...   \n",
       "H3ac      Mitochondrial respiratory chain complex I            0.0571303  ...   \n",
       "          ncPRC1.1 (exclusive subunits)                         0.169789  ...   \n",
       "          CKM                                                   0.071729  ...   \n",
       "          mCRD-poly(A)-bridging complex                         0.143203  ...   \n",
       "          TFIID (exclusive subunits)                            0.176293  ...   \n",
       "          RNA Pol II (exclusive subunits)                      0.0746231  ...   \n",
       "          NSL (exclusive subunits)                             0.0732107  ...   \n",
       "          Base Excision Repair Complex (exclusive subunits)      0.48053  ...   \n",
       "          VHL SCF-like                                          0.143485  ...   \n",
       "          XPC (exclusive subunits)                              0.117074  ...   \n",
       "          Fanconi Anemia                                       0.0733641  ...   \n",
       "          PRC2.1 (exclusive subunits)                           0.126348  ...   \n",
       "          RNA Pol II                                            0.183626  ...   \n",
       "          B-MYB-MuvB (exclusive subunits)                       0.047375  ...   \n",
       "          CRL4-DDB2                                             0.158251  ...   \n",
       "          CDCA5-PDS5-Cohesin                                    0.207677  ...   \n",
       "          VCB                                                   0.190542  ...   \n",
       "          SCF                                                   0.164531  ...   \n",
       "          CRL4-DDB2 (exclusive subunits)                        0.210231  ...   \n",
       "          Condensin II                                         0.0946064  ...   \n",
       "          B-WICH (exclusive subunits)                         0.00419399  ...   \n",
       "          PTW/PP1                                               0.223064  ...   \n",
       "          OST                                                   0.194209  ...   \n",
       "          PTW/PP1 (exclusive subunits)                          0.254572  ...   \n",
       "          RNA Pol III                                           0.309289  ...   \n",
       "          RNA exosome                                           0.263609  ...   \n",
       "          SCF (exclusive subunits)                              0.232739  ...   \n",
       "          Base Excision Repair Complex                          0.360397  ...   \n",
       "          Nuclear pore complex                                  0.234413  ...   \n",
       "          Nuclear pore complex (exclusive subunits)             0.221263  ...   \n",
       "\n",
       "                                                            mean_confint_half_width  \\\n",
       "predictor Complex                                                                     \n",
       "H3K9me3   ncPRC1.6 (exclusive subunits)                                     0.21481   \n",
       "          ncPRC1.6                                                         0.196953   \n",
       "          SIN3A/B (exclusive subunits)                                     0.120704   \n",
       "          PRC1                                                             0.164395   \n",
       "          CAF-1                                                            0.347753   \n",
       "          BHC                                                              0.162866   \n",
       "          HUSH                                                             0.262538   \n",
       "          SIN3A/B                                                          0.138356   \n",
       "          KAP1-SETDB1-DNMT1-ZNF304                                         0.309276   \n",
       "          SF3B                                                             0.140173   \n",
       "          INO80 (exclusive subunits)                                       0.304621   \n",
       "          KAP1-HP1                                                         0.552873   \n",
       "          B-MYB-MuvB                                                       0.143149   \n",
       "          SRCAP                                                           0.0913981   \n",
       "          ORC                                                              0.644772   \n",
       "          B-MYB-MuvB (exclusive subunits)                                    0.1358   \n",
       "          ASAP                                                             0.156318   \n",
       "          Integrator (exclusive subunits)                                  0.145192   \n",
       "          THO                                                              0.110121   \n",
       "          Integrator                                                       0.149791   \n",
       "          PRC1 (exclusive subunits)                                        0.186885   \n",
       "          PR-DUB                                                           0.214364   \n",
       "          ncPRC1                                                           0.126359   \n",
       "          TREX                                                             0.125179   \n",
       "          40S Ribosomal subunit                                             0.19136   \n",
       "          ncPRC1.1                                                         0.118342   \n",
       "          INO80                                                            0.265445   \n",
       "          Mediator                                                         0.223362   \n",
       "          NuA4 (exclusive subunits)                                         0.18251   \n",
       "          PRC2.1                                                            0.30737   \n",
       "...                                                                             ...   \n",
       "H3ac      Mitochondrial respiratory chain complex I                        0.245424   \n",
       "          ncPRC1.1 (exclusive subunits)                                    0.123038   \n",
       "          CKM                                                              0.450583   \n",
       "          mCRD-poly(A)-bridging complex                                    0.161723   \n",
       "          TFIID (exclusive subunits)                                       0.772769   \n",
       "          RNA Pol II (exclusive subunits)                                   0.13311   \n",
       "          NSL (exclusive subunits)                                         0.588101   \n",
       "          Base Excision Repair Complex (exclusive subunits)                0.106182   \n",
       "          VHL SCF-like                                                     0.187176   \n",
       "          XPC (exclusive subunits)                                         0.119242   \n",
       "          Fanconi Anemia                                                   0.231228   \n",
       "          PRC2.1 (exclusive subunits)                                      0.250365   \n",
       "          RNA Pol II                                                       0.129544   \n",
       "          B-MYB-MuvB (exclusive subunits)                                   0.25961   \n",
       "          CRL4-DDB2                                                        0.232037   \n",
       "          CDCA5-PDS5-Cohesin                                               0.278637   \n",
       "          VCB                                                              0.196195   \n",
       "          SCF                                                              0.175463   \n",
       "          CRL4-DDB2 (exclusive subunits)                                    0.25601   \n",
       "          Condensin II                                                     0.255798   \n",
       "          B-WICH (exclusive subunits)                                      0.184004   \n",
       "          PTW/PP1                                                          0.124197   \n",
       "          OST                                                              0.193035   \n",
       "          PTW/PP1 (exclusive subunits)                                      0.11791   \n",
       "          RNA Pol III                                                      0.131021   \n",
       "          RNA exosome                                                      0.221392   \n",
       "          SCF (exclusive subunits)                                         0.187541   \n",
       "          Base Excision Repair Complex                                      0.13434   \n",
       "          Nuclear pore complex                                             0.192715   \n",
       "          Nuclear pore complex (exclusive subunits)                        0.196928   \n",
       "\n",
       "                                                            mean_neg_log10_p  \\\n",
       "predictor Complex                                                              \n",
       "H3K9me3   ncPRC1.6 (exclusive subunits)                              5.90205   \n",
       "          ncPRC1.6                                                   3.58803   \n",
       "          SIN3A/B (exclusive subunits)                               3.10023   \n",
       "          PRC1                                                       3.21306   \n",
       "          CAF-1                                                      6.57454   \n",
       "          BHC                                                        3.98686   \n",
       "          HUSH                                                       4.67905   \n",
       "          SIN3A/B                                                    2.41184   \n",
       "          KAP1-SETDB1-DNMT1-ZNF304                                   5.23366   \n",
       "          SF3B                                                       1.20209   \n",
       "          INO80 (exclusive subunits)                                 1.98046   \n",
       "          KAP1-HP1                                                   4.77339   \n",
       "          B-MYB-MuvB                                                 2.64326   \n",
       "          SRCAP                                                     0.834411   \n",
       "          ORC                                                          2.776   \n",
       "          B-MYB-MuvB (exclusive subunits)                            2.75869   \n",
       "          ASAP                                                       1.05849   \n",
       "          Integrator (exclusive subunits)                            1.65188   \n",
       "          THO                                                         1.0262   \n",
       "          Integrator                                                  1.5534   \n",
       "          PRC1 (exclusive subunits)                                  2.74326   \n",
       "          PR-DUB                                                     2.53804   \n",
       "          ncPRC1                                                     2.81116   \n",
       "          TREX                                                      0.805733   \n",
       "          40S Ribosomal subunit                                     0.360907   \n",
       "          ncPRC1.1                                                   2.16988   \n",
       "          INO80                                                      1.50384   \n",
       "          Mediator                                                   1.37505   \n",
       "          NuA4 (exclusive subunits)                                  1.87512   \n",
       "          PRC2.1                                                     1.67006   \n",
       "...                                                                      ...   \n",
       "H3ac      Mitochondrial respiratory chain complex I                  1.97784   \n",
       "          ncPRC1.1 (exclusive subunits)                              2.10686   \n",
       "          CKM                                                        2.46472   \n",
       "          mCRD-poly(A)-bridging complex                              2.46798   \n",
       "          TFIID (exclusive subunits)                                 2.00755   \n",
       "          RNA Pol II (exclusive subunits)                            1.58766   \n",
       "          NSL (exclusive subunits)                                   2.20184   \n",
       "          Base Excision Repair Complex (exclusive subunits)         0.487999   \n",
       "          VHL SCF-like                                               1.89589   \n",
       "          XPC (exclusive subunits)                                    2.0788   \n",
       "          Fanconi Anemia                                             1.69417   \n",
       "          PRC2.1 (exclusive subunits)                                1.63487   \n",
       "          RNA Pol II                                                 1.29482   \n",
       "          B-MYB-MuvB (exclusive subunits)                            1.37309   \n",
       "          CRL4-DDB2                                                  1.62846   \n",
       "          CDCA5-PDS5-Cohesin                                         2.35541   \n",
       "          VCB                                                        1.64911   \n",
       "          SCF                                                        1.38558   \n",
       "          CRL4-DDB2 (exclusive subunits)                             1.29254   \n",
       "          Condensin II                                               1.60865   \n",
       "          B-WICH (exclusive subunits)                                2.84443   \n",
       "          PTW/PP1                                                   0.884504   \n",
       "          OST                                                        0.75336   \n",
       "          PTW/PP1 (exclusive subunits)                              0.824686   \n",
       "          RNA Pol III                                               0.877401   \n",
       "          RNA exosome                                                1.23379   \n",
       "          SCF (exclusive subunits)                                   1.10226   \n",
       "          Base Excision Repair Complex                               1.95392   \n",
       "          Nuclear pore complex                                       1.59493   \n",
       "          Nuclear pore complex (exclusive subunits)                  1.70128   \n",
       "\n",
       "                                                            mean_neg_log10_p_adjust  \\\n",
       "predictor Complex                                                                     \n",
       "H3K9me3   ncPRC1.6 (exclusive subunits)                                     4.16808   \n",
       "          ncPRC1.6                                                          2.40837   \n",
       "          SIN3A/B (exclusive subunits)                                      1.83574   \n",
       "          PRC1                                                              2.02485   \n",
       "          CAF-1                                                             4.69765   \n",
       "          BHC                                                               2.82245   \n",
       "          HUSH                                                              3.10424   \n",
       "          SIN3A/B                                                           1.38515   \n",
       "          KAP1-SETDB1-DNMT1-ZNF304                                          3.58788   \n",
       "          SF3B                                                             0.611724   \n",
       "          INO80 (exclusive subunits)                                        1.06178   \n",
       "          KAP1-HP1                                                          3.20332   \n",
       "          B-MYB-MuvB                                                        1.48694   \n",
       "          SRCAP                                                            0.413745   \n",
       "          ORC                                                               1.56433   \n",
       "          B-MYB-MuvB (exclusive subunits)                                    1.5606   \n",
       "          ASAP                                                             0.533489   \n",
       "          Integrator (exclusive subunits)                                  0.880203   \n",
       "          THO                                                              0.507028   \n",
       "          Integrator                                                       0.825967   \n",
       "          PRC1 (exclusive subunits)                                         1.69245   \n",
       "          PR-DUB                                                            1.44324   \n",
       "          ncPRC1                                                             1.7677   \n",
       "          TREX                                                             0.392013   \n",
       "          40S Ribosomal subunit                                            0.166288   \n",
       "          ncPRC1.1                                                           1.4126   \n",
       "          INO80                                                             0.80086   \n",
       "          Mediator                                                         0.726082   \n",
       "          NuA4 (exclusive subunits)                                         0.99826   \n",
       "          PRC2.1                                                           0.906009   \n",
       "...                                                                             ...   \n",
       "H3ac      Mitochondrial respiratory chain complex I                         1.66481   \n",
       "          ncPRC1.1 (exclusive subunits)                                     1.76991   \n",
       "          CKM                                                               2.06268   \n",
       "          mCRD-poly(A)-bridging complex                                       2.076   \n",
       "          TFIID (exclusive subunits)                                        1.68839   \n",
       "          RNA Pol II (exclusive subunits)                                   1.33786   \n",
       "          NSL (exclusive subunits)                                          1.85494   \n",
       "          Base Excision Repair Complex (exclusive subunits)                0.410318   \n",
       "          VHL SCF-like                                                      1.59547   \n",
       "          XPC (exclusive subunits)                                          1.74728   \n",
       "          Fanconi Anemia                                                    1.42845   \n",
       "          PRC2.1 (exclusive subunits)                                       1.37716   \n",
       "          RNA Pol II                                                        1.08979   \n",
       "          B-MYB-MuvB (exclusive subunits)                                   1.16048   \n",
       "          CRL4-DDB2                                                         1.36989   \n",
       "          CDCA5-PDS5-Cohesin                                                1.97977   \n",
       "          VCB                                                               1.38875   \n",
       "          SCF                                                               1.16573   \n",
       "          CRL4-DDB2 (exclusive subunits)                                    1.08797   \n",
       "          Condensin II                                                      1.35433   \n",
       "          B-WICH (exclusive subunits)                                        2.3952   \n",
       "          PTW/PP1                                                          0.747675   \n",
       "          OST                                                              0.634501   \n",
       "          PTW/PP1 (exclusive subunits)                                     0.696537   \n",
       "          RNA Pol III                                                      0.736666   \n",
       "          RNA exosome                                                       1.03811   \n",
       "          SCF (exclusive subunits)                                         0.926808   \n",
       "          Base Excision Repair Complex                                      1.63974   \n",
       "          Nuclear pore complex                                              1.34069   \n",
       "          Nuclear pore complex (exclusive subunits)                         1.43006   \n",
       "\n",
       "                                                            mean_significant  \\\n",
       "predictor Complex                                                              \n",
       "H3K9me3   ncPRC1.6 (exclusive subunits)                             0.833333   \n",
       "          ncPRC1.6                                                  0.466667   \n",
       "          SIN3A/B (exclusive subunits)                              0.444444   \n",
       "          PRC1                                                      0.555556   \n",
       "          CAF-1                                                     0.666667   \n",
       "          BHC                                                          0.375   \n",
       "          HUSH                                                          0.75   \n",
       "          SIN3A/B                                                   0.222222   \n",
       "          KAP1-SETDB1-DNMT1-ZNF304                                  0.666667   \n",
       "          SF3B                                                             0   \n",
       "          INO80 (exclusive subunits)                                       0   \n",
       "          KAP1-HP1                                                  0.666667   \n",
       "          B-MYB-MuvB                                                       0   \n",
       "          SRCAP                                                            0   \n",
       "          ORC                                                              0   \n",
       "          B-MYB-MuvB (exclusive subunits)                                  0   \n",
       "          ASAP                                                             0   \n",
       "          Integrator (exclusive subunits)                                  0   \n",
       "          THO                                                              0   \n",
       "          Integrator                                                       0   \n",
       "          PRC1 (exclusive subunits)                                      0.5   \n",
       "          PR-DUB                                                         0.2   \n",
       "          ncPRC1                                                         0.4   \n",
       "          TREX                                                             0   \n",
       "          40S Ribosomal subunit                                            0   \n",
       "          ncPRC1.1                                                  0.272727   \n",
       "          INO80                                                            0   \n",
       "          Mediator                                                         0   \n",
       "          NuA4 (exclusive subunits)                                        0   \n",
       "          PRC2.1                                                           0   \n",
       "...                                                                      ...   \n",
       "H3ac      Mitochondrial respiratory chain complex I                      0.5   \n",
       "          ncPRC1.1 (exclusive subunits)                                  0.4   \n",
       "          CKM                                                       0.333333   \n",
       "          mCRD-poly(A)-bridging complex                             0.666667   \n",
       "          TFIID (exclusive subunits)                                    0.75   \n",
       "          RNA Pol II (exclusive subunits)                           0.333333   \n",
       "          NSL (exclusive subunits)                                  0.333333   \n",
       "          Base Excision Repair Complex (exclusive subunits)                0   \n",
       "          VHL SCF-like                                                   0.5   \n",
       "          XPC (exclusive subunits)                                  0.333333   \n",
       "          Fanconi Anemia                                                   0   \n",
       "          PRC2.1 (exclusive subunits)                                    0.4   \n",
       "          RNA Pol II                                                0.272727   \n",
       "          B-MYB-MuvB (exclusive subunits)                                  0   \n",
       "          CRL4-DDB2                                                     0.25   \n",
       "          CDCA5-PDS5-Cohesin                                        0.666667   \n",
       "          VCB                                                       0.333333   \n",
       "          SCF                                                       0.333333   \n",
       "          CRL4-DDB2 (exclusive subunits)                                   0   \n",
       "          Condensin II                                                  0.25   \n",
       "          B-WICH (exclusive subunits)                               0.666667   \n",
       "          PTW/PP1                                                          0   \n",
       "          OST                                                              0   \n",
       "          PTW/PP1 (exclusive subunits)                                     0   \n",
       "          RNA Pol III                                               0.166667   \n",
       "          RNA exosome                                                    0.2   \n",
       "          SCF (exclusive subunits)                                      0.25   \n",
       "          Base Excision Repair Complex                                  0.25   \n",
       "          Nuclear pore complex                                      0.136364   \n",
       "          Nuclear pore complex (exclusive subunits)                     0.15   \n",
       "\n",
       "                                                            mean_significant_and_large_fc  \\\n",
       "predictor Complex                                                                           \n",
       "H3K9me3   ncPRC1.6 (exclusive subunits)                                               0.5   \n",
       "          ncPRC1.6                                                                    0.2   \n",
       "          SIN3A/B (exclusive subunits)                                                  0   \n",
       "          PRC1                                                                          0   \n",
       "          CAF-1                                                                  0.666667   \n",
       "          BHC                                                                       0.125   \n",
       "          HUSH                                                                       0.25   \n",
       "          SIN3A/B                                                                       0   \n",
       "          KAP1-SETDB1-DNMT1-ZNF304                                               0.666667   \n",
       "          SF3B                                                                          0   \n",
       "          INO80 (exclusive subunits)                                                    0   \n",
       "          KAP1-HP1                                                               0.666667   \n",
       "          B-MYB-MuvB                                                                    0   \n",
       "          SRCAP                                                                         0   \n",
       "          ORC                                                                           0   \n",
       "          B-MYB-MuvB (exclusive subunits)                                               0   \n",
       "          ASAP                                                                          0   \n",
       "          Integrator (exclusive subunits)                                               0   \n",
       "          THO                                                                           0   \n",
       "          Integrator                                                                    0   \n",
       "          PRC1 (exclusive subunits)                                                     0   \n",
       "          PR-DUB                                                                        0   \n",
       "          ncPRC1                                                                        0   \n",
       "          TREX                                                                          0   \n",
       "          40S Ribosomal subunit                                                         0   \n",
       "          ncPRC1.1                                                              0.0909091   \n",
       "          INO80                                                                         0   \n",
       "          Mediator                                                                      0   \n",
       "          NuA4 (exclusive subunits)                                                     0   \n",
       "          PRC2.1                                                                        0   \n",
       "...                                                                                   ...   \n",
       "H3ac      Mitochondrial respiratory chain complex I                                     0   \n",
       "          ncPRC1.1 (exclusive subunits)                                                 0   \n",
       "          CKM                                                                           0   \n",
       "          mCRD-poly(A)-bridging complex                                                 0   \n",
       "          TFIID (exclusive subunits)                                                  0.5   \n",
       "          RNA Pol II (exclusive subunits)                                               0   \n",
       "          NSL (exclusive subunits)                                               0.333333   \n",
       "          Base Excision Repair Complex (exclusive subunits)                             0   \n",
       "          VHL SCF-like                                                                  0   \n",
       "          XPC (exclusive subunits)                                                      0   \n",
       "          Fanconi Anemia                                                                0   \n",
       "          PRC2.1 (exclusive subunits)                                                   0   \n",
       "          RNA Pol II                                                                    0   \n",
       "          B-MYB-MuvB (exclusive subunits)                                               0   \n",
       "          CRL4-DDB2                                                                     0   \n",
       "          CDCA5-PDS5-Cohesin                                                            0   \n",
       "          VCB                                                                           0   \n",
       "          SCF                                                                           0   \n",
       "          CRL4-DDB2 (exclusive subunits)                                                0   \n",
       "          Condensin II                                                                  0   \n",
       "          B-WICH (exclusive subunits)                                                   0   \n",
       "          PTW/PP1                                                                       0   \n",
       "          OST                                                                           0   \n",
       "          PTW/PP1 (exclusive subunits)                                                  0   \n",
       "          RNA Pol III                                                                   0   \n",
       "          RNA exosome                                                                   0   \n",
       "          SCF (exclusive subunits)                                                      0   \n",
       "          Base Excision Repair Complex                                                  0   \n",
       "          Nuclear pore complex                                                          0   \n",
       "          Nuclear pore complex (exclusive subunits)                                     0   \n",
       "\n",
       "                                                                                                 mean_proteins  \\\n",
       "predictor Complex                                                                                                \n",
       "H3K9me3   ncPRC1.6 (exclusive subunits)                             E2F6/L3MBTL2/MAX (2)/MGA (1)/MGA (2)/PCGF6   \n",
       "          ncPRC1.6                                           E2F6/HDAC1/HDAC2/L3MBTL2/MAX (1)/MAX (2)/MGA (...   \n",
       "          SIN3A/B (exclusive subunits)                       ARID4A/ARID4B/BRMS1/BRMS1L/ING1/ING2/SAP30L/SI...   \n",
       "          PRC1                                               CBX2/CBX4/CBX8/COMMD3-BMI1/BMI1/PHC2/PHC3/RING...   \n",
       "          CAF-1                                                                            CHAF1A/CHAF1B/RBBP4   \n",
       "          BHC                                                GTF2I/HDAC1/HDAC2/HMG20B/KDM1A/PHF21A/ZMYM2/ZMYM3   \n",
       "          HUSH                                                            MPHOSPH8/PPHLN1 (1)/PPHLN1 (3)/TASOR   \n",
       "          SIN3A/B                                            ARID4A/ARID4B/BRMS1/BRMS1L/HDAC1/HDAC2/ING1/IN...   \n",
       "          KAP1-SETDB1-DNMT1-ZNF304                                                  DNMT1 (1)/DNMT1 (2)/TRIM28   \n",
       "          SF3B                                                       PHF5A/SF3B1/SF3B2/SF3B3/SF3B4/SF3B5/SF3B6   \n",
       "          INO80 (exclusive subunits)                         ACTR5/ACTR8/INO80/INO80B/INO80C/INO80D/INO80E/...   \n",
       "          KAP1-HP1                                                                            CBX3/CBX5/TRIM28   \n",
       "          B-MYB-MuvB                                                        LIN37/LIN52/LIN54/LIN9/MYBL2/RBBP4   \n",
       "          SRCAP                                              ACTL6A/ACTR6/DMAP1/RUVBL1/RUVBL2/SRCAP/VPS72/Y...   \n",
       "          ORC                                                                         ORC1/ORC2/ORC3/ORC4/ORC5   \n",
       "          B-MYB-MuvB (exclusive subunits)                                         LIN37/LIN52/LIN54/LIN9/MYBL2   \n",
       "          ASAP                                               ACIN1 (1)/ACIN1 (2)/ACIN1 (3)/ACIN1 (4)/RNPS1/...   \n",
       "          Integrator (exclusive subunits)                    INTS1/INTS10/INTS11/INTS12/INTS13/INTS14/INTS2...   \n",
       "          THO                                                              THOC1/THOC2/THOC3/THOC5/THOC6/THOC7   \n",
       "          Integrator                                         INTS1/INTS10/INTS11/INTS12/INTS13/INTS14/INTS2...   \n",
       "          PRC1 (exclusive subunits)                                             CBX2/CBX4/CBX8/PHC2/PHC3/SCML2   \n",
       "          PR-DUB                                                                  ASXL2/BAP1/FOXK1/FOXK2/KDM1B   \n",
       "          ncPRC1                                                         COMMD3-BMI1/BMI1/RING1/RNF2/RYBP/YAF2   \n",
       "          TREX                                               ALYREF (1)/ALYREF (2)/DDX39B/THOC1/THOC2/THOC3...   \n",
       "          40S Ribosomal subunit                              FAU/RPS10/RPS10-NUDT3/RPS11/RPS12/RPS13/RPS14/...   \n",
       "          ncPRC1.1                                           BCOR/BCORL1 (1)/BCORL1 (2)/KDM2B/PCGF1/RING1/R...   \n",
       "          INO80                                              ACTL6A/ACTR5/ACTR8/INO80/INO80B/INO80C/INO80D/...   \n",
       "          Mediator                                           MED1/MED10/MED11/MED14/MED15/MED17/MED19/MED20...   \n",
       "          NuA4 (exclusive subunits)                               BRD8 (1)/BRD8 (2)/EP400 (1)/EPC2/MBTD1/MRGBP   \n",
       "          PRC2.1                                             C10orf12/EED/EPOP/EZH1/EZH2/LCOR/MTF2 (1)/MTF2...   \n",
       "...                                                                                                        ...   \n",
       "H3ac      Mitochondrial respiratory chain complex I                               NDUFA5/NDUFB10/NDUFS6/NDUFS8   \n",
       "          ncPRC1.1 (exclusive subunits)                                 BCOR/BCORL1 (1)/BCORL1 (2)/KDM2B/PCGF1   \n",
       "          CKM                                                                                 CDK8/MED12/MED13   \n",
       "          mCRD-poly(A)-bridging complex                                                  HNRNPD/PABPC1/SYNCRIP   \n",
       "          TFIID (exclusive subunits)                                                 TAF1/TAF13/TAF3/TBP/TBPL2   \n",
       "          RNA Pol II (exclusive subunits)                    POLR2A/POLR2B/POLR2C/POLR2D/POLR2I/POLR2J/POLR...   \n",
       "          NSL (exclusive subunits)                                                         KANSL1/KANSL2/PHF20   \n",
       "          Base Excision Repair Complex (exclusive subunits)                           POLB/XRCC1 (1)/XRCC1 (2)   \n",
       "          VHL SCF-like                                                                      ELOB/ELOC/RBX1/VHL   \n",
       "          XPC (exclusive subunits)                                                           RAD23A/RAD23B/XPC   \n",
       "          Fanconi Anemia                                                   CENPS/CENPS-CORT/CENPX/FAAP24/FANCM   \n",
       "          PRC2.1 (exclusive subunits)                                     C10orf12/EPOP/LCOR/MTF2 (1)/MTF2 (2)   \n",
       "          RNA Pol II                                         POLR2A/POLR2B/POLR2C/POLR2D/POLR2E/POLR2F/POLR...   \n",
       "          B-MYB-MuvB (exclusive subunits)                                         LIN37/LIN52/LIN54/LIN9/MYBL2   \n",
       "          CRL4-DDB2                                                                       CUL4A/DDB1/DDB2/RBX1   \n",
       "          CDCA5-PDS5-Cohesin                                                                  CDCA5/PDS5A/SMC3   \n",
       "          VCB                                                                                    ELOB/ELOC/VHL   \n",
       "          SCF                                                               CUL1/FBXL6/FBXO11/FBXO28/RBX1/SKP1   \n",
       "          CRL4-DDB2 (exclusive subunits)                                                       CUL4A/DDB1/DDB2   \n",
       "          Condensin II                                                                 NCAPD3/NCAPH2/SMC2/SMC4   \n",
       "          B-WICH (exclusive subunits)                                                      DDX21/MYBBP1A/SIRT7   \n",
       "          PTW/PP1                                                      PPP1CA/PPP1CB/PPP1CC/PPP1R10/TOX4/WDR82   \n",
       "          OST                                                                            DDOST/RPN1/RPN2/STT3B   \n",
       "          PTW/PP1 (exclusive subunits)                                       PPP1CA/PPP1CB/PPP1CC/PPP1R10/TOX4   \n",
       "          RNA Pol III                                                POLR1C/POLR2E/POLR2F/POLR2H/POLR2K/POLR2L   \n",
       "          RNA exosome                                        EXOSC1/EXOSC10/EXOSC2 (1)/EXOSC2 (2)/EXOSC3/EX...   \n",
       "          SCF (exclusive subunits)                                                    CUL1/FBXL6/FBXO11/FBXO28   \n",
       "          Base Excision Repair Complex                                          POLB/POLE3/XRCC1 (1)/XRCC1 (2)   \n",
       "          Nuclear pore complex                               AAAS/AHCTF1/NDC1/NUP107/NUP133/NUP153/NUP188/N...   \n",
       "          Nuclear pore complex (exclusive subunits)          AAAS/AHCTF1/NDC1/NUP107/NUP133/NUP153/NUP188/N...   \n",
       "\n",
       "                                                            empirical_median  \\\n",
       "predictor Complex                                                              \n",
       "H3K9me3   ncPRC1.6 (exclusive subunits)                             0.957673   \n",
       "          ncPRC1.6                                                  0.236092   \n",
       "          SIN3A/B (exclusive subunits)                              0.227357   \n",
       "          PRC1                                                      0.256866   \n",
       "          CAF-1                                                     2.300868   \n",
       "          BHC                                                       0.225189   \n",
       "          HUSH                                                      0.697427   \n",
       "          SIN3A/B                                                   0.203865   \n",
       "          KAP1-SETDB1-DNMT1-ZNF304                                  1.042827   \n",
       "          SF3B                                                     -0.078086   \n",
       "          INO80 (exclusive subunits)                                0.412607   \n",
       "          KAP1-HP1                                                  2.595049   \n",
       "          B-MYB-MuvB                                                0.246466   \n",
       "          SRCAP                                                    -0.058774   \n",
       "          ORC                                                       1.185564   \n",
       "          B-MYB-MuvB (exclusive subunits)                           0.244352   \n",
       "          ASAP                                                     -0.116634   \n",
       "          Integrator (exclusive subunits)                           0.150208   \n",
       "          THO                                                      -0.090075   \n",
       "          Integrator                                                0.145809   \n",
       "          PRC1 (exclusive subunits)                                 0.276020   \n",
       "          PR-DUB                                                    0.309978   \n",
       "          ncPRC1                                                    0.199921   \n",
       "          TREX                                                     -0.067545   \n",
       "          40S Ribosomal subunit                                    -0.028390   \n",
       "          ncPRC1.1                                                  0.077684   \n",
       "          INO80                                                     0.341778   \n",
       "          Mediator                                                  0.163782   \n",
       "          NuA4 (exclusive subunits)                                 0.199765   \n",
       "          PRC2.1                                                    0.297521   \n",
       "...                                                                      ...   \n",
       "H3ac      Mitochondrial respiratory chain complex I                 0.317718   \n",
       "          ncPRC1.1 (exclusive subunits)                             0.114499   \n",
       "          CKM                                                       0.563079   \n",
       "          mCRD-poly(A)-bridging complex                            -0.076043   \n",
       "          TFIID (exclusive subunits)                                0.949673   \n",
       "          RNA Pol II (exclusive subunits)                           0.139089   \n",
       "          NSL (exclusive subunits)                                  0.673922   \n",
       "          Base Excision Repair Complex (exclusive subunits)        -0.003979   \n",
       "          VHL SCF-like                                              0.207157   \n",
       "          XPC (exclusive subunits)                                  0.140163   \n",
       "          Fanconi Anemia                                            0.278083   \n",
       "          PRC2.1 (exclusive subunits)                               0.253494   \n",
       "          RNA Pol II                                                0.112646   \n",
       "          B-MYB-MuvB (exclusive subunits)                           0.269241   \n",
       "          CRL4-DDB2                                                 0.248848   \n",
       "          CDCA5-PDS5-Cohesin                                        0.388742   \n",
       "          VCB                                                       0.183751   \n",
       "          SCF                                                       0.163991   \n",
       "          CRL4-DDB2 (exclusive subunits)                            0.233308   \n",
       "          Condensin II                                              0.253417   \n",
       "          B-WICH (exclusive subunits)                               0.250659   \n",
       "          PTW/PP1                                                   0.085522   \n",
       "          OST                                                       0.127763   \n",
       "          PTW/PP1 (exclusive subunits)                              0.076090   \n",
       "          RNA Pol III                                               0.053484   \n",
       "          RNA exosome                                               0.106428   \n",
       "          SCF (exclusive subunits)                                  0.131655   \n",
       "          Base Excision Repair Complex                              0.031597   \n",
       "          Nuclear pore complex                                      0.075267   \n",
       "          Nuclear pore complex (exclusive subunits)                 0.076175   \n",
       "\n",
       "                                                            empirical_median_ci_left  \\\n",
       "predictor Complex                                                                      \n",
       "H3K9me3   ncPRC1.6 (exclusive subunits)                                     0.852877   \n",
       "          ncPRC1.6                                                          0.183013   \n",
       "          SIN3A/B (exclusive subunits)                                      0.178071   \n",
       "          PRC1                                                              0.203880   \n",
       "          CAF-1                                                             1.630583   \n",
       "          BHC                                                               0.133913   \n",
       "          HUSH                                                              0.534392   \n",
       "          SIN3A/B                                                           0.162103   \n",
       "          KAP1-SETDB1-DNMT1-ZNF304                                          0.600757   \n",
       "          SF3B                                                             -0.117538   \n",
       "          INO80 (exclusive subunits)                                        0.303495   \n",
       "          KAP1-HP1                                                          1.859490   \n",
       "          B-MYB-MuvB                                                        0.185121   \n",
       "          SRCAP                                                            -0.097311   \n",
       "          ORC                                                               0.848406   \n",
       "          B-MYB-MuvB (exclusive subunits)                                   0.176473   \n",
       "          ASAP                                                             -0.184377   \n",
       "          Integrator (exclusive subunits)                                   0.105644   \n",
       "          THO                                                              -0.138340   \n",
       "          Integrator                                                        0.103565   \n",
       "          PRC1 (exclusive subunits)                                         0.187621   \n",
       "          PR-DUB                                                            0.213886   \n",
       "          ncPRC1                                                            0.106279   \n",
       "          TREX                                                             -0.115146   \n",
       "          40S Ribosomal subunit                                            -0.064240   \n",
       "          ncPRC1.1                                                          0.029804   \n",
       "          INO80                                                             0.229443   \n",
       "          Mediator                                                          0.109035   \n",
       "          NuA4 (exclusive subunits)                                         0.128087   \n",
       "          PRC2.1                                                            0.173170   \n",
       "...                                                                              ...   \n",
       "H3ac      Mitochondrial respiratory chain complex I                         0.188508   \n",
       "          ncPRC1.1 (exclusive subunits)                                     0.045462   \n",
       "          CKM                                                               0.170215   \n",
       "          mCRD-poly(A)-bridging complex                                    -0.247941   \n",
       "          TFIID (exclusive subunits)                                        0.559148   \n",
       "          RNA Pol II (exclusive subunits)                                   0.079900   \n",
       "          NSL (exclusive subunits)                                          0.223271   \n",
       "          Base Excision Repair Complex (exclusive subunits)                -0.080280   \n",
       "          VHL SCF-like                                                      0.114808   \n",
       "          XPC (exclusive subunits)                                          0.066791   \n",
       "          Fanconi Anemia                                                    0.148602   \n",
       "          PRC2.1 (exclusive subunits)                                       0.110687   \n",
       "          RNA Pol II                                                        0.059116   \n",
       "          B-MYB-MuvB (exclusive subunits)                                   0.134050   \n",
       "          CRL4-DDB2                                                         0.125236   \n",
       "          CDCA5-PDS5-Cohesin                                                0.187680   \n",
       "          VCB                                                               0.071590   \n",
       "          SCF                                                               0.069616   \n",
       "          CRL4-DDB2 (exclusive subunits)                                    0.048870   \n",
       "          Condensin II                                                      0.105105   \n",
       "          B-WICH (exclusive subunits)                                       0.068808   \n",
       "          PTW/PP1                                                           0.029704   \n",
       "          OST                                                               0.025709   \n",
       "          PTW/PP1 (exclusive subunits)                                      0.013781   \n",
       "          RNA Pol III                                                      -0.009501   \n",
       "          RNA exosome                                                       0.027428   \n",
       "          SCF (exclusive subunits)                                          0.013049   \n",
       "          Base Excision Repair Complex                                     -0.045004   \n",
       "          Nuclear pore complex                                              0.026631   \n",
       "          Nuclear pore complex (exclusive subunits)                         0.022783   \n",
       "\n",
       "                                                            empirical_median_ci_right  \\\n",
       "predictor Complex                                                                       \n",
       "H3K9me3   ncPRC1.6 (exclusive subunits)                                      1.080185   \n",
       "          ncPRC1.6                                                           0.300212   \n",
       "          SIN3A/B (exclusive subunits)                                       0.279933   \n",
       "          PRC1                                                               0.319279   \n",
       "          CAF-1                                                              2.946132   \n",
       "          BHC                                                                0.335547   \n",
       "          HUSH                                                               0.870787   \n",
       "          SIN3A/B                                                            0.244236   \n",
       "          KAP1-SETDB1-DNMT1-ZNF304                                           1.486559   \n",
       "          SF3B                                                              -0.041204   \n",
       "          INO80 (exclusive subunits)                                         0.523898   \n",
       "          KAP1-HP1                                                           3.296256   \n",
       "          B-MYB-MuvB                                                         0.307952   \n",
       "          SRCAP                                                             -0.020692   \n",
       "          ORC                                                                1.525954   \n",
       "          B-MYB-MuvB (exclusive subunits)                                    0.313131   \n",
       "          ASAP                                                              -0.051567   \n",
       "          Integrator (exclusive subunits)                                    0.196342   \n",
       "          THO                                                               -0.041875   \n",
       "          Integrator                                                         0.189238   \n",
       "          PRC1 (exclusive subunits)                                          0.357632   \n",
       "          PR-DUB                                                             0.404599   \n",
       "          ncPRC1                                                             0.256127   \n",
       "          TREX                                                              -0.017680   \n",
       "          40S Ribosomal subunit                                              0.008255   \n",
       "          ncPRC1.1                                                           0.142607   \n",
       "          INO80                                                              0.449381   \n",
       "          Mediator                                                           0.219456   \n",
       "          NuA4 (exclusive subunits)                                          0.274269   \n",
       "          PRC2.1                                                             0.423997   \n",
       "...                                                                               ...   \n",
       "H3ac      Mitochondrial respiratory chain complex I                          0.445379   \n",
       "          ncPRC1.1 (exclusive subunits)                                      0.169602   \n",
       "          CKM                                                                0.910535   \n",
       "          mCRD-poly(A)-bridging complex                                      0.129835   \n",
       "          TFIID (exclusive subunits)                                         1.330819   \n",
       "          RNA Pol II (exclusive subunits)                                    0.198052   \n",
       "          NSL (exclusive subunits)                                           1.286612   \n",
       "          Base Excision Repair Complex (exclusive subunits)                  0.082107   \n",
       "          VHL SCF-like                                                       0.301008   \n",
       "          XPC (exclusive subunits)                                           0.208361   \n",
       "          Fanconi Anemia                                                     0.407342   \n",
       "          PRC2.1 (exclusive subunits)                                        0.382159   \n",
       "          RNA Pol II                                                         0.166001   \n",
       "          B-MYB-MuvB (exclusive subunits)                                    0.404583   \n",
       "          CRL4-DDB2                                                          0.373115   \n",
       "          CDCA5-PDS5-Cohesin                                                 0.560526   \n",
       "          VCB                                                                0.300163   \n",
       "          SCF                                                                0.251880   \n",
       "          CRL4-DDB2 (exclusive subunits)                                     0.423815   \n",
       "          Condensin II                                                       0.392809   \n",
       "          B-WICH (exclusive subunits)                                        0.409000   \n",
       "          PTW/PP1                                                            0.141804   \n",
       "          OST                                                                0.231166   \n",
       "          PTW/PP1 (exclusive subunits)                                       0.137998   \n",
       "          RNA Pol III                                                        0.117320   \n",
       "          RNA exosome                                                        0.172466   \n",
       "          SCF (exclusive subunits)                                           0.244423   \n",
       "          Base Excision Repair Complex                                       0.117569   \n",
       "          Nuclear pore complex                                               0.128176   \n",
       "          Nuclear pore complex (exclusive subunits)                          0.135329   \n",
       "\n",
       "                                                            significant  \n",
       "predictor Complex                                                        \n",
       "H3K9me3   ncPRC1.6 (exclusive subunits)                            True  \n",
       "          ncPRC1.6                                                 True  \n",
       "          SIN3A/B (exclusive subunits)                             True  \n",
       "          PRC1                                                     True  \n",
       "          CAF-1                                                    True  \n",
       "          BHC                                                      True  \n",
       "          HUSH                                                     True  \n",
       "          SIN3A/B                                                  True  \n",
       "          KAP1-SETDB1-DNMT1-ZNF304                                 True  \n",
       "          SF3B                                                     True  \n",
       "          INO80 (exclusive subunits)                               True  \n",
       "          KAP1-HP1                                                 True  \n",
       "          B-MYB-MuvB                                               True  \n",
       "          SRCAP                                                    True  \n",
       "          ORC                                                      True  \n",
       "          B-MYB-MuvB (exclusive subunits)                          True  \n",
       "          ASAP                                                     True  \n",
       "          Integrator (exclusive subunits)                          True  \n",
       "          THO                                                      True  \n",
       "          Integrator                                               True  \n",
       "          PRC1 (exclusive subunits)                                True  \n",
       "          PR-DUB                                                   True  \n",
       "          ncPRC1                                                  False  \n",
       "          TREX                                                    False  \n",
       "          40S Ribosomal subunit                                   False  \n",
       "          ncPRC1.1                                                False  \n",
       "          INO80                                                   False  \n",
       "          Mediator                                                False  \n",
       "          NuA4 (exclusive subunits)                               False  \n",
       "          PRC2.1                                                  False  \n",
       "...                                                                 ...  \n",
       "H3ac      Mitochondrial respiratory chain complex I               False  \n",
       "          ncPRC1.1 (exclusive subunits)                           False  \n",
       "          CKM                                                     False  \n",
       "          mCRD-poly(A)-bridging complex                           False  \n",
       "          TFIID (exclusive subunits)                              False  \n",
       "          RNA Pol II (exclusive subunits)                         False  \n",
       "          NSL (exclusive subunits)                                False  \n",
       "          Base Excision Repair Complex (exclusive subunits)       False  \n",
       "          VHL SCF-like                                            False  \n",
       "          XPC (exclusive subunits)                                False  \n",
       "          Fanconi Anemia                                          False  \n",
       "          PRC2.1 (exclusive subunits)                             False  \n",
       "          RNA Pol II                                              False  \n",
       "          B-MYB-MuvB (exclusive subunits)                         False  \n",
       "          CRL4-DDB2                                               False  \n",
       "          CDCA5-PDS5-Cohesin                                      False  \n",
       "          VCB                                                     False  \n",
       "          SCF                                                     False  \n",
       "          CRL4-DDB2 (exclusive subunits)                          False  \n",
       "          Condensin II                                            False  \n",
       "          B-WICH (exclusive subunits)                             False  \n",
       "          PTW/PP1                                                 False  \n",
       "          OST                                                     False  \n",
       "          PTW/PP1 (exclusive subunits)                            False  \n",
       "          RNA Pol III                                             False  \n",
       "          RNA exosome                                             False  \n",
       "          SCF (exclusive subunits)                                False  \n",
       "          Base Excision Repair Complex                            False  \n",
       "          Nuclear pore complex                                    False  \n",
       "          Nuclear pore complex (exclusive subunits)               False  \n",
       "\n",
       "[1818 rows x 25 columns]"
      ]
     },
     "execution_count": 11,
     "metadata": {},
     "output_type": "execute_result"
    }
   ],
   "source": [
    "enrichment_complexes"
   ]
  },
  {
   "cell_type": "code",
   "execution_count": 12,
   "metadata": {
    "scrolled": false
   },
   "outputs": [
    {
     "name": "stderr",
     "output_type": "stream",
     "text": [
      "\r",
      "  0%|          | 0/96 [00:00<?, ?it/s]"
     ]
    },
    {
     "name": "stdout",
     "output_type": "stream",
     "text": [
      "40S Ribosomal subunit\n",
      "Skipping 40S Ribosomal subunit because it has more than 25 proteins\n",
      "AP-2 dimers\n"
     ]
    },
    {
     "name": "stderr",
     "output_type": "stream",
     "text": [
      "\r",
      "  2%|▏         | 2/96 [00:02<02:16,  1.45s/it]"
     ]
    },
    {
     "name": "stdout",
     "output_type": "stream",
     "text": [
      "APC/C\n"
     ]
    },
    {
     "name": "stderr",
     "output_type": "stream",
     "text": [
      "\r",
      "  3%|▎         | 3/96 [00:05<02:45,  1.78s/it]"
     ]
    },
    {
     "name": "stdout",
     "output_type": "stream",
     "text": [
      "ASAP\n"
     ]
    },
    {
     "name": "stderr",
     "output_type": "stream",
     "text": [
      "\r",
      "  4%|▍         | 4/96 [00:07<02:44,  1.79s/it]"
     ]
    },
    {
     "name": "stdout",
     "output_type": "stream",
     "text": [
      "ATAC\n"
     ]
    },
    {
     "name": "stderr",
     "output_type": "stream",
     "text": [
      "\r",
      "  5%|▌         | 5/96 [00:08<02:36,  1.71s/it]"
     ]
    },
    {
     "name": "stdout",
     "output_type": "stream",
     "text": [
      "ATAC (exclusive subunits)\n"
     ]
    },
    {
     "name": "stderr",
     "output_type": "stream",
     "text": [
      "\r",
      "  6%|▋         | 6/96 [00:10<02:31,  1.68s/it]"
     ]
    },
    {
     "name": "stdout",
     "output_type": "stream",
     "text": [
      "B-MYB-MuvB\n"
     ]
    },
    {
     "name": "stderr",
     "output_type": "stream",
     "text": [
      "\r",
      "  7%|▋         | 7/96 [00:11<02:26,  1.64s/it]"
     ]
    },
    {
     "name": "stdout",
     "output_type": "stream",
     "text": [
      "B-MYB-MuvB (exclusive subunits)\n"
     ]
    },
    {
     "name": "stderr",
     "output_type": "stream",
     "text": [
      "\r",
      "  8%|▊         | 8/96 [00:13<02:25,  1.66s/it]"
     ]
    },
    {
     "name": "stdout",
     "output_type": "stream",
     "text": [
      "BAF\n"
     ]
    },
    {
     "name": "stderr",
     "output_type": "stream",
     "text": [
      "\r",
      "  9%|▉         | 9/96 [00:15<02:24,  1.66s/it]"
     ]
    },
    {
     "name": "stdout",
     "output_type": "stream",
     "text": [
      "BHC\n"
     ]
    },
    {
     "name": "stderr",
     "output_type": "stream",
     "text": [
      "\r",
      " 10%|█         | 10/96 [00:16<02:23,  1.66s/it]"
     ]
    },
    {
     "name": "stdout",
     "output_type": "stream",
     "text": [
      "BRCA1-A\n"
     ]
    },
    {
     "name": "stderr",
     "output_type": "stream",
     "text": [
      "\r",
      " 11%|█▏        | 11/96 [00:18<02:22,  1.68s/it]"
     ]
    },
    {
     "name": "stdout",
     "output_type": "stream",
     "text": [
      "BRCC\n"
     ]
    },
    {
     "name": "stderr",
     "output_type": "stream",
     "text": [
      "\r",
      " 12%|█▎        | 12/96 [00:20<02:14,  1.61s/it]"
     ]
    },
    {
     "name": "stdout",
     "output_type": "stream",
     "text": [
      "BRISC\n"
     ]
    },
    {
     "name": "stderr",
     "output_type": "stream",
     "text": [
      "\r",
      " 14%|█▎        | 13/96 [00:21<02:08,  1.54s/it]"
     ]
    },
    {
     "name": "stdout",
     "output_type": "stream",
     "text": [
      "Base Excision Repair Complex (exclusive subunits)\n"
     ]
    },
    {
     "name": "stderr",
     "output_type": "stream",
     "text": [
      "\r",
      " 15%|█▍        | 14/96 [00:23<02:06,  1.54s/it]"
     ]
    },
    {
     "name": "stdout",
     "output_type": "stream",
     "text": [
      "CAF-1\n"
     ]
    },
    {
     "name": "stderr",
     "output_type": "stream",
     "text": [
      "\r",
      " 16%|█▌        | 15/96 [00:24<02:03,  1.52s/it]"
     ]
    },
    {
     "name": "stdout",
     "output_type": "stream",
     "text": [
      "CHRAC\n"
     ]
    },
    {
     "name": "stderr",
     "output_type": "stream",
     "text": [
      "\r",
      " 17%|█▋        | 16/96 [00:26<02:04,  1.56s/it]"
     ]
    },
    {
     "name": "stdout",
     "output_type": "stream",
     "text": [
      "CtBP\n"
     ]
    },
    {
     "name": "stderr",
     "output_type": "stream",
     "text": [
      "\r",
      " 18%|█▊        | 17/96 [00:27<02:02,  1.56s/it]"
     ]
    },
    {
     "name": "stdout",
     "output_type": "stream",
     "text": [
      "EBAFA/B\n"
     ]
    },
    {
     "name": "stderr",
     "output_type": "stream",
     "text": [
      "\r",
      " 19%|█▉        | 18/96 [00:29<02:02,  1.57s/it]"
     ]
    },
    {
     "name": "stdout",
     "output_type": "stream",
     "text": [
      "EMSY\n"
     ]
    },
    {
     "name": "stderr",
     "output_type": "stream",
     "text": [
      "\r",
      " 20%|█▉        | 19/96 [00:31<02:10,  1.69s/it]"
     ]
    },
    {
     "name": "stdout",
     "output_type": "stream",
     "text": [
      "EMSY (exclusive subunits)\n"
     ]
    },
    {
     "name": "stderr",
     "output_type": "stream",
     "text": [
      "\r",
      " 21%|██        | 20/96 [00:34<02:43,  2.15s/it]"
     ]
    },
    {
     "name": "stdout",
     "output_type": "stream",
     "text": [
      "Fanconi Anemia\n"
     ]
    },
    {
     "name": "stderr",
     "output_type": "stream",
     "text": [
      "\r",
      " 22%|██▏       | 21/96 [00:36<02:40,  2.13s/it]"
     ]
    },
    {
     "name": "stdout",
     "output_type": "stream",
     "text": [
      "GBAF\n"
     ]
    },
    {
     "name": "stderr",
     "output_type": "stream",
     "text": [
      "\r",
      " 23%|██▎       | 22/96 [00:38<02:31,  2.05s/it]"
     ]
    },
    {
     "name": "stdout",
     "output_type": "stream",
     "text": [
      "GBAF (exclusive subunits)\n",
      "Skipping GBAF (exclusive subunits) because it does not match quality criteria\n",
      "HBO1\n"
     ]
    },
    {
     "name": "stderr",
     "output_type": "stream",
     "text": [
      "\r",
      " 25%|██▌       | 24/96 [00:40<02:00,  1.68s/it]"
     ]
    },
    {
     "name": "stdout",
     "output_type": "stream",
     "text": [
      "HBO1 (exclusive subunits)\n"
     ]
    },
    {
     "name": "stderr",
     "output_type": "stream",
     "text": [
      "\r",
      " 26%|██▌       | 25/96 [00:41<01:55,  1.63s/it]"
     ]
    },
    {
     "name": "stdout",
     "output_type": "stream",
     "text": [
      "HDAC-ELMSAN1-DNTTIP1\n"
     ]
    },
    {
     "name": "stderr",
     "output_type": "stream",
     "text": [
      "\r",
      " 27%|██▋       | 26/96 [00:43<01:53,  1.62s/it]"
     ]
    },
    {
     "name": "stdout",
     "output_type": "stream",
     "text": [
      "HUSH\n"
     ]
    },
    {
     "name": "stderr",
     "output_type": "stream",
     "text": [
      "\r",
      " 28%|██▊       | 27/96 [00:44<01:53,  1.64s/it]"
     ]
    },
    {
     "name": "stdout",
     "output_type": "stream",
     "text": [
      "INO80\n"
     ]
    },
    {
     "name": "stderr",
     "output_type": "stream",
     "text": [
      "\r",
      " 29%|██▉       | 28/96 [00:46<01:50,  1.62s/it]"
     ]
    },
    {
     "name": "stdout",
     "output_type": "stream",
     "text": [
      "INO80 (exclusive subunits)\n"
     ]
    },
    {
     "name": "stderr",
     "output_type": "stream",
     "text": [
      "\r",
      " 30%|███       | 29/96 [00:48<01:47,  1.61s/it]"
     ]
    },
    {
     "name": "stdout",
     "output_type": "stream",
     "text": [
      "Integrator\n"
     ]
    },
    {
     "name": "stderr",
     "output_type": "stream",
     "text": [
      "\r",
      " 31%|███▏      | 30/96 [00:49<01:49,  1.66s/it]"
     ]
    },
    {
     "name": "stdout",
     "output_type": "stream",
     "text": [
      "Integrator (exclusive subunits)\n"
     ]
    },
    {
     "name": "stderr",
     "output_type": "stream",
     "text": [
      "\r",
      " 32%|███▏      | 31/96 [00:51<01:44,  1.61s/it]"
     ]
    },
    {
     "name": "stdout",
     "output_type": "stream",
     "text": [
      "KAP1-HP1\n"
     ]
    },
    {
     "name": "stderr",
     "output_type": "stream",
     "text": [
      "\r",
      " 33%|███▎      | 32/96 [00:52<01:42,  1.61s/it]"
     ]
    },
    {
     "name": "stdout",
     "output_type": "stream",
     "text": [
      "KAP1-SETDB1-DNMT1-ZNF304\n",
      "Skipping KAP1-SETDB1-DNMT1-ZNF304 because it does not match quality criteria\n",
      "LSD-CoREST\n"
     ]
    },
    {
     "name": "stderr",
     "output_type": "stream",
     "text": [
      "\r",
      " 35%|███▌      | 34/96 [00:54<01:25,  1.38s/it]"
     ]
    },
    {
     "name": "stdout",
     "output_type": "stream",
     "text": [
      "MLL1/2\n"
     ]
    },
    {
     "name": "stderr",
     "output_type": "stream",
     "text": [
      "\r",
      " 36%|███▋      | 35/96 [00:56<01:29,  1.47s/it]"
     ]
    },
    {
     "name": "stdout",
     "output_type": "stream",
     "text": [
      "MLL1/2 (exclusive subunits)\n"
     ]
    },
    {
     "name": "stderr",
     "output_type": "stream",
     "text": [
      "\r",
      " 38%|███▊      | 36/96 [00:57<01:28,  1.48s/it]"
     ]
    },
    {
     "name": "stdout",
     "output_type": "stream",
     "text": [
      "MLL3/4\n"
     ]
    },
    {
     "name": "stderr",
     "output_type": "stream",
     "text": [
      "\r",
      " 39%|███▊      | 37/96 [00:59<01:30,  1.54s/it]"
     ]
    },
    {
     "name": "stdout",
     "output_type": "stream",
     "text": [
      "MLL3/4 (exclusive subunits)\n"
     ]
    },
    {
     "name": "stderr",
     "output_type": "stream",
     "text": [
      "\r",
      " 40%|███▉      | 38/96 [01:01<01:31,  1.57s/it]"
     ]
    },
    {
     "name": "stdout",
     "output_type": "stream",
     "text": [
      "MOZ/MORF\n"
     ]
    },
    {
     "name": "stderr",
     "output_type": "stream",
     "text": [
      "\r",
      " 41%|████      | 39/96 [01:03<01:38,  1.72s/it]"
     ]
    },
    {
     "name": "stdout",
     "output_type": "stream",
     "text": [
      "MRN\n"
     ]
    },
    {
     "name": "stderr",
     "output_type": "stream",
     "text": [
      "\r",
      " 42%|████▏     | 40/96 [01:04<01:33,  1.66s/it]"
     ]
    },
    {
     "name": "stdout",
     "output_type": "stream",
     "text": [
      "MSL\n"
     ]
    },
    {
     "name": "stderr",
     "output_type": "stream",
     "text": [
      "\r",
      " 43%|████▎     | 41/96 [01:06<01:28,  1.61s/it]"
     ]
    },
    {
     "name": "stdout",
     "output_type": "stream",
     "text": [
      "Mediator\n"
     ]
    },
    {
     "name": "stderr",
     "output_type": "stream",
     "text": [
      "\r",
      " 44%|████▍     | 42/96 [01:07<01:25,  1.59s/it]"
     ]
    },
    {
     "name": "stdout",
     "output_type": "stream",
     "text": [
      "N-CoR1\n"
     ]
    },
    {
     "name": "stderr",
     "output_type": "stream",
     "text": [
      "\r",
      " 45%|████▍     | 43/96 [01:09<01:24,  1.59s/it]"
     ]
    },
    {
     "name": "stdout",
     "output_type": "stream",
     "text": [
      "N-CoR2\n"
     ]
    },
    {
     "name": "stderr",
     "output_type": "stream",
     "text": [
      "\r",
      " 46%|████▌     | 44/96 [01:10<01:22,  1.59s/it]"
     ]
    },
    {
     "name": "stdout",
     "output_type": "stream",
     "text": [
      "NSL\n"
     ]
    },
    {
     "name": "stderr",
     "output_type": "stream",
     "text": [
      "\r",
      " 47%|████▋     | 45/96 [01:12<01:23,  1.63s/it]"
     ]
    },
    {
     "name": "stdout",
     "output_type": "stream",
     "text": [
      "NSL (exclusive subunits)\n"
     ]
    },
    {
     "name": "stderr",
     "output_type": "stream",
     "text": [
      "\r",
      " 48%|████▊     | 46/96 [01:14<01:21,  1.63s/it]"
     ]
    },
    {
     "name": "stdout",
     "output_type": "stream",
     "text": [
      "NuA4\n"
     ]
    },
    {
     "name": "stderr",
     "output_type": "stream",
     "text": [
      "\r",
      " 49%|████▉     | 47/96 [01:15<01:20,  1.64s/it]"
     ]
    },
    {
     "name": "stdout",
     "output_type": "stream",
     "text": [
      "NuA4 (exclusive subunits)\n"
     ]
    },
    {
     "name": "stderr",
     "output_type": "stream",
     "text": [
      "\r",
      " 50%|█████     | 48/96 [01:17<01:23,  1.74s/it]"
     ]
    },
    {
     "name": "stdout",
     "output_type": "stream",
     "text": [
      "NuRD\n"
     ]
    },
    {
     "name": "stderr",
     "output_type": "stream",
     "text": [
      "\r",
      " 51%|█████     | 49/96 [01:19<01:21,  1.73s/it]"
     ]
    },
    {
     "name": "stdout",
     "output_type": "stream",
     "text": [
      "NuRD (exclusive subunits)\n"
     ]
    },
    {
     "name": "stderr",
     "output_type": "stream",
     "text": [
      "\r",
      " 52%|█████▏    | 50/96 [01:21<01:24,  1.84s/it]"
     ]
    },
    {
     "name": "stdout",
     "output_type": "stream",
     "text": [
      "NuRF\n"
     ]
    },
    {
     "name": "stderr",
     "output_type": "stream",
     "text": [
      "\r",
      " 53%|█████▎    | 51/96 [01:23<01:25,  1.90s/it]"
     ]
    },
    {
     "name": "stdout",
     "output_type": "stream",
     "text": [
      "Nuclear cap-binding complex\n"
     ]
    },
    {
     "name": "stderr",
     "output_type": "stream",
     "text": [
      "\r",
      " 54%|█████▍    | 52/96 [01:28<01:58,  2.69s/it]"
     ]
    },
    {
     "name": "stdout",
     "output_type": "stream",
     "text": [
      "ORC\n"
     ]
    },
    {
     "name": "stderr",
     "output_type": "stream",
     "text": [
      "\r",
      " 55%|█████▌    | 53/96 [01:30<01:45,  2.46s/it]"
     ]
    },
    {
     "name": "stdout",
     "output_type": "stream",
     "text": [
      "PBAF\n"
     ]
    },
    {
     "name": "stderr",
     "output_type": "stream",
     "text": [
      "\r",
      " 56%|█████▋    | 54/96 [01:32<01:37,  2.33s/it]"
     ]
    },
    {
     "name": "stdout",
     "output_type": "stream",
     "text": [
      "PBAF (exclusive subunits)\n"
     ]
    },
    {
     "name": "stderr",
     "output_type": "stream",
     "text": [
      "\r",
      " 57%|█████▋    | 55/96 [01:34<01:33,  2.27s/it]"
     ]
    },
    {
     "name": "stdout",
     "output_type": "stream",
     "text": [
      "PCAF\n"
     ]
    },
    {
     "name": "stderr",
     "output_type": "stream",
     "text": [
      "\r",
      " 58%|█████▊    | 56/96 [01:36<01:25,  2.13s/it]"
     ]
    },
    {
     "name": "stdout",
     "output_type": "stream",
     "text": [
      "PR-DUB\n"
     ]
    },
    {
     "name": "stderr",
     "output_type": "stream",
     "text": [
      "\r",
      " 59%|█████▉    | 57/96 [01:37<01:19,  2.04s/it]"
     ]
    },
    {
     "name": "stdout",
     "output_type": "stream",
     "text": [
      "PRC1\n"
     ]
    },
    {
     "name": "stderr",
     "output_type": "stream",
     "text": [
      "\r",
      " 60%|██████    | 58/96 [01:40<01:17,  2.03s/it]"
     ]
    },
    {
     "name": "stdout",
     "output_type": "stream",
     "text": [
      "PRC1 (exclusive subunits)\n"
     ]
    },
    {
     "name": "stderr",
     "output_type": "stream",
     "text": [
      "\r",
      " 61%|██████▏   | 59/96 [01:41<01:11,  1.93s/it]"
     ]
    },
    {
     "name": "stdout",
     "output_type": "stream",
     "text": [
      "PRC2.1\n"
     ]
    },
    {
     "name": "stderr",
     "output_type": "stream",
     "text": [
      "\r",
      " 62%|██████▎   | 60/96 [01:43<01:06,  1.84s/it]"
     ]
    },
    {
     "name": "stdout",
     "output_type": "stream",
     "text": [
      "PRC2.1 (exclusive subunits)\n"
     ]
    },
    {
     "name": "stderr",
     "output_type": "stream",
     "text": [
      "\r",
      " 64%|██████▎   | 61/96 [01:45<01:04,  1.85s/it]"
     ]
    },
    {
     "name": "stdout",
     "output_type": "stream",
     "text": [
      "PRC2.2\n"
     ]
    },
    {
     "name": "stderr",
     "output_type": "stream",
     "text": [
      "\r",
      " 65%|██████▍   | 62/96 [01:46<01:01,  1.82s/it]"
     ]
    },
    {
     "name": "stdout",
     "output_type": "stream",
     "text": [
      "PSAP\n"
     ]
    },
    {
     "name": "stderr",
     "output_type": "stream",
     "text": [
      "\r",
      " 66%|██████▌   | 63/96 [01:49<01:03,  1.92s/it]"
     ]
    },
    {
     "name": "stdout",
     "output_type": "stream",
     "text": [
      "Paf1C\n"
     ]
    },
    {
     "name": "stderr",
     "output_type": "stream",
     "text": [
      "\r",
      " 67%|██████▋   | 64/96 [01:50<00:56,  1.76s/it]"
     ]
    },
    {
     "name": "stdout",
     "output_type": "stream",
     "text": [
      "Piccolo NuA4\n"
     ]
    },
    {
     "name": "stderr",
     "output_type": "stream",
     "text": [
      "\r",
      " 68%|██████▊   | 65/96 [01:52<00:52,  1.69s/it]"
     ]
    },
    {
     "name": "stdout",
     "output_type": "stream",
     "text": [
      "RFC\n"
     ]
    },
    {
     "name": "stderr",
     "output_type": "stream",
     "text": [
      "\r",
      " 69%|██████▉   | 66/96 [01:53<00:49,  1.66s/it]"
     ]
    },
    {
     "name": "stdout",
     "output_type": "stream",
     "text": [
      "RMI/BLM\n"
     ]
    },
    {
     "name": "stderr",
     "output_type": "stream",
     "text": [
      "\r",
      " 70%|██████▉   | 67/96 [01:55<00:48,  1.66s/it]"
     ]
    },
    {
     "name": "stdout",
     "output_type": "stream",
     "text": [
      "RNA Pol II\n"
     ]
    },
    {
     "name": "stderr",
     "output_type": "stream",
     "text": [
      "\r",
      " 71%|███████   | 68/96 [01:57<00:47,  1.69s/it]"
     ]
    },
    {
     "name": "stdout",
     "output_type": "stream",
     "text": [
      "RNA Pol II (exclusive subunits)\n"
     ]
    },
    {
     "name": "stderr",
     "output_type": "stream",
     "text": [
      "\r",
      " 72%|███████▏  | 69/96 [01:58<00:45,  1.69s/it]"
     ]
    },
    {
     "name": "stdout",
     "output_type": "stream",
     "text": [
      "RNA Pol III\n"
     ]
    },
    {
     "name": "stderr",
     "output_type": "stream",
     "text": [
      "\r",
      " 73%|███████▎  | 70/96 [02:00<00:43,  1.67s/it]"
     ]
    },
    {
     "name": "stdout",
     "output_type": "stream",
     "text": [
      "RPA\n"
     ]
    },
    {
     "name": "stderr",
     "output_type": "stream",
     "text": [
      "\r",
      " 74%|███████▍  | 71/96 [02:02<00:45,  1.84s/it]"
     ]
    },
    {
     "name": "stdout",
     "output_type": "stream",
     "text": [
      "SAGA\n"
     ]
    },
    {
     "name": "stderr",
     "output_type": "stream",
     "text": [
      "\r",
      " 75%|███████▌  | 72/96 [02:04<00:43,  1.81s/it]"
     ]
    },
    {
     "name": "stdout",
     "output_type": "stream",
     "text": [
      "SCF\n"
     ]
    },
    {
     "name": "stderr",
     "output_type": "stream",
     "text": [
      "\r",
      " 76%|███████▌  | 73/96 [02:06<00:40,  1.78s/it]"
     ]
    },
    {
     "name": "stdout",
     "output_type": "stream",
     "text": [
      "SET1A/B\n"
     ]
    },
    {
     "name": "stderr",
     "output_type": "stream",
     "text": [
      "\r",
      " 77%|███████▋  | 74/96 [02:07<00:38,  1.77s/it]"
     ]
    },
    {
     "name": "stdout",
     "output_type": "stream",
     "text": [
      "SF3B\n"
     ]
    },
    {
     "name": "stderr",
     "output_type": "stream",
     "text": [
      "\r",
      " 78%|███████▊  | 75/96 [02:09<00:35,  1.71s/it]"
     ]
    },
    {
     "name": "stdout",
     "output_type": "stream",
     "text": [
      "SIN3A/B\n"
     ]
    },
    {
     "name": "stderr",
     "output_type": "stream",
     "text": [
      "\r",
      " 79%|███████▉  | 76/96 [02:11<00:34,  1.72s/it]"
     ]
    },
    {
     "name": "stdout",
     "output_type": "stream",
     "text": [
      "SIN3A/B (exclusive subunits)\n"
     ]
    },
    {
     "name": "stderr",
     "output_type": "stream",
     "text": [
      "\r",
      " 80%|████████  | 77/96 [02:12<00:32,  1.69s/it]"
     ]
    },
    {
     "name": "stdout",
     "output_type": "stream",
     "text": [
      "SLF1/2-RAD18\n"
     ]
    },
    {
     "name": "stderr",
     "output_type": "stream",
     "text": [
      "\r",
      " 81%|████████▏ | 78/96 [02:14<00:29,  1.64s/it]"
     ]
    },
    {
     "name": "stdout",
     "output_type": "stream",
     "text": [
      "SNARP\n"
     ]
    },
    {
     "name": "stderr",
     "output_type": "stream",
     "text": [
      "\r",
      " 82%|████████▏ | 79/96 [02:16<00:31,  1.85s/it]"
     ]
    },
    {
     "name": "stdout",
     "output_type": "stream",
     "text": [
      "SRCAP\n"
     ]
    },
    {
     "name": "stderr",
     "output_type": "stream",
     "text": [
      "\r",
      " 83%|████████▎ | 80/96 [02:18<00:28,  1.76s/it]"
     ]
    },
    {
     "name": "stdout",
     "output_type": "stream",
     "text": [
      "Shelterin\n"
     ]
    },
    {
     "name": "stderr",
     "output_type": "stream",
     "text": [
      "\r",
      " 84%|████████▍ | 81/96 [02:19<00:25,  1.68s/it]"
     ]
    },
    {
     "name": "stdout",
     "output_type": "stream",
     "text": [
      "Shelterin (exclusive subunits)\n"
     ]
    },
    {
     "name": "stderr",
     "output_type": "stream",
     "text": [
      "\r",
      " 85%|████████▌ | 82/96 [02:21<00:23,  1.66s/it]"
     ]
    },
    {
     "name": "stdout",
     "output_type": "stream",
     "text": [
      "TFIID\n"
     ]
    },
    {
     "name": "stderr",
     "output_type": "stream",
     "text": [
      "\r",
      " 86%|████████▋ | 83/96 [02:23<00:22,  1.71s/it]"
     ]
    },
    {
     "name": "stdout",
     "output_type": "stream",
     "text": [
      "TFTC\n"
     ]
    },
    {
     "name": "stderr",
     "output_type": "stream",
     "text": [
      "\r",
      " 88%|████████▊ | 84/96 [02:24<00:20,  1.71s/it]"
     ]
    },
    {
     "name": "stdout",
     "output_type": "stream",
     "text": [
      "THO\n"
     ]
    },
    {
     "name": "stderr",
     "output_type": "stream",
     "text": [
      "\r",
      " 89%|████████▊ | 85/96 [02:26<00:17,  1.64s/it]"
     ]
    },
    {
     "name": "stdout",
     "output_type": "stream",
     "text": [
      "TREX\n"
     ]
    },
    {
     "name": "stderr",
     "output_type": "stream",
     "text": [
      "\r",
      " 90%|████████▉ | 86/96 [02:27<00:15,  1.58s/it]"
     ]
    },
    {
     "name": "stdout",
     "output_type": "stream",
     "text": [
      "XPC\n"
     ]
    },
    {
     "name": "stderr",
     "output_type": "stream",
     "text": [
      "\r",
      " 91%|█████████ | 87/96 [02:29<00:13,  1.54s/it]"
     ]
    },
    {
     "name": "stdout",
     "output_type": "stream",
     "text": [
      "XPC (exclusive subunits)\n"
     ]
    },
    {
     "name": "stderr",
     "output_type": "stream",
     "text": [
      "\r",
      " 92%|█████████▏| 88/96 [02:30<00:12,  1.50s/it]"
     ]
    },
    {
     "name": "stdout",
     "output_type": "stream",
     "text": [
      "ZAP3\n"
     ]
    },
    {
     "name": "stderr",
     "output_type": "stream",
     "text": [
      "\r",
      " 93%|█████████▎| 89/96 [02:32<00:10,  1.51s/it]"
     ]
    },
    {
     "name": "stdout",
     "output_type": "stream",
     "text": [
      "ZAP3 (exclusive subunits)\n"
     ]
    },
    {
     "name": "stderr",
     "output_type": "stream",
     "text": [
      "\r",
      " 94%|█████████▍| 90/96 [02:33<00:09,  1.57s/it]"
     ]
    },
    {
     "name": "stdout",
     "output_type": "stream",
     "text": [
      "ncPRC1\n"
     ]
    },
    {
     "name": "stderr",
     "output_type": "stream",
     "text": [
      "\r",
      " 95%|█████████▍| 91/96 [02:35<00:08,  1.61s/it]"
     ]
    },
    {
     "name": "stdout",
     "output_type": "stream",
     "text": [
      "ncPRC1.1\n"
     ]
    },
    {
     "name": "stderr",
     "output_type": "stream",
     "text": [
      "\r",
      " 96%|█████████▌| 92/96 [02:37<00:06,  1.71s/it]"
     ]
    },
    {
     "name": "stdout",
     "output_type": "stream",
     "text": [
      "ncPRC1.1 (exclusive subunits)\n"
     ]
    },
    {
     "name": "stderr",
     "output_type": "stream",
     "text": [
      "\r",
      " 97%|█████████▋| 93/96 [02:39<00:05,  1.72s/it]"
     ]
    },
    {
     "name": "stdout",
     "output_type": "stream",
     "text": [
      "ncPRC1.3/5\n"
     ]
    },
    {
     "name": "stderr",
     "output_type": "stream",
     "text": [
      "\r",
      " 98%|█████████▊| 94/96 [02:41<00:03,  1.79s/it]"
     ]
    },
    {
     "name": "stdout",
     "output_type": "stream",
     "text": [
      "ncPRC1.6\n"
     ]
    },
    {
     "name": "stderr",
     "output_type": "stream",
     "text": [
      "\r",
      " 99%|█████████▉| 95/96 [02:43<00:01,  1.86s/it]"
     ]
    },
    {
     "name": "stdout",
     "output_type": "stream",
     "text": [
      "ncPRC1.6 (exclusive subunits)\n"
     ]
    },
    {
     "name": "stderr",
     "output_type": "stream",
     "text": [
      "100%|██████████| 96/96 [02:44<00:00,  1.80s/it]\n"
     ]
    }
   ],
   "source": [
    "import re\n",
    "\n",
    "complexes_to_plot = sorted(enrichment_complexes.reset_index().query('significant')['Complex'].unique())\n",
    "\n",
    "max_proteins = 25\n",
    "\n",
    "for complex_ in tqdm(complexes_to_plot):\n",
    "    \n",
    "    # Title of plot\n",
    "    name = complex_\n",
    "    complex_filename = re.sub('[^a-zA-Z0-9]+', '_', complex_).lower()\n",
    "    filename = f'barplot-{complex_filename}.pdf'\n",
    "    \n",
    "    print(complex_)\n",
    "    \n",
    "    proteins = members_of(complex_)\n",
    "    \n",
    "    if len(proteins) > max_proteins:\n",
    "        print(f'Skipping {complex_} because it has more than {max_proteins} proteins')\n",
    "        continue\n",
    "        \n",
    "    df = limma_results.loc(axis=0)[:, proteins]\n",
    "    \n",
    "    if (df.groupby(level='predictor').size() > 2).sum() < 10:\n",
    "        print(f'Skipping {complex_} because it does not match quality criteria')\n",
    "        continue\n",
    "   \n",
    "\n",
    "    # PLOT\n",
    "    fig = plt.figure(figsize=(5, 6.45), \n",
    "                     constrained_layout=True)\n",
    "\n",
    "    n_groups = len(GROUPED_ORDER)\n",
    "\n",
    "    spec = gridspec.GridSpec(ncols=1,\n",
    "                             nrows=n_groups, \n",
    "                             figure=fig,\n",
    "                             height_ratios=[len(x) for x in GROUPED_ORDER])\n",
    "\n",
    "    ax = None\n",
    "    for i, predictor_subgroup in enumerate(GROUPED_ORDER):\n",
    "        ax = fig.add_subplot(spec[i, :], sharex=ax)\n",
    "\n",
    "        medians = []\n",
    "        ci = []\n",
    "\n",
    "\n",
    "        subgroup_df = df.loc[predictor_subgroup]\n",
    "        \n",
    "        significant_predictors = set()\n",
    "\n",
    "        for predictor in predictor_subgroup:\n",
    "            \n",
    "            try:\n",
    "                subdf = subgroup_df.loc[predictor]\n",
    "                subdf_enrichment = enrichment_complexes.loc[predictor, complex_]\n",
    "            except KeyError:\n",
    "                medians.append(0)\n",
    "                ci.append([0, 0])\n",
    "                \n",
    "                continue\n",
    "            \n",
    "            \n",
    "            mu = subdf_enrichment['empirical_median']\n",
    "            ci_low = subdf_enrichment['empirical_median_ci_left']\n",
    "            ci_high = subdf_enrichment['empirical_median_ci_right']\n",
    "            \n",
    "            if subdf_enrichment['significant']:\n",
    "                significant_predictors.add(predictor)\n",
    "            \n",
    "            err_low = mu - ci_low\n",
    "            err_high = ci_high - mu\n",
    "\n",
    "            medians.append(mu)\n",
    "            ci.append([err_low, err_high])\n",
    "\n",
    "\n",
    "        for y, (predictor, mu, ci) in enumerate(zip(predictor_subgroup, medians, ci)):\n",
    "            ax.barh(y, mu, \n",
    "                    xerr=np.atleast_2d(ci).T,\n",
    "                    color=palette[predictor],\n",
    "                    error_kw=dict(elinewidth=3, capsize=5, capthick=2),\n",
    "                    edgecolor='black', linewidth=1.0)\n",
    "        \n",
    "     \n",
    "        for significant, subsubgroup_df in subgroup_df.groupby('significant'):\n",
    "        \n",
    "            sns.stripplot(y='predictor', x='logFC',\n",
    "                          hue='predictor',\n",
    "                          hue_order=predictor_subgroup,\n",
    "                          dodge=False,\n",
    "                          palette=palette,\n",
    "                          order=predictor_subgroup,\n",
    "                          size=5,\n",
    "                          alpha=.8,\n",
    "                          edgecolor='black',\n",
    "                          linewidth=1.0,\n",
    "                          jitter=0.25,\n",
    "                          marker='o' if significant else 'X',\n",
    "                          ax=ax, data=subsubgroup_df.reset_index())\n",
    "\n",
    "    #     ax.axvline(0, color='#666666')\n",
    "        ax.legend_.set_visible(False)\n",
    "\n",
    "        ax.set_ylabel('')\n",
    "        \n",
    "        ax.yaxis.set_tick_params(length=0, labelsize=10)\n",
    "        ax.xaxis.set_tick_params(length=0)\n",
    "        \n",
    "        for predictor, tick in zip(predictor_subgroup, ax.get_yticklabels()):\n",
    "            if predictor in significant_predictors:\n",
    "                tick.set_fontweight('bold')\n",
    "\n",
    "        if i != n_groups-1:\n",
    "            sns.despine(left=True, bottom=True, offset=5, ax=ax)\n",
    "            for tic in ax.xaxis.get_major_ticks():\n",
    "                tic.tick1On = tic.tick2On = False\n",
    "                tic.label1On = tic.label2On = False\n",
    "            ax.set_xlabel('')\n",
    "        else:\n",
    "            sns.despine(left=True, bottom=False, offset=5, ax=ax)\n",
    "            ax.set_xlabel('Change to H/L ratio attributed to modification', \n",
    "                          fontsize=10)\n",
    "\n",
    "        if i == 0:\n",
    "            ax.set_title(name, fontsize=10)\n",
    "\n",
    "\n",
    "    fig.savefig(os.path.join(OUTPUT_DIRECTORY_BARPLOTS, filename), \n",
    "                bbox_inches='tight')\n",
    "    plt.close()\n",
    "#     break\n"
   ]
  },
  {
   "cell_type": "code",
   "execution_count": 13,
   "metadata": {},
   "outputs": [
    {
     "data": {
      "text/plain": [
       "['INO80', 'INO80 (exclusive subunits)']"
      ]
     },
     "execution_count": 13,
     "metadata": {},
     "output_type": "execute_result"
    }
   ],
   "source": [
    "[c for c in complexes_to_plot if 'ino80' in c.lower()]"
   ]
  },
  {
   "cell_type": "code",
   "execution_count": 14,
   "metadata": {
    "scrolled": false
   },
   "outputs": [
    {
     "name": "stderr",
     "output_type": "stream",
     "text": [
      "\r",
      "  0%|          | 0/96 [00:00<?, ?it/s]"
     ]
    },
    {
     "name": "stdout",
     "output_type": "stream",
     "text": [
      "40S Ribosomal subunit\n",
      "Skipping 40S Ribosomal subunit because it has more than 25 proteins\n",
      "AP-2 dimers\n"
     ]
    },
    {
     "name": "stderr",
     "output_type": "stream",
     "text": [
      "\r",
      "  2%|▏         | 2/96 [00:02<01:40,  1.07s/it]"
     ]
    },
    {
     "name": "stdout",
     "output_type": "stream",
     "text": [
      "APC/C\n"
     ]
    },
    {
     "name": "stderr",
     "output_type": "stream",
     "text": [
      "\r",
      "  3%|▎         | 3/96 [00:06<03:15,  2.10s/it]"
     ]
    },
    {
     "name": "stdout",
     "output_type": "stream",
     "text": [
      "ASAP\n"
     ]
    },
    {
     "name": "stderr",
     "output_type": "stream",
     "text": [
      "\r",
      "  4%|▍         | 4/96 [00:09<03:23,  2.21s/it]"
     ]
    },
    {
     "name": "stdout",
     "output_type": "stream",
     "text": [
      "ATAC\n"
     ]
    },
    {
     "name": "stderr",
     "output_type": "stream",
     "text": [
      "\r",
      "  5%|▌         | 5/96 [00:11<03:29,  2.30s/it]"
     ]
    },
    {
     "name": "stdout",
     "output_type": "stream",
     "text": [
      "ATAC (exclusive subunits)\n"
     ]
    },
    {
     "name": "stderr",
     "output_type": "stream",
     "text": [
      "\r",
      "  6%|▋         | 6/96 [00:13<03:24,  2.28s/it]"
     ]
    },
    {
     "name": "stdout",
     "output_type": "stream",
     "text": [
      "B-MYB-MuvB\n"
     ]
    },
    {
     "name": "stderr",
     "output_type": "stream",
     "text": [
      "\r",
      "  7%|▋         | 7/96 [00:16<03:24,  2.30s/it]"
     ]
    },
    {
     "name": "stdout",
     "output_type": "stream",
     "text": [
      "B-MYB-MuvB (exclusive subunits)\n"
     ]
    },
    {
     "name": "stderr",
     "output_type": "stream",
     "text": [
      "\r",
      "  8%|▊         | 8/96 [00:18<03:16,  2.23s/it]"
     ]
    },
    {
     "name": "stdout",
     "output_type": "stream",
     "text": [
      "BAF\n"
     ]
    },
    {
     "name": "stderr",
     "output_type": "stream",
     "text": [
      "\r",
      "  9%|▉         | 9/96 [00:20<03:04,  2.12s/it]"
     ]
    },
    {
     "name": "stdout",
     "output_type": "stream",
     "text": [
      "BHC\n"
     ]
    },
    {
     "name": "stderr",
     "output_type": "stream",
     "text": [
      "\r",
      " 10%|█         | 10/96 [00:21<02:49,  1.97s/it]"
     ]
    },
    {
     "name": "stdout",
     "output_type": "stream",
     "text": [
      "BRCA1-A\n"
     ]
    },
    {
     "name": "stderr",
     "output_type": "stream",
     "text": [
      "\r",
      " 11%|█▏        | 11/96 [00:23<02:32,  1.80s/it]"
     ]
    },
    {
     "name": "stdout",
     "output_type": "stream",
     "text": [
      "BRCC\n"
     ]
    },
    {
     "name": "stderr",
     "output_type": "stream",
     "text": [
      "\r",
      " 12%|█▎        | 12/96 [00:24<02:21,  1.69s/it]"
     ]
    },
    {
     "name": "stdout",
     "output_type": "stream",
     "text": [
      "BRISC\n"
     ]
    },
    {
     "name": "stderr",
     "output_type": "stream",
     "text": [
      "\r",
      " 14%|█▎        | 13/96 [00:25<02:12,  1.60s/it]"
     ]
    },
    {
     "name": "stdout",
     "output_type": "stream",
     "text": [
      "Base Excision Repair Complex (exclusive subunits)\n"
     ]
    },
    {
     "name": "stderr",
     "output_type": "stream",
     "text": [
      "\r",
      " 15%|█▍        | 14/96 [00:27<02:14,  1.65s/it]"
     ]
    },
    {
     "name": "stdout",
     "output_type": "stream",
     "text": [
      "CAF-1\n"
     ]
    },
    {
     "name": "stderr",
     "output_type": "stream",
     "text": [
      "\r",
      " 16%|█▌        | 15/96 [00:29<02:08,  1.59s/it]"
     ]
    },
    {
     "name": "stdout",
     "output_type": "stream",
     "text": [
      "CHRAC\n"
     ]
    },
    {
     "name": "stderr",
     "output_type": "stream",
     "text": [
      "\r",
      " 17%|█▋        | 16/96 [00:30<02:05,  1.57s/it]"
     ]
    },
    {
     "name": "stdout",
     "output_type": "stream",
     "text": [
      "CtBP\n"
     ]
    },
    {
     "name": "stderr",
     "output_type": "stream",
     "text": [
      "\r",
      " 18%|█▊        | 17/96 [00:32<02:10,  1.65s/it]"
     ]
    },
    {
     "name": "stdout",
     "output_type": "stream",
     "text": [
      "EBAFA/B\n"
     ]
    },
    {
     "name": "stderr",
     "output_type": "stream",
     "text": [
      "\r",
      " 19%|█▉        | 18/96 [00:35<02:30,  1.93s/it]"
     ]
    },
    {
     "name": "stdout",
     "output_type": "stream",
     "text": [
      "EMSY\n"
     ]
    },
    {
     "name": "stderr",
     "output_type": "stream",
     "text": [
      "\r",
      " 20%|█▉        | 19/96 [00:37<02:36,  2.04s/it]"
     ]
    },
    {
     "name": "stdout",
     "output_type": "stream",
     "text": [
      "EMSY (exclusive subunits)\n"
     ]
    },
    {
     "name": "stderr",
     "output_type": "stream",
     "text": [
      "\r",
      " 21%|██        | 20/96 [00:39<02:39,  2.10s/it]"
     ]
    },
    {
     "name": "stdout",
     "output_type": "stream",
     "text": [
      "Fanconi Anemia\n"
     ]
    },
    {
     "name": "stderr",
     "output_type": "stream",
     "text": [
      "\r",
      " 22%|██▏       | 21/96 [00:41<02:33,  2.04s/it]"
     ]
    },
    {
     "name": "stdout",
     "output_type": "stream",
     "text": [
      "GBAF\n"
     ]
    },
    {
     "name": "stderr",
     "output_type": "stream",
     "text": [
      "\r",
      " 23%|██▎       | 22/96 [00:43<02:34,  2.09s/it]"
     ]
    },
    {
     "name": "stdout",
     "output_type": "stream",
     "text": [
      "GBAF (exclusive subunits)\n",
      "Skipping GBAF (exclusive subunits) because it does not match quality criteria\n",
      "HBO1\n"
     ]
    },
    {
     "name": "stderr",
     "output_type": "stream",
     "text": [
      "\r",
      " 25%|██▌       | 24/96 [00:45<02:06,  1.76s/it]"
     ]
    },
    {
     "name": "stdout",
     "output_type": "stream",
     "text": [
      "HBO1 (exclusive subunits)\n"
     ]
    },
    {
     "name": "stderr",
     "output_type": "stream",
     "text": [
      "\r",
      " 26%|██▌       | 25/96 [00:47<02:07,  1.80s/it]"
     ]
    },
    {
     "name": "stdout",
     "output_type": "stream",
     "text": [
      "HDAC-ELMSAN1-DNTTIP1\n"
     ]
    },
    {
     "name": "stderr",
     "output_type": "stream",
     "text": [
      "\r",
      " 27%|██▋       | 26/96 [00:49<02:09,  1.85s/it]"
     ]
    },
    {
     "name": "stdout",
     "output_type": "stream",
     "text": [
      "HUSH\n"
     ]
    },
    {
     "name": "stderr",
     "output_type": "stream",
     "text": [
      "\r",
      " 28%|██▊       | 27/96 [00:51<02:01,  1.76s/it]"
     ]
    },
    {
     "name": "stdout",
     "output_type": "stream",
     "text": [
      "INO80\n"
     ]
    },
    {
     "name": "stderr",
     "output_type": "stream",
     "text": [
      "\r",
      " 29%|██▉       | 28/96 [00:53<02:04,  1.84s/it]"
     ]
    },
    {
     "name": "stdout",
     "output_type": "stream",
     "text": [
      "INO80 (exclusive subunits)\n"
     ]
    },
    {
     "name": "stderr",
     "output_type": "stream",
     "text": [
      "\r",
      " 30%|███       | 29/96 [00:55<02:04,  1.86s/it]"
     ]
    },
    {
     "name": "stdout",
     "output_type": "stream",
     "text": [
      "Integrator\n"
     ]
    },
    {
     "name": "stderr",
     "output_type": "stream",
     "text": [
      "\r",
      " 31%|███▏      | 30/96 [00:57<02:07,  1.94s/it]"
     ]
    },
    {
     "name": "stdout",
     "output_type": "stream",
     "text": [
      "Integrator (exclusive subunits)\n"
     ]
    },
    {
     "name": "stderr",
     "output_type": "stream",
     "text": [
      "\r",
      " 32%|███▏      | 31/96 [00:59<02:07,  1.96s/it]"
     ]
    },
    {
     "name": "stdout",
     "output_type": "stream",
     "text": [
      "KAP1-HP1\n"
     ]
    },
    {
     "name": "stderr",
     "output_type": "stream",
     "text": [
      "\r",
      " 33%|███▎      | 32/96 [01:01<02:08,  2.00s/it]"
     ]
    },
    {
     "name": "stdout",
     "output_type": "stream",
     "text": [
      "KAP1-SETDB1-DNMT1-ZNF304\n",
      "Skipping KAP1-SETDB1-DNMT1-ZNF304 because it does not match quality criteria\n",
      "LSD-CoREST\n"
     ]
    },
    {
     "name": "stderr",
     "output_type": "stream",
     "text": [
      "\r",
      " 35%|███▌      | 34/96 [01:03<01:45,  1.70s/it]"
     ]
    },
    {
     "name": "stdout",
     "output_type": "stream",
     "text": [
      "MLL1/2\n"
     ]
    },
    {
     "name": "stderr",
     "output_type": "stream",
     "text": [
      "\r",
      " 36%|███▋      | 35/96 [01:06<02:05,  2.05s/it]"
     ]
    },
    {
     "name": "stdout",
     "output_type": "stream",
     "text": [
      "MLL1/2 (exclusive subunits)\n"
     ]
    },
    {
     "name": "stderr",
     "output_type": "stream",
     "text": [
      "\r",
      " 38%|███▊      | 36/96 [01:08<02:01,  2.02s/it]"
     ]
    },
    {
     "name": "stdout",
     "output_type": "stream",
     "text": [
      "MLL3/4\n"
     ]
    },
    {
     "name": "stderr",
     "output_type": "stream",
     "text": [
      "\r",
      " 39%|███▊      | 37/96 [01:09<01:53,  1.93s/it]"
     ]
    },
    {
     "name": "stdout",
     "output_type": "stream",
     "text": [
      "MLL3/4 (exclusive subunits)\n"
     ]
    },
    {
     "name": "stderr",
     "output_type": "stream",
     "text": [
      "\r",
      " 40%|███▉      | 38/96 [01:11<01:49,  1.89s/it]"
     ]
    },
    {
     "name": "stdout",
     "output_type": "stream",
     "text": [
      "MOZ/MORF\n"
     ]
    },
    {
     "name": "stderr",
     "output_type": "stream",
     "text": [
      "\r",
      " 41%|████      | 39/96 [01:13<01:51,  1.96s/it]"
     ]
    },
    {
     "name": "stdout",
     "output_type": "stream",
     "text": [
      "MRN\n"
     ]
    },
    {
     "name": "stderr",
     "output_type": "stream",
     "text": [
      "\r",
      " 42%|████▏     | 40/96 [01:15<01:46,  1.91s/it]"
     ]
    },
    {
     "name": "stdout",
     "output_type": "stream",
     "text": [
      "MSL\n"
     ]
    },
    {
     "name": "stderr",
     "output_type": "stream",
     "text": [
      "\r",
      " 43%|████▎     | 41/96 [01:17<01:47,  1.95s/it]"
     ]
    },
    {
     "name": "stdout",
     "output_type": "stream",
     "text": [
      "Mediator\n"
     ]
    },
    {
     "name": "stderr",
     "output_type": "stream",
     "text": [
      "\r",
      " 44%|████▍     | 42/96 [01:20<01:54,  2.12s/it]"
     ]
    },
    {
     "name": "stdout",
     "output_type": "stream",
     "text": [
      "N-CoR1\n"
     ]
    },
    {
     "name": "stderr",
     "output_type": "stream",
     "text": [
      "\r",
      " 45%|████▍     | 43/96 [01:22<01:52,  2.13s/it]"
     ]
    },
    {
     "name": "stdout",
     "output_type": "stream",
     "text": [
      "N-CoR2\n"
     ]
    },
    {
     "name": "stderr",
     "output_type": "stream",
     "text": [
      "\r",
      " 46%|████▌     | 44/96 [01:24<01:45,  2.03s/it]"
     ]
    },
    {
     "name": "stdout",
     "output_type": "stream",
     "text": [
      "NSL\n"
     ]
    },
    {
     "name": "stderr",
     "output_type": "stream",
     "text": [
      "\r",
      " 47%|████▋     | 45/96 [01:26<01:56,  2.29s/it]"
     ]
    },
    {
     "name": "stdout",
     "output_type": "stream",
     "text": [
      "NSL (exclusive subunits)\n"
     ]
    },
    {
     "name": "stderr",
     "output_type": "stream",
     "text": [
      "\r",
      " 48%|████▊     | 46/96 [01:28<01:48,  2.18s/it]"
     ]
    },
    {
     "name": "stdout",
     "output_type": "stream",
     "text": [
      "NuA4\n"
     ]
    },
    {
     "name": "stderr",
     "output_type": "stream",
     "text": [
      "\r",
      " 49%|████▉     | 47/96 [01:31<01:55,  2.36s/it]"
     ]
    },
    {
     "name": "stdout",
     "output_type": "stream",
     "text": [
      "NuA4 (exclusive subunits)\n"
     ]
    },
    {
     "name": "stderr",
     "output_type": "stream",
     "text": [
      "\r",
      " 50%|█████     | 48/96 [01:33<01:46,  2.22s/it]"
     ]
    },
    {
     "name": "stdout",
     "output_type": "stream",
     "text": [
      "NuRD\n"
     ]
    },
    {
     "name": "stderr",
     "output_type": "stream",
     "text": [
      "\r",
      " 51%|█████     | 49/96 [01:35<01:40,  2.13s/it]"
     ]
    },
    {
     "name": "stdout",
     "output_type": "stream",
     "text": [
      "NuRD (exclusive subunits)\n"
     ]
    },
    {
     "name": "stderr",
     "output_type": "stream",
     "text": [
      "\r",
      " 52%|█████▏    | 50/96 [01:37<01:31,  1.99s/it]"
     ]
    },
    {
     "name": "stdout",
     "output_type": "stream",
     "text": [
      "NuRF\n"
     ]
    },
    {
     "name": "stderr",
     "output_type": "stream",
     "text": [
      "\r",
      " 53%|█████▎    | 51/96 [01:39<01:41,  2.25s/it]"
     ]
    },
    {
     "name": "stdout",
     "output_type": "stream",
     "text": [
      "Nuclear cap-binding complex\n"
     ]
    },
    {
     "name": "stderr",
     "output_type": "stream",
     "text": [
      "\r",
      " 54%|█████▍    | 52/96 [01:41<01:35,  2.17s/it]"
     ]
    },
    {
     "name": "stdout",
     "output_type": "stream",
     "text": [
      "ORC\n"
     ]
    },
    {
     "name": "stderr",
     "output_type": "stream",
     "text": [
      "\r",
      " 55%|█████▌    | 53/96 [01:44<01:37,  2.26s/it]"
     ]
    },
    {
     "name": "stdout",
     "output_type": "stream",
     "text": [
      "PBAF\n"
     ]
    },
    {
     "name": "stderr",
     "output_type": "stream",
     "text": [
      "\r",
      " 56%|█████▋    | 54/96 [01:46<01:29,  2.14s/it]"
     ]
    },
    {
     "name": "stdout",
     "output_type": "stream",
     "text": [
      "PBAF (exclusive subunits)\n"
     ]
    },
    {
     "name": "stderr",
     "output_type": "stream",
     "text": [
      "\r",
      " 57%|█████▋    | 55/96 [01:48<01:25,  2.09s/it]"
     ]
    },
    {
     "name": "stdout",
     "output_type": "stream",
     "text": [
      "PCAF\n"
     ]
    },
    {
     "name": "stderr",
     "output_type": "stream",
     "text": [
      "\r",
      " 58%|█████▊    | 56/96 [01:50<01:29,  2.23s/it]"
     ]
    },
    {
     "name": "stdout",
     "output_type": "stream",
     "text": [
      "PR-DUB\n"
     ]
    },
    {
     "name": "stderr",
     "output_type": "stream",
     "text": [
      "\r",
      " 59%|█████▉    | 57/96 [01:52<01:20,  2.08s/it]"
     ]
    },
    {
     "name": "stdout",
     "output_type": "stream",
     "text": [
      "PRC1\n"
     ]
    },
    {
     "name": "stderr",
     "output_type": "stream",
     "text": [
      "\r",
      " 60%|██████    | 58/96 [01:54<01:21,  2.15s/it]"
     ]
    },
    {
     "name": "stdout",
     "output_type": "stream",
     "text": [
      "PRC1 (exclusive subunits)\n"
     ]
    },
    {
     "name": "stderr",
     "output_type": "stream",
     "text": [
      "\r",
      " 61%|██████▏   | 59/96 [01:57<01:23,  2.26s/it]"
     ]
    },
    {
     "name": "stdout",
     "output_type": "stream",
     "text": [
      "PRC2.1\n"
     ]
    },
    {
     "name": "stderr",
     "output_type": "stream",
     "text": [
      "\r",
      " 62%|██████▎   | 60/96 [01:59<01:17,  2.15s/it]"
     ]
    },
    {
     "name": "stdout",
     "output_type": "stream",
     "text": [
      "PRC2.1 (exclusive subunits)\n"
     ]
    },
    {
     "name": "stderr",
     "output_type": "stream",
     "text": [
      "\r",
      " 64%|██████▎   | 61/96 [02:00<01:09,  2.00s/it]"
     ]
    },
    {
     "name": "stdout",
     "output_type": "stream",
     "text": [
      "PRC2.2\n"
     ]
    },
    {
     "name": "stderr",
     "output_type": "stream",
     "text": [
      "\r",
      " 65%|██████▍   | 62/96 [02:03<01:09,  2.04s/it]"
     ]
    },
    {
     "name": "stdout",
     "output_type": "stream",
     "text": [
      "PSAP\n"
     ]
    },
    {
     "name": "stderr",
     "output_type": "stream",
     "text": [
      "\r",
      " 66%|██████▌   | 63/96 [02:05<01:11,  2.16s/it]"
     ]
    },
    {
     "name": "stdout",
     "output_type": "stream",
     "text": [
      "Paf1C\n"
     ]
    },
    {
     "name": "stderr",
     "output_type": "stream",
     "text": [
      "\r",
      " 67%|██████▋   | 64/96 [02:07<01:07,  2.12s/it]"
     ]
    },
    {
     "name": "stdout",
     "output_type": "stream",
     "text": [
      "Piccolo NuA4\n"
     ]
    },
    {
     "name": "stderr",
     "output_type": "stream",
     "text": [
      "\r",
      " 68%|██████▊   | 65/96 [02:09<01:00,  1.94s/it]"
     ]
    },
    {
     "name": "stdout",
     "output_type": "stream",
     "text": [
      "RFC\n"
     ]
    },
    {
     "name": "stderr",
     "output_type": "stream",
     "text": [
      "\r",
      " 69%|██████▉   | 66/96 [02:11<00:59,  1.99s/it]"
     ]
    },
    {
     "name": "stdout",
     "output_type": "stream",
     "text": [
      "RMI/BLM\n"
     ]
    },
    {
     "name": "stderr",
     "output_type": "stream",
     "text": [
      "\r",
      " 70%|██████▉   | 67/96 [02:12<00:56,  1.94s/it]"
     ]
    },
    {
     "name": "stdout",
     "output_type": "stream",
     "text": [
      "RNA Pol II\n"
     ]
    },
    {
     "name": "stderr",
     "output_type": "stream",
     "text": [
      "\r",
      " 71%|███████   | 68/96 [02:17<01:14,  2.67s/it]"
     ]
    },
    {
     "name": "stdout",
     "output_type": "stream",
     "text": [
      "RNA Pol II (exclusive subunits)\n"
     ]
    },
    {
     "name": "stderr",
     "output_type": "stream",
     "text": [
      "\r",
      " 72%|███████▏  | 69/96 [02:20<01:12,  2.70s/it]"
     ]
    },
    {
     "name": "stdout",
     "output_type": "stream",
     "text": [
      "RNA Pol III\n"
     ]
    },
    {
     "name": "stderr",
     "output_type": "stream",
     "text": [
      "\r",
      " 73%|███████▎  | 70/96 [02:22<01:04,  2.46s/it]"
     ]
    },
    {
     "name": "stdout",
     "output_type": "stream",
     "text": [
      "RPA\n"
     ]
    },
    {
     "name": "stderr",
     "output_type": "stream",
     "text": [
      "\r",
      " 74%|███████▍  | 71/96 [02:24<01:02,  2.48s/it]"
     ]
    },
    {
     "name": "stdout",
     "output_type": "stream",
     "text": [
      "SAGA\n"
     ]
    },
    {
     "name": "stderr",
     "output_type": "stream",
     "text": [
      "\r",
      " 75%|███████▌  | 72/96 [02:27<00:59,  2.48s/it]"
     ]
    },
    {
     "name": "stdout",
     "output_type": "stream",
     "text": [
      "SCF\n"
     ]
    },
    {
     "name": "stderr",
     "output_type": "stream",
     "text": [
      "\r",
      " 76%|███████▌  | 73/96 [02:30<01:04,  2.81s/it]"
     ]
    },
    {
     "name": "stdout",
     "output_type": "stream",
     "text": [
      "SET1A/B\n"
     ]
    },
    {
     "name": "stderr",
     "output_type": "stream",
     "text": [
      "\r",
      " 77%|███████▋  | 74/96 [02:33<00:59,  2.70s/it]"
     ]
    },
    {
     "name": "stdout",
     "output_type": "stream",
     "text": [
      "SF3B\n"
     ]
    },
    {
     "name": "stderr",
     "output_type": "stream",
     "text": [
      "\r",
      " 78%|███████▊  | 75/96 [02:34<00:51,  2.45s/it]"
     ]
    },
    {
     "name": "stdout",
     "output_type": "stream",
     "text": [
      "SIN3A/B\n"
     ]
    },
    {
     "name": "stderr",
     "output_type": "stream",
     "text": [
      "\r",
      " 79%|███████▉  | 76/96 [02:36<00:44,  2.24s/it]"
     ]
    },
    {
     "name": "stdout",
     "output_type": "stream",
     "text": [
      "SIN3A/B (exclusive subunits)\n"
     ]
    },
    {
     "name": "stderr",
     "output_type": "stream",
     "text": [
      "\r",
      " 80%|████████  | 77/96 [02:38<00:39,  2.08s/it]"
     ]
    },
    {
     "name": "stdout",
     "output_type": "stream",
     "text": [
      "SLF1/2-RAD18\n"
     ]
    },
    {
     "name": "stderr",
     "output_type": "stream",
     "text": [
      "\r",
      " 81%|████████▏ | 78/96 [02:39<00:34,  1.91s/it]"
     ]
    },
    {
     "name": "stdout",
     "output_type": "stream",
     "text": [
      "SNARP\n"
     ]
    },
    {
     "name": "stderr",
     "output_type": "stream",
     "text": [
      "\r",
      " 82%|████████▏ | 79/96 [02:41<00:30,  1.81s/it]"
     ]
    },
    {
     "name": "stdout",
     "output_type": "stream",
     "text": [
      "SRCAP\n"
     ]
    },
    {
     "name": "stderr",
     "output_type": "stream",
     "text": [
      "\r",
      " 83%|████████▎ | 80/96 [02:43<00:27,  1.72s/it]"
     ]
    },
    {
     "name": "stdout",
     "output_type": "stream",
     "text": [
      "Shelterin\n"
     ]
    },
    {
     "name": "stderr",
     "output_type": "stream",
     "text": [
      "\r",
      " 84%|████████▍ | 81/96 [02:44<00:25,  1.68s/it]"
     ]
    },
    {
     "name": "stdout",
     "output_type": "stream",
     "text": [
      "Shelterin (exclusive subunits)\n"
     ]
    },
    {
     "name": "stderr",
     "output_type": "stream",
     "text": [
      "\r",
      " 85%|████████▌ | 82/96 [02:46<00:22,  1.63s/it]"
     ]
    },
    {
     "name": "stdout",
     "output_type": "stream",
     "text": [
      "TFIID\n"
     ]
    },
    {
     "name": "stderr",
     "output_type": "stream",
     "text": [
      "\r",
      " 86%|████████▋ | 83/96 [02:47<00:21,  1.65s/it]"
     ]
    },
    {
     "name": "stdout",
     "output_type": "stream",
     "text": [
      "TFTC\n"
     ]
    },
    {
     "name": "stderr",
     "output_type": "stream",
     "text": [
      "\r",
      " 88%|████████▊ | 84/96 [02:49<00:20,  1.67s/it]"
     ]
    },
    {
     "name": "stdout",
     "output_type": "stream",
     "text": [
      "THO\n"
     ]
    },
    {
     "name": "stderr",
     "output_type": "stream",
     "text": [
      "\r",
      " 89%|████████▊ | 85/96 [02:51<00:20,  1.83s/it]"
     ]
    },
    {
     "name": "stdout",
     "output_type": "stream",
     "text": [
      "TREX\n"
     ]
    },
    {
     "name": "stderr",
     "output_type": "stream",
     "text": [
      "\r",
      " 90%|████████▉ | 86/96 [02:53<00:17,  1.79s/it]"
     ]
    },
    {
     "name": "stdout",
     "output_type": "stream",
     "text": [
      "XPC\n"
     ]
    },
    {
     "name": "stderr",
     "output_type": "stream",
     "text": [
      "\r",
      " 91%|█████████ | 87/96 [02:55<00:15,  1.74s/it]"
     ]
    },
    {
     "name": "stdout",
     "output_type": "stream",
     "text": [
      "XPC (exclusive subunits)\n"
     ]
    },
    {
     "name": "stderr",
     "output_type": "stream",
     "text": [
      "\r",
      " 92%|█████████▏| 88/96 [02:57<00:15,  1.97s/it]"
     ]
    },
    {
     "name": "stdout",
     "output_type": "stream",
     "text": [
      "ZAP3\n"
     ]
    },
    {
     "name": "stderr",
     "output_type": "stream",
     "text": [
      "\r",
      " 93%|█████████▎| 89/96 [02:59<00:13,  1.95s/it]"
     ]
    },
    {
     "name": "stdout",
     "output_type": "stream",
     "text": [
      "ZAP3 (exclusive subunits)\n"
     ]
    },
    {
     "name": "stderr",
     "output_type": "stream",
     "text": [
      "\r",
      " 94%|█████████▍| 90/96 [03:01<00:11,  1.84s/it]"
     ]
    },
    {
     "name": "stdout",
     "output_type": "stream",
     "text": [
      "ncPRC1\n"
     ]
    },
    {
     "name": "stderr",
     "output_type": "stream",
     "text": [
      "\r",
      " 95%|█████████▍| 91/96 [03:02<00:09,  1.84s/it]"
     ]
    },
    {
     "name": "stdout",
     "output_type": "stream",
     "text": [
      "ncPRC1.1\n"
     ]
    },
    {
     "name": "stderr",
     "output_type": "stream",
     "text": [
      "\r",
      " 96%|█████████▌| 92/96 [03:04<00:07,  1.80s/it]"
     ]
    },
    {
     "name": "stdout",
     "output_type": "stream",
     "text": [
      "ncPRC1.1 (exclusive subunits)\n"
     ]
    },
    {
     "name": "stderr",
     "output_type": "stream",
     "text": [
      "\r",
      " 97%|█████████▋| 93/96 [03:06<00:05,  1.78s/it]"
     ]
    },
    {
     "name": "stdout",
     "output_type": "stream",
     "text": [
      "ncPRC1.3/5\n"
     ]
    },
    {
     "name": "stderr",
     "output_type": "stream",
     "text": [
      "\r",
      " 98%|█████████▊| 94/96 [03:08<00:03,  1.77s/it]"
     ]
    },
    {
     "name": "stdout",
     "output_type": "stream",
     "text": [
      "ncPRC1.6\n"
     ]
    },
    {
     "name": "stderr",
     "output_type": "stream",
     "text": [
      "\r",
      " 99%|█████████▉| 95/96 [03:09<00:01,  1.79s/it]"
     ]
    },
    {
     "name": "stdout",
     "output_type": "stream",
     "text": [
      "ncPRC1.6 (exclusive subunits)\n"
     ]
    },
    {
     "name": "stderr",
     "output_type": "stream",
     "text": [
      "100%|██████████| 96/96 [03:11<00:00,  1.75s/it]\n"
     ]
    }
   ],
   "source": [
    "import re\n",
    "\n",
    "complexes_to_plot = sorted(enrichment_complexes.reset_index().query('significant')['Complex'].unique())\n",
    "\n",
    "max_proteins = 25\n",
    "\n",
    "for complex_ in tqdm(complexes_to_plot):\n",
    "    \n",
    "    # Title of plot\n",
    "    name = complex_\n",
    "    complex_filename = re.sub('[^a-zA-Z0-9]+', '_', complex_).lower()\n",
    "    filename = f'barplot-horizontal-{complex_filename}.pdf'\n",
    "    \n",
    "    print(complex_)\n",
    "    \n",
    "    proteins = members_of(complex_)\n",
    "    \n",
    "    if len(proteins) > max_proteins:\n",
    "        print(f'Skipping {complex_} because it has more than {max_proteins} proteins')\n",
    "        continue\n",
    "        \n",
    "    df = limma_results.loc(axis=0)[:, proteins]\n",
    "    \n",
    "    if (df.groupby(level='predictor').size() > 2).sum() < 10:\n",
    "        print(f'Skipping {complex_} because it does not match quality criteria')\n",
    "        continue\n",
    "   \n",
    "\n",
    "    # PLOT\n",
    "    fig = plt.figure(figsize=(6.25, 4.3), \n",
    "                     constrained_layout=True)\n",
    "\n",
    "    n_groups = len(GROUPED_ORDER)\n",
    "\n",
    "    spec = gridspec.GridSpec(ncols=n_groups,\n",
    "                             nrows=1, \n",
    "                             figure=fig,\n",
    "                             width_ratios=[len(x) for x in GROUPED_ORDER])\n",
    "\n",
    "    ax = None\n",
    "    for i, predictor_subgroup in enumerate(GROUPED_ORDER):\n",
    "        ax = fig.add_subplot(spec[:, i], sharey=ax)\n",
    "\n",
    "        medians = []\n",
    "        ci = []\n",
    "\n",
    "\n",
    "        subgroup_df = df.loc[predictor_subgroup]\n",
    "        \n",
    "        significant_predictors = set()\n",
    "\n",
    "        for predictor in predictor_subgroup:\n",
    "            \n",
    "            try:\n",
    "                subdf = subgroup_df.loc[predictor]\n",
    "                subdf_enrichment = enrichment_complexes.loc[predictor, complex_]\n",
    "            except KeyError:\n",
    "                medians.append(0)\n",
    "                ci.append([0, 0])\n",
    "                \n",
    "                continue\n",
    "            \n",
    "            \n",
    "            mu = subdf_enrichment['empirical_median']\n",
    "            ci_low = subdf_enrichment['empirical_median_ci_left']\n",
    "            ci_high = subdf_enrichment['empirical_median_ci_right']\n",
    "            \n",
    "            if subdf_enrichment['significant']:\n",
    "                significant_predictors.add(predictor)\n",
    "            \n",
    "            err_low = mu - ci_low\n",
    "            err_high = ci_high - mu\n",
    "\n",
    "            medians.append(mu)\n",
    "            ci.append([err_low, err_high])\n",
    "\n",
    "\n",
    "        for y, (predictor, mu, ci) in enumerate(zip(predictor_subgroup, medians, ci)):\n",
    "            ax.bar(y, mu, \n",
    "                   yerr=np.atleast_2d(ci).T,\n",
    "                   color=palette[predictor],\n",
    "                   error_kw=dict(elinewidth=3, capsize=5, capthick=2),\n",
    "                   edgecolor='black', linewidth=1.0)\n",
    "        \n",
    "     \n",
    "        for significant, subsubgroup_df in subgroup_df.groupby('significant'):\n",
    "        \n",
    "            sns.stripplot(x='predictor', y='logFC',\n",
    "                          hue='predictor',\n",
    "                          hue_order=predictor_subgroup,\n",
    "                          dodge=False,\n",
    "                          palette=palette,\n",
    "                          order=predictor_subgroup,\n",
    "                          size=5,\n",
    "                          alpha=.8,\n",
    "                          edgecolor='black',\n",
    "                          linewidth=1.0,\n",
    "                          jitter=0.25,\n",
    "                          marker='o' if significant else 'X',\n",
    "                          ax=ax, data=subsubgroup_df.reset_index())\n",
    "\n",
    "    #     ax.axvline(0, color='#666666')\n",
    "        ax.legend_.set_visible(False)\n",
    "\n",
    "        ax.set_xlabel('')\n",
    "        \n",
    "        ax.xaxis.set_tick_params(length=0, labelsize=10, rotation=90)\n",
    "        ax.yaxis.set_tick_params(length=0)\n",
    "        \n",
    "        for predictor, tick in zip(predictor_subgroup, ax.get_xticklabels()):\n",
    "            if predictor in significant_predictors:\n",
    "                tick.set_fontweight('bold')\n",
    "\n",
    "        if i != 0:\n",
    "            sns.despine(left=True, bottom=True, offset=5, ax=ax)\n",
    "            for tic in ax.yaxis.get_major_ticks():\n",
    "                tic.tick1On = tic.tick2On = False\n",
    "                tic.label1On = tic.label2On = False\n",
    "            ax.set_ylabel('')\n",
    "        else:\n",
    "            sns.despine(left=False, bottom=True, offset=5, ax=ax)\n",
    "            ax.set_ylabel('Change to H/L ratio attributed to modification', \n",
    "                          fontsize=10)\n",
    "\n",
    "    fig.suptitle(name, fontsize=10)\n",
    "\n",
    "\n",
    "    fig.savefig(os.path.join(OUTPUT_DIRECTORY_BARPLOTS, filename), \n",
    "                bbox_inches='tight')\n",
    "    plt.close()\n",
    "#     break\n"
   ]
  },
  {
   "cell_type": "code",
   "execution_count": null,
   "metadata": {},
   "outputs": [],
   "source": []
  }
 ],
 "metadata": {
  "kernelspec": {
   "display_name": "Python 3",
   "language": "python",
   "name": "python3"
  },
  "language_info": {
   "codemirror_mode": {
    "name": "ipython",
    "version": 3
   },
   "file_extension": ".py",
   "mimetype": "text/x-python",
   "name": "python",
   "nbconvert_exporter": "python",
   "pygments_lexer": "ipython3",
   "version": "3.6.10"
  }
 },
 "nbformat": 4,
 "nbformat_minor": 2
}
